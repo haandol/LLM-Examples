{
 "cells": [
  {
   "cell_type": "markdown",
   "id": "7b7e2ed0-4c0a-45d8-9098-ab5541c7da9c",
   "metadata": {},
   "source": [
    "# HyDE - Hypothetical Document Embeddings\n",
    "\n",
    "- [HyDE: Precise Zero-Shot Dense Retrieval without Relevance Labels](https://github.com/texttron/hyde)\n",
    "- HyDE creates a \"Hypothetical\" answer with the LLM and then embeds that for search\n",
    "\n",
    "![](https://github.com/texttron/hyde/raw/main/approach.png)"
   ]
  },
  {
   "cell_type": "markdown",
   "id": "2f2884c8-0a27-4c18-88b4-149344fffa34",
   "metadata": {},
   "source": [
    "# 0. Setup"
   ]
  },
  {
   "cell_type": "code",
   "execution_count": 54,
   "id": "4f5867d6-b290-4da9-a585-60a516afd7ff",
   "metadata": {},
   "outputs": [],
   "source": [
    "!pip -q install -U boto3 awscli langchain pypdf"
   ]
  },
  {
   "cell_type": "code",
   "execution_count": 28,
   "id": "49804ff5-09b1-4b17-b08b-d3db991945f7",
   "metadata": {},
   "outputs": [],
   "source": [
    "import boto3\n",
    "from langchain.llms.bedrock import Bedrock\n",
    "from langchain.embeddings import BedrockEmbeddings\n",
    "from langchain.chains import LLMChain, HypotheticalDocumentEmbedder\n",
    "from langchain.prompts import PromptTemplate\n",
    "from langchain.chains import RetrievalQA\n",
    "from langchain.document_loaders import PyPDFLoader\n",
    "from langchain.text_splitter import CharacterTextSplitter\n",
    "from langchain.vectorstores import Chroma\n",
    "\n",
    "from langchain.document_loaders import TextLoader\n",
    "import langchain"
   ]
  },
  {
   "cell_type": "code",
   "execution_count": 3,
   "id": "1828af3e-c6e7-4a9a-b244-08a360e793c6",
   "metadata": {},
   "outputs": [],
   "source": [
    "profile_name = None\n",
    "region = 'us-east-1'"
   ]
  },
  {
   "cell_type": "code",
   "execution_count": 4,
   "id": "9cbeaecc-de48-4fac-8b4f-7671cbab390b",
   "metadata": {},
   "outputs": [],
   "source": [
    "# modelId = 'anthropic.claude-instant-v1'\n",
    "modelId = 'anthropic.claude-v2'"
   ]
  },
  {
   "cell_type": "code",
   "execution_count": 5,
   "id": "4f338b49-18f2-49d6-bc12-ab0318634923",
   "metadata": {},
   "outputs": [],
   "source": [
    "session = boto3.Session(\n",
    "    profile_name=profile_name,\n",
    "    region_name=region,\n",
    ")\n",
    "bedrock = session.client(service_name='bedrock-runtime')"
   ]
  },
  {
   "cell_type": "markdown",
   "id": "a136caaa-b72a-41cc-8395-02c8ac7d504e",
   "metadata": {},
   "source": [
    "## Embeddings\n",
    "\n",
    "- bedrock embedding model - amazon.titan-embed-text-v1\n",
    "- 일반적으로는 SOTA 인 baai 의 [bge](https://python.langchain.com/docs/integrations/text_embedding/bge_huggingface) 씀."
   ]
  },
  {
   "cell_type": "code",
   "execution_count": 8,
   "id": "1b84488a-2bc0-4e2b-9177-3fa18ed2ea64",
   "metadata": {},
   "outputs": [],
   "source": [
    "llm = Bedrock(\n",
    "    model_id=modelId,\n",
    "    client=bedrock,\n",
    "    model_kwargs={\n",
    "        'max_tokens_to_sample': 1024\n",
    "    },\n",
    ")\n",
    "bedrock_embeddings = BedrockEmbeddings(\n",
    "    model_id=\"amazon.titan-embed-text-v1\",\n",
    "    client=bedrock,\n",
    ")"
   ]
  },
  {
   "cell_type": "code",
   "execution_count": 9,
   "id": "b8f83714-336c-4006-b3dc-9b5a43ce568f",
   "metadata": {},
   "outputs": [],
   "source": [
    "# Load with `web_search` prompt\n",
    "embeddings = HypotheticalDocumentEmbedder.from_llm(\n",
    "    llm,\n",
    "    bedrock_embeddings,\n",
    "    prompt_key=\"web_search\",\n",
    ")"
   ]
  },
  {
   "cell_type": "code",
   "execution_count": 10,
   "id": "fd92dbf2-9392-48e6-b002-959df5aa37aa",
   "metadata": {},
   "outputs": [
    {
     "data": {
      "text/plain": [
       "PromptTemplate(input_variables=['QUESTION'], template='Please write a passage to answer the question \\nQuestion: {QUESTION}\\nPassage:')"
      ]
     },
     "execution_count": 10,
     "metadata": {},
     "output_type": "execute_result"
    }
   ],
   "source": [
    "embeddings.llm_chain.prompt"
   ]
  },
  {
   "cell_type": "code",
   "execution_count": 11,
   "id": "a95f8c6c-f324-4f06-ab99-dfd045d1c9b4",
   "metadata": {},
   "outputs": [],
   "source": [
    "langchain.debug = True"
   ]
  },
  {
   "cell_type": "markdown",
   "id": "efa90241-7e3a-4c40-b677-fff924e22a87",
   "metadata": {},
   "source": [
    "# 1. Run query"
   ]
  },
  {
   "cell_type": "code",
   "execution_count": 12,
   "id": "77b52a26-201c-4732-836f-38617b3a2af4",
   "metadata": {},
   "outputs": [
    {
     "name": "stdout",
     "output_type": "stream",
     "text": [
      "\u001b[32;1m\u001b[1;3m[llm/start]\u001b[0m \u001b[1m[1:llm:Bedrock] Entering LLM run with input:\n",
      "\u001b[0m{\n",
      "  \"prompts\": [\n",
      "    \"Please write a passage to answer the question \\nQuestion: What items does McDonalds make?\\nPassage:\"\n",
      "  ]\n",
      "}\n",
      "\u001b[36;1m\u001b[1;3m[llm/end]\u001b[0m \u001b[1m[1:llm:Bedrock] [9.52s] Exiting LLM run with output:\n",
      "\u001b[0m{\n",
      "  \"generations\": [\n",
      "    [\n",
      "      {\n",
      "        \"text\": \" Here is a passage answering the question \\\"What items does McDonalds make?\\\":\\n\\nMcDonald's is known for making a wide variety of fast food items. Some of their most popular menu items include hamburgers, cheeseburgers, Big Macs, Quarter Pounders, Chicken McNuggets, Filet-O-Fish sandwiches, french fries, milkshakes, sodas, coffee, breakfast sandwiches, and desserts like apple pies and McFlurries. McDonald's hamburgers are made with 100% beef patties that are cooked and prepared on a hot grill. Their buns and sandwich ingredients like cheese, lettuce, tomato, onion, pickles, and condiments are assembled on the sandwiches to customer specifications. The french fries are made from potatoes that are peeled, cut, and fried in vegetable oil. McDonald's also offers breakfast items like Egg McMuffins, hotcakes, and hash browns. Salads, wraps, and chicken sandwiches round out the wide range of food products served at McDonald's restaurants all over the world.\",\n",
      "        \"generation_info\": null,\n",
      "        \"type\": \"Generation\"\n",
      "      }\n",
      "    ]\n",
      "  ],\n",
      "  \"llm_output\": null,\n",
      "  \"run\": null\n",
      "}\n"
     ]
    }
   ],
   "source": [
    "result = embeddings.embed_query(\"What items does McDonalds make?\")"
   ]
  },
  {
   "cell_type": "markdown",
   "id": "78274cd4-a162-4acf-9d72-fc86dd9a9d31",
   "metadata": {},
   "source": [
    "# 2. Custom prompt"
   ]
  },
  {
   "cell_type": "code",
   "execution_count": 13,
   "id": "dcfc9cf8-1edc-437e-89ad-e8d392ffef3a",
   "metadata": {},
   "outputs": [],
   "source": [
    "prompt_template = \"\"\"\n",
    "Please answer the user's question as a single food item.\n",
    "Question: {QUESTION}\n",
    "Answer: \"\"\".strip()\n",
    "prompt = PromptTemplate(\n",
    "    input_variables=[\"QUESTION\"],\n",
    "    template=prompt_template,\n",
    ")"
   ]
  },
  {
   "cell_type": "code",
   "execution_count": 14,
   "id": "38b4db12-3dc8-4af7-a4ef-a40ecd60e2ce",
   "metadata": {},
   "outputs": [],
   "source": [
    "llm_chain = LLMChain(llm=llm, prompt=prompt)"
   ]
  },
  {
   "cell_type": "code",
   "execution_count": 15,
   "id": "054d0366-d472-41ee-8000-9b036dde5e74",
   "metadata": {},
   "outputs": [],
   "source": [
    "embeddings = HypotheticalDocumentEmbedder(\n",
    "    llm_chain=llm_chain,\n",
    "    base_embeddings=bedrock_embeddings,\n",
    ")"
   ]
  },
  {
   "cell_type": "code",
   "execution_count": 16,
   "id": "28cd5d2e-7409-41b7-ade3-3e0f0a46b717",
   "metadata": {},
   "outputs": [
    {
     "name": "stdout",
     "output_type": "stream",
     "text": [
      "\u001b[32;1m\u001b[1;3m[llm/start]\u001b[0m \u001b[1m[1:llm:Bedrock] Entering LLM run with input:\n",
      "\u001b[0m{\n",
      "  \"prompts\": [\n",
      "    \"Please answer the user's question as a single food item.\\nQuestion: What is is McDonalds best selling item?\\nAnswer:\"\n",
      "  ]\n",
      "}\n",
      "\u001b[36;1m\u001b[1;3m[llm/end]\u001b[0m \u001b[1m[1:llm:Bedrock] [2.56s] Exiting LLM run with output:\n",
      "\u001b[0m{\n",
      "  \"generations\": [\n",
      "    [\n",
      "      {\n",
      "        \"text\": \" Big Mac\",\n",
      "        \"generation_info\": null,\n",
      "        \"type\": \"Generation\"\n",
      "      }\n",
      "    ]\n",
      "  ],\n",
      "  \"llm_output\": null,\n",
      "  \"run\": null\n",
      "}\n"
     ]
    }
   ],
   "source": [
    "query = \"What is is McDonalds best selling item?\"\n",
    "result = embeddings.embed_query(query)"
   ]
  },
  {
   "cell_type": "markdown",
   "id": "61fd2ff7-7424-461c-939e-4319877f6e2c",
   "metadata": {},
   "source": [
    "# 3. Advanced usage\n",
    "\n",
    "- AWS IoT Provisioning Whitepaper [다운로드](https://docs.aws.amazon.com/pdfs/whitepapers/latest/device-manufacturing-provisioning/device-manufacturing-provisioning.pdf#device-manufacturing-provisioning)\n",
    "- 간접적인 질문을 통해 HyDE 사용"
   ]
  },
  {
   "cell_type": "code",
   "execution_count": 18,
   "id": "755f85aa-5da0-4c72-901f-0e4344d25e40",
   "metadata": {},
   "outputs": [],
   "source": [
    "loader = PyPDFLoader(\"iot.pdf\")\n",
    "text_splitter = CharacterTextSplitter(chunk_size=1000, chunk_overlap=0)\n",
    "texts = loader.load_and_split(text_splitter=text_splitter)"
   ]
  },
  {
   "cell_type": "code",
   "execution_count": 19,
   "id": "ccf099ff-7049-43a2-9673-5aa0f89b7f57",
   "metadata": {},
   "outputs": [
    {
     "data": {
      "text/plain": [
       "36"
      ]
     },
     "execution_count": 19,
     "metadata": {},
     "output_type": "execute_result"
    }
   ],
   "source": [
    "len(texts)"
   ]
  },
  {
   "cell_type": "code",
   "execution_count": 20,
   "id": "dffb30d3-4082-4b9e-8271-8a78b5041c1a",
   "metadata": {},
   "outputs": [
    {
     "data": {
      "text/plain": [
       "Document(page_content='Device Manufacturing and \\nProvisioning with X.509 \\nCertiﬁcates in AWS IoT Core\\nAWS Whitepaper', metadata={'source': 'iot.pdf', 'page': 0})"
      ]
     },
     "execution_count": 20,
     "metadata": {},
     "output_type": "execute_result"
    }
   ],
   "source": [
    "texts[0]"
   ]
  },
  {
   "cell_type": "code",
   "execution_count": 21,
   "id": "874b1ec1-f2ba-407c-8983-c61d8f2fff03",
   "metadata": {},
   "outputs": [],
   "source": [
    "prompt_template = \"\"\"\n",
    "Please answer the user's question as related to Internet of things provisioning.\n",
    "Question: {QUESTION}\n",
    "Answer: \"\"\".strip()\n",
    "prompt = PromptTemplate(\n",
    "    input_variables=[\"QUESTION\"],\n",
    "    template=prompt_template,\n",
    ")\n",
    "\n",
    "llm_chain = LLMChain(llm=llm, prompt=prompt)"
   ]
  },
  {
   "cell_type": "code",
   "execution_count": 22,
   "id": "b8868922-9b0e-428c-bb8e-6ddeaf2d7790",
   "metadata": {},
   "outputs": [],
   "source": [
    "embeddings = HypotheticalDocumentEmbedder(\n",
    "    llm_chain=llm_chain,\n",
    "    base_embeddings=bedrock_embeddings,\n",
    ")"
   ]
  },
  {
   "cell_type": "code",
   "execution_count": 23,
   "id": "f8a45abc-0d24-4fb8-a9bc-76c8332de646",
   "metadata": {},
   "outputs": [
    {
     "name": "stdout",
     "output_type": "stream",
     "text": [
      "CPU times: user 347 ms, sys: 59 ms, total: 406 ms\n",
      "Wall time: 13.7 s\n"
     ]
    }
   ],
   "source": [
    "%%time\n",
    "\n",
    "docsearch = Chroma.from_documents(texts, embeddings)"
   ]
  },
  {
   "cell_type": "markdown",
   "id": "f2eccc02-eff0-43cc-bf86-feb7e8196a08",
   "metadata": {},
   "source": [
    "- nosql 이라는 단어는 문서에 등장하지 않지만, nosql 데이터베이스를 언급하고 mongodb 가 AGPL 사용하고 있다고 알려준다."
   ]
  },
  {
   "cell_type": "code",
   "execution_count": 24,
   "id": "507fe497-487e-45d4-ba01-f855eab8f1d6",
   "metadata": {},
   "outputs": [
    {
     "name": "stdout",
     "output_type": "stream",
     "text": [
      "\u001b[32;1m\u001b[1;3m[llm/start]\u001b[0m \u001b[1m[1:llm:Bedrock] Entering LLM run with input:\n",
      "\u001b[0m{\n",
      "  \"prompts\": [\n",
      "    \"Please answer the user's question as related to Internet of things provisioning.\\nQuestion: What is the best way to provision device when I can not put certificates into my devices?\\nAnswer:\"\n",
      "  ]\n",
      "}\n",
      "\u001b[36;1m\u001b[1;3m[llm/end]\u001b[0m \u001b[1m[1:llm:Bedrock] [14.48s] Exiting LLM run with output:\n",
      "\u001b[0m{\n",
      "  \"generations\": [\n",
      "    [\n",
      "      {\n",
      "        \"text\": \" Here are a few recommendations for provisioning internet of things (IoT) devices without being able to put certificates on them:\\n\\n- Use symmetric key encryption - Have a pre-shared key that is used to encrypt communication between the device and IoT platform. The key can be hardcoded into the device firmware and configured on the server side. This avoids the need for certificates.\\n\\n- Use token-based authentication - The IoT platform can issue a token to an unprovisioned device the first time it connects. This token can then be used for authentication until the device is fully provisioned. The token expires after a set time if the device is not provisioned.\\n\\n- Use device identity registry - Maintain a registry of device identities and allowlist device IDs. Unprovisioned devices can send their ID on first connect for authentication. IDs can be derived from device hardware info like MAC address.\\n\\n- Use auto-generated credentials - Have the IoT platform automatically generate unique credentials for each connecting device. The credentials are provided to the device after the initial unauthenticated connection.\\n\\n- Use physical claim codes - Generate a unique claim code that is physically attached to each device. The device transmits this code on first connect for the IoT platform to authenticate and accept the connection.\\n\\n- Use just-in-time provisioning - Allow unauthenticated connections to a sandboxed environment with limited access. Once identified, the device can be fully provisioned and granted further access.\\n\\nThe main goal is to authenticate new devices without already having credentials deployed on them. The method used depends on the specific IoT use case and security requirements.\",\n",
      "        \"generation_info\": null,\n",
      "        \"type\": \"Generation\"\n",
      "      }\n",
      "    ]\n",
      "  ],\n",
      "  \"llm_output\": null,\n",
      "  \"run\": null\n",
      "}\n"
     ]
    }
   ],
   "source": [
    "query = \"What is the best way to provision device when I can not put certificates into my devices?\"\n",
    "docs = docsearch.similarity_search(query)"
   ]
  },
  {
   "cell_type": "code",
   "execution_count": 25,
   "id": "3035f4e8-538e-4eeb-a527-967074759de9",
   "metadata": {},
   "outputs": [
    {
     "name": "stdout",
     "output_type": "stream",
     "text": [
      "Device Manufacturing and Provisioning with X.509 \n",
      "Certiﬁcates in AWS IoT Core AWS Whitepaper\n",
      "Just-in-Time Provisioning\n",
      "Provisioning identity in AWS IoT \n",
      "Core for device connections\n",
      "AWS IoT Core has diﬀerent options to provision and onboard a large number of devices, depending on \n",
      "the capabilities of the device, and if the devices have their unique X.509 certiﬁcate and private keys on \n",
      "them before being sold to the end customer.\n",
      "If the manufacturing chain allows the device maker to provision unique credentials into the device at \n",
      "manufacturing time or in distribution, device makers can use Just in Time Provisioning (JITP), Just in \n",
      "Time Registration (JITR), or Multi-Account Registration (MAR).\n",
      "If it is not possible to establish unique credentials on the device before it is sold to the end customers, \n",
      "device makers may use Fleet Provisioning to onboard their devices.\n",
      "Just-in-Time Provisioning\n",
      "Devices that use Just-in-Time Provisioning (JITP) have certiﬁcates and private keys present on the device \n",
      "before onboarding to AWS IoT. The certiﬁcates must be signed with the customer’s designated CA, and \n",
      "that CA must be registered in AWS IoT. Certiﬁcates generated on AWS IoT cannot be used with the just-\n",
      "in-time method. The customer must know which account the device will connect to before provisioning.\n",
      "Setup\n",
      "Using JITP, the device connects to AWS IoT Core, and the certiﬁcate’s signature is veriﬁed against the \n",
      "registered CA. After veriﬁcation, a provisioning template registers the Thing and certiﬁcate, and assigns \n",
      "a policy to the device. The device maker is responsible for registering the signer CA and attaching a \n",
      "provisioning template to the CA.\n",
      "Device logic\n",
      "When the device connects to AWS IoT Core for the ﬁrst time, the device certiﬁcate must be sent during \n",
      "the TLS handshake. The signer CA must also be sent during the TLS handshake if the device does not \n",
      "send the Service Name Indicator (SNI) during the connection. The TLS handshake will fail at the ﬁrst \n",
      "connection. This happens because the certiﬁcate has not been pre-loaded into the AWS IoT account. The \n",
      "device-supplied certiﬁcate is registered and activated in AWS IoT Core during the provisioning process. \n",
      "The device must have logic to reconnect to AWS IoT Core after a short time period. If the provisioning \n",
      "operation has succeeded, the device will connect to AWS IoT Core successfully.\n",
      "16\n"
     ]
    }
   ],
   "source": [
    "print(docs[0].page_content)"
   ]
  },
  {
   "cell_type": "code",
   "execution_count": 26,
   "id": "6fcb2aee-ed5f-495b-9cab-9d401eb262b3",
   "metadata": {},
   "outputs": [
    {
     "data": {
      "text/plain": [
       "'similarity'"
      ]
     },
     "execution_count": 26,
     "metadata": {},
     "output_type": "execute_result"
    }
   ],
   "source": [
    "retriever = docsearch.as_retriever(search_kwargs={\"k\": 5})\n",
    "retriever.search_type"
   ]
  },
  {
   "cell_type": "code",
   "execution_count": 29,
   "id": "98a14320-01b8-4557-a5eb-9e29bcac7b11",
   "metadata": {},
   "outputs": [],
   "source": [
    "qa_chain = RetrievalQA.from_chain_type(\n",
    "    llm=llm, \n",
    "    chain_type=\"stuff\", \n",
    "    retriever=retriever, \n",
    "    return_source_documents=True,\n",
    ")"
   ]
  },
  {
   "cell_type": "code",
   "execution_count": 30,
   "id": "50f9d39f-484e-4e76-83d1-d0b0f8fd458d",
   "metadata": {},
   "outputs": [
    {
     "name": "stdout",
     "output_type": "stream",
     "text": [
      "\u001b[32;1m\u001b[1;3m[chain/start]\u001b[0m \u001b[1m[1:chain:RetrievalQA] Entering Chain run with input:\n",
      "\u001b[0m{\n",
      "  \"query\": \"What is the best way to provision device when I can not put certificates into my devices?\"\n",
      "}\n",
      "\u001b[32;1m\u001b[1;3m[llm/start]\u001b[0m \u001b[1m[1:llm:Bedrock] Entering LLM run with input:\n",
      "\u001b[0m{\n",
      "  \"prompts\": [\n",
      "    \"Please answer the user's question as related to Internet of things provisioning.\\nQuestion: What is the best way to provision device when I can not put certificates into my devices?\\nAnswer:\"\n",
      "  ]\n",
      "}\n",
      "\u001b[36;1m\u001b[1;3m[llm/end]\u001b[0m \u001b[1m[1:llm:Bedrock] [17.33s] Exiting LLM run with output:\n",
      "\u001b[0m{\n",
      "  \"generations\": [\n",
      "    [\n",
      "      {\n",
      "        \"text\": \" Here are a few potential ways to provision devices that cannot store certificates for Internet of Things (IoT):\\n\\n- Use symmetric key encryption instead of certificates for authentication. Generate a unique symmetric key for each device and store it securely on the server side. The device can then use this key to authenticate to the server.\\n\\n- Use a Trust On First Use (TOFU) model. The first time a device connects, its credentials are stored and allowed. On subsequent connections, the credentials are compared to the stored ones. This avoids needing to load keys/certificates on devices.\\n\\n- Use a Claim-based provisioning approach. The device makes no authentication but requests a certificate or key from the server. The server can then verify device identity through other means before issuing credentials.\\n\\n- Use on-demand provisioning. When the device first connects, a secure channel is established to load keys/certificates as needed. This allows provisioning without needing them pre-loaded.\\n\\n- Use a Hardware Security Module (HSM) attached to the device to securely store keys/certificates. The HSM protects the cryptographic material while enabling authentication.\\n\\n- Use out-of-band provisioning via QR codes, NFC tags, or other mechanisms to load keys/certificates dynamically at first boot.\\n\\nThe optimal approach depends on the specific use case, security requirements, device capabilities, and infrastructure availability. Factors like connectivity, manufacturability, and usability should be considered when selecting a provisioning strategy.\",\n",
      "        \"generation_info\": null,\n",
      "        \"type\": \"Generation\"\n",
      "      }\n",
      "    ]\n",
      "  ],\n",
      "  \"llm_output\": null,\n",
      "  \"run\": null\n",
      "}\n",
      "\u001b[32;1m\u001b[1;3m[chain/start]\u001b[0m \u001b[1m[1:chain:RetrievalQA > 3:chain:StuffDocumentsChain] Entering Chain run with input:\n",
      "\u001b[0m[inputs]\n",
      "\u001b[32;1m\u001b[1;3m[chain/start]\u001b[0m \u001b[1m[1:chain:RetrievalQA > 3:chain:StuffDocumentsChain > 4:chain:LLMChain] Entering Chain run with input:\n",
      "\u001b[0m{\n",
      "  \"question\": \"What is the best way to provision device when I can not put certificates into my devices?\",\n",
      "  \"context\": \"Device Manufacturing and Provisioning with X.509 \\nCertiﬁcates in AWS IoT Core AWS Whitepaper\\nNetwork File System (NFS), or over a serial connection, and store those credentials to a secure place on \\nthe device. Security credentials and PKI may be handled and exposed to the contract manufacturer, so \\nit’s important that the provisioning process is performed in a secure environment by trusted individuals.\\nInject credentials at manufacturing time\\nIntroducing customization for each device image at manufacturing time can add valuable time to \\nproduce each device and additional logistical overhead, because the manufacturer must track that \\ncustomization for each device produced. This can lead to increased cost per unit to the device maker \\ncharged by the contract manufacturer, due to the additional time using the manufacturer’s production \\nline.\\nTo isolate and protect device keys from the ﬁrmware, device makers may choose to use a hardware \\nsecurity module (HSM), such as a secure element or trusted platform module (TPM) on their device. \\nBy using an HSM to separate the device keys from the ﬁrmware, the HSM can be provisioned with \\ncredentials independent of the ﬁrmware image, either during device manufacturing, or by the HSM \\nvendor. HSM vendors oﬀer services to generate private keys and sign X.509 certiﬁcates in the vendor’s \\nsecure facility. This allows device makers to provide a single standard ﬁrmware image to the contract \\nmanufacturer with logic to communicate with the pre-provisioned HSM. The contract manufacturer \\nis responsible for placing the HSM onto the PCB, but the credentials are not exposed and no extra \\nprocesses are necessary to provision the credentials.\\n10\\n\\nDevice Manufacturing and Provisioning with X.509 \\nCertiﬁcates in AWS IoT Core AWS Whitepaper\\nUse cases for manual registration without a CA\\nManual registration without a CA process\\nUse cases for manual registration without a CA\\nManual registration without a CA is used if ﬂexibility is needed when determining which account and \\nRegions a device may connect to. Device makers and service providers might have multiple AWS accounts \\nused for sandbox, testing and production. Certiﬁcates can be pre-registered in each AWS account, and \\nthe device can connect to diﬀerent accounts throughout its lifecycle by changing the IoT endpoint on the \\ndevice. Devices can be sold globally, and the certiﬁcate can be registered in multiple AWS Regions as well \\nas multiple AWS accounts within the same Region. This method allows the device makers to provide the \\npublic X.509 client certiﬁcate of a device to an IoT service provider so that they may manually register it \\nto one or more their accounts.\\nFleet provisioning\\nThere are cases when provisioning unique credentials to a device at manufacturing time is not feasible \\ndue to technical limitations, cost, or application speciﬁc requirements. Devices that are not customized \\nfrom the manufacturer are sold to customers without a unique identity. Fleet provisioning provides two \\nways to provision devices with unique credentials after they are delivered to end customers: by trusted \\nuser or by claim.\\nFleet provisioning by trusted user\\nAWS IoT Core provides an application programming interface (API) that allows mobile applications to \\ngenerate temporary certiﬁcates and private keys. The device leaves the manufacturing facility with no \\nunique credentials, and only trusted users are able to provision the device with its unique credentials.\\nAn installer uses a mobile application and authenticates with AWS. The mobile application should call \\nthe CreateProvisioningClaim API that returns a temporary X.509 certiﬁcate and private key that is \\nvalid for ﬁve minutes. Using the mobile application, these temporary credentials are delivered to the \\ndevice. The device connects to AWS IoT and exchanges the temporary credentials for a unique X.509 \\ncertiﬁcate signed with an ephemeral AWS CA and corresponding private key. During this workﬂow, the \\nAWS resources including Thing, Policy, and Certiﬁcate are set up in the AWS account.\\n19\\n\\nDevice Manufacturing and Provisioning with X.509 \\nCertiﬁcates in AWS IoT Core AWS Whitepaper\\nDevice provisioning during \\ndevelopment\\nIn the early phases of an IoT project, a small number of devices are provisioned to AWS IoT for \\ndevelopment and testing purposes. During this phase, developers often choose convenience over \\nsecurity and scalability.\\nFor convenience, AWS IoT gives developers the ability to create a device certiﬁcate and keys in the cloud \\nfrom AWS Management Console, AWS IoT Control Plane APIs, or the AWS Command Line Interface (AWS \\nCLI). The certiﬁcate is issued by an ephemeral AWS intermediate CA, and the private key is generated on \\nthe AWS Cloud. The certiﬁcate, private key, and public key are then downloaded onto the developer’s \\nlocal machine.\\nThe developer is responsible for manually provisioning the certiﬁcate and private key provided by AWS \\nIoT Core to the device, where they are either added to the device’s ﬁle system or stored in the device’s \\nﬁrmware image.\\nProcess to provision devices during development using AWS IoT Core\\nThis process should never be used in production because the private key is transmitted through an \\ninsecure environment such as the developer’s laptop. If the private key is stored on the developer’s \\nlocal machine, even temporarily, it could be compromised by social engineering, user error, or a weak \\npassword. In production, the device private key should be generated on the device from a strong source \\nof entropy and never exported.\\nSecurity risks are mitigated because the devices are not deployed in the ﬁeld. The devices are tightly \\ncontrolled by a developer or in a lab environment. A compromised device can be re-programmed and the \\ncertiﬁcate can be revoked.\\nThe process of creating all resources in the AWS Cloud and copying the necessary keys to the device is \\nmanual and time consuming. Unique ﬁrmware and ﬁles need to be programmed into each device by the \\ndeveloper. For testing and development, most operations are performed in the lab environment, but \\n5\\n\\nDevice Manufacturing and Provisioning with X.509 \\nCertiﬁcates in AWS IoT Core AWS Whitepaper\\nJust-in-Time Provisioning\\nProvisioning identity in AWS IoT \\nCore for device connections\\nAWS IoT Core has diﬀerent options to provision and onboard a large number of devices, depending on \\nthe capabilities of the device, and if the devices have their unique X.509 certiﬁcate and private keys on \\nthem before being sold to the end customer.\\nIf the manufacturing chain allows the device maker to provision unique credentials into the device at \\nmanufacturing time or in distribution, device makers can use Just in Time Provisioning (JITP), Just in \\nTime Registration (JITR), or Multi-Account Registration (MAR).\\nIf it is not possible to establish unique credentials on the device before it is sold to the end customers, \\ndevice makers may use Fleet Provisioning to onboard their devices.\\nJust-in-Time Provisioning\\nDevices that use Just-in-Time Provisioning (JITP) have certiﬁcates and private keys present on the device \\nbefore onboarding to AWS IoT. The certiﬁcates must be signed with the customer’s designated CA, and \\nthat CA must be registered in AWS IoT. Certiﬁcates generated on AWS IoT cannot be used with the just-\\nin-time method. The customer must know which account the device will connect to before provisioning.\\nSetup\\nUsing JITP, the device connects to AWS IoT Core, and the certiﬁcate’s signature is veriﬁed against the \\nregistered CA. After veriﬁcation, a provisioning template registers the Thing and certiﬁcate, and assigns \\na policy to the device. The device maker is responsible for registering the signer CA and attaching a \\nprovisioning template to the CA.\\nDevice logic\\nWhen the device connects to AWS IoT Core for the ﬁrst time, the device certiﬁcate must be sent during \\nthe TLS handshake. The signer CA must also be sent during the TLS handshake if the device does not \\nsend the Service Name Indicator (SNI) during the connection. The TLS handshake will fail at the ﬁrst \\nconnection. This happens because the certiﬁcate has not been pre-loaded into the AWS IoT account. The \\ndevice-supplied certiﬁcate is registered and activated in AWS IoT Core during the provisioning process. \\nThe device must have logic to reconnect to AWS IoT Core after a short time period. If the provisioning \\noperation has succeeded, the device will connect to AWS IoT Core successfully.\\n16\\n\\nDevice Manufacturing and Provisioning with X.509 \\nCertiﬁcates in AWS IoT Core AWS Whitepaper\\nCertiﬁcate Signing Request made by device to AWS\\nThe certiﬁcates and private keys must be included in the ﬁrmware of each device, or provided to \\nthe contract manufacturer to deliver to the device. The device certiﬁcates are signed by a CA that \\nis protected under the AWS Shared Responsibility Model, and the device maker does not need to \\nimplement their own controls on the CA. The device maker is responsible for the authorization policies \\ngranted to users of the AWS account to ensure only authorized users can generate new certiﬁcates.\\nLarge enterprises may have their own self-signed root CA. A self-signed CA provides the greatest level of \\nﬂexibility and control over the public key infrastructure. It is necessary to employ strict security protocols \\nto protect the CA from being compromised, such as being air gapped  with strict physical access controls. \\nIntermediate CAs signed by the root CA are typically established though a key signing ceremony.\\nEnterprise PKI typically consists of a chain of one or more intermediate signing certiﬁcate authorities to \\nenable compartmentalization and severability in the PKI. This allows the device maker to use separate \\nsigning CAs across multiple contract manufacturers for more strict control of the certiﬁcate revocation \\nlist by allowing an intermediate certiﬁcate to be revoked without aﬀecting the rest of the certiﬁcate \\ninfrastructure.\\nIf the device maker wants to maintain control of the CA and PKI, AWS IoT provides the option to use \\na customer-owned signing CA. Outside of the AWS cloud, devices typically interact with a customer-\\nowned signing service through a secure network channel to provide a Certiﬁcate Signing Request to an \\nintermediate signing CA during the manufacturing process. If the device cannot access the CA directly, \\nthe certiﬁcates and private keys can be pre-generated and loaded onto the device in ﬁrmware, on a \\nhardware security module, or delivered over a secure local connection in the manufacturing process. The \\ncertiﬁcates must be registered and activated on AWS IoT before the device can connect.\\n13\"\n",
      "}\n",
      "\u001b[32;1m\u001b[1;3m[llm/start]\u001b[0m \u001b[1m[1:chain:RetrievalQA > 3:chain:StuffDocumentsChain > 4:chain:LLMChain > 5:llm:Bedrock] Entering LLM run with input:\n",
      "\u001b[0m{\n",
      "  \"prompts\": [\n",
      "    \"Use the following pieces of context to answer the question at the end. If you don't know the answer, just say that you don't know, don't try to make up an answer.\\n\\nDevice Manufacturing and Provisioning with X.509 \\nCertiﬁcates in AWS IoT Core AWS Whitepaper\\nNetwork File System (NFS), or over a serial connection, and store those credentials to a secure place on \\nthe device. Security credentials and PKI may be handled and exposed to the contract manufacturer, so \\nit’s important that the provisioning process is performed in a secure environment by trusted individuals.\\nInject credentials at manufacturing time\\nIntroducing customization for each device image at manufacturing time can add valuable time to \\nproduce each device and additional logistical overhead, because the manufacturer must track that \\ncustomization for each device produced. This can lead to increased cost per unit to the device maker \\ncharged by the contract manufacturer, due to the additional time using the manufacturer’s production \\nline.\\nTo isolate and protect device keys from the ﬁrmware, device makers may choose to use a hardware \\nsecurity module (HSM), such as a secure element or trusted platform module (TPM) on their device. \\nBy using an HSM to separate the device keys from the ﬁrmware, the HSM can be provisioned with \\ncredentials independent of the ﬁrmware image, either during device manufacturing, or by the HSM \\nvendor. HSM vendors oﬀer services to generate private keys and sign X.509 certiﬁcates in the vendor’s \\nsecure facility. This allows device makers to provide a single standard ﬁrmware image to the contract \\nmanufacturer with logic to communicate with the pre-provisioned HSM. The contract manufacturer \\nis responsible for placing the HSM onto the PCB, but the credentials are not exposed and no extra \\nprocesses are necessary to provision the credentials.\\n10\\n\\nDevice Manufacturing and Provisioning with X.509 \\nCertiﬁcates in AWS IoT Core AWS Whitepaper\\nUse cases for manual registration without a CA\\nManual registration without a CA process\\nUse cases for manual registration without a CA\\nManual registration without a CA is used if ﬂexibility is needed when determining which account and \\nRegions a device may connect to. Device makers and service providers might have multiple AWS accounts \\nused for sandbox, testing and production. Certiﬁcates can be pre-registered in each AWS account, and \\nthe device can connect to diﬀerent accounts throughout its lifecycle by changing the IoT endpoint on the \\ndevice. Devices can be sold globally, and the certiﬁcate can be registered in multiple AWS Regions as well \\nas multiple AWS accounts within the same Region. This method allows the device makers to provide the \\npublic X.509 client certiﬁcate of a device to an IoT service provider so that they may manually register it \\nto one or more their accounts.\\nFleet provisioning\\nThere are cases when provisioning unique credentials to a device at manufacturing time is not feasible \\ndue to technical limitations, cost, or application speciﬁc requirements. Devices that are not customized \\nfrom the manufacturer are sold to customers without a unique identity. Fleet provisioning provides two \\nways to provision devices with unique credentials after they are delivered to end customers: by trusted \\nuser or by claim.\\nFleet provisioning by trusted user\\nAWS IoT Core provides an application programming interface (API) that allows mobile applications to \\ngenerate temporary certiﬁcates and private keys. The device leaves the manufacturing facility with no \\nunique credentials, and only trusted users are able to provision the device with its unique credentials.\\nAn installer uses a mobile application and authenticates with AWS. The mobile application should call \\nthe CreateProvisioningClaim API that returns a temporary X.509 certiﬁcate and private key that is \\nvalid for ﬁve minutes. Using the mobile application, these temporary credentials are delivered to the \\ndevice. The device connects to AWS IoT and exchanges the temporary credentials for a unique X.509 \\ncertiﬁcate signed with an ephemeral AWS CA and corresponding private key. During this workﬂow, the \\nAWS resources including Thing, Policy, and Certiﬁcate are set up in the AWS account.\\n19\\n\\nDevice Manufacturing and Provisioning with X.509 \\nCertiﬁcates in AWS IoT Core AWS Whitepaper\\nDevice provisioning during \\ndevelopment\\nIn the early phases of an IoT project, a small number of devices are provisioned to AWS IoT for \\ndevelopment and testing purposes. During this phase, developers often choose convenience over \\nsecurity and scalability.\\nFor convenience, AWS IoT gives developers the ability to create a device certiﬁcate and keys in the cloud \\nfrom AWS Management Console, AWS IoT Control Plane APIs, or the AWS Command Line Interface (AWS \\nCLI). The certiﬁcate is issued by an ephemeral AWS intermediate CA, and the private key is generated on \\nthe AWS Cloud. The certiﬁcate, private key, and public key are then downloaded onto the developer’s \\nlocal machine.\\nThe developer is responsible for manually provisioning the certiﬁcate and private key provided by AWS \\nIoT Core to the device, where they are either added to the device’s ﬁle system or stored in the device’s \\nﬁrmware image.\\nProcess to provision devices during development using AWS IoT Core\\nThis process should never be used in production because the private key is transmitted through an \\ninsecure environment such as the developer’s laptop. If the private key is stored on the developer’s \\nlocal machine, even temporarily, it could be compromised by social engineering, user error, or a weak \\npassword. In production, the device private key should be generated on the device from a strong source \\nof entropy and never exported.\\nSecurity risks are mitigated because the devices are not deployed in the ﬁeld. The devices are tightly \\ncontrolled by a developer or in a lab environment. A compromised device can be re-programmed and the \\ncertiﬁcate can be revoked.\\nThe process of creating all resources in the AWS Cloud and copying the necessary keys to the device is \\nmanual and time consuming. Unique ﬁrmware and ﬁles need to be programmed into each device by the \\ndeveloper. For testing and development, most operations are performed in the lab environment, but \\n5\\n\\nDevice Manufacturing and Provisioning with X.509 \\nCertiﬁcates in AWS IoT Core AWS Whitepaper\\nJust-in-Time Provisioning\\nProvisioning identity in AWS IoT \\nCore for device connections\\nAWS IoT Core has diﬀerent options to provision and onboard a large number of devices, depending on \\nthe capabilities of the device, and if the devices have their unique X.509 certiﬁcate and private keys on \\nthem before being sold to the end customer.\\nIf the manufacturing chain allows the device maker to provision unique credentials into the device at \\nmanufacturing time or in distribution, device makers can use Just in Time Provisioning (JITP), Just in \\nTime Registration (JITR), or Multi-Account Registration (MAR).\\nIf it is not possible to establish unique credentials on the device before it is sold to the end customers, \\ndevice makers may use Fleet Provisioning to onboard their devices.\\nJust-in-Time Provisioning\\nDevices that use Just-in-Time Provisioning (JITP) have certiﬁcates and private keys present on the device \\nbefore onboarding to AWS IoT. The certiﬁcates must be signed with the customer’s designated CA, and \\nthat CA must be registered in AWS IoT. Certiﬁcates generated on AWS IoT cannot be used with the just-\\nin-time method. The customer must know which account the device will connect to before provisioning.\\nSetup\\nUsing JITP, the device connects to AWS IoT Core, and the certiﬁcate’s signature is veriﬁed against the \\nregistered CA. After veriﬁcation, a provisioning template registers the Thing and certiﬁcate, and assigns \\na policy to the device. The device maker is responsible for registering the signer CA and attaching a \\nprovisioning template to the CA.\\nDevice logic\\nWhen the device connects to AWS IoT Core for the ﬁrst time, the device certiﬁcate must be sent during \\nthe TLS handshake. The signer CA must also be sent during the TLS handshake if the device does not \\nsend the Service Name Indicator (SNI) during the connection. The TLS handshake will fail at the ﬁrst \\nconnection. This happens because the certiﬁcate has not been pre-loaded into the AWS IoT account. The \\ndevice-supplied certiﬁcate is registered and activated in AWS IoT Core during the provisioning process. \\nThe device must have logic to reconnect to AWS IoT Core after a short time period. If the provisioning \\noperation has succeeded, the device will connect to AWS IoT Core successfully.\\n16\\n\\nDevice Manufacturing and Provisioning with X.509 \\nCertiﬁcates in AWS IoT Core AWS Whitepaper\\nCertiﬁcate Signing Request made by device to AWS\\nThe certiﬁcates and private keys must be included in the ﬁrmware of each device, or provided to \\nthe contract manufacturer to deliver to the device. The device certiﬁcates are signed by a CA that \\nis protected under the AWS Shared Responsibility Model, and the device maker does not need to \\nimplement their own controls on the CA. The device maker is responsible for the authorization policies \\ngranted to users of the AWS account to ensure only authorized users can generate new certiﬁcates.\\nLarge enterprises may have their own self-signed root CA. A self-signed CA provides the greatest level of \\nﬂexibility and control over the public key infrastructure. It is necessary to employ strict security protocols \\nto protect the CA from being compromised, such as being air gapped  with strict physical access controls. \\nIntermediate CAs signed by the root CA are typically established though a key signing ceremony.\\nEnterprise PKI typically consists of a chain of one or more intermediate signing certiﬁcate authorities to \\nenable compartmentalization and severability in the PKI. This allows the device maker to use separate \\nsigning CAs across multiple contract manufacturers for more strict control of the certiﬁcate revocation \\nlist by allowing an intermediate certiﬁcate to be revoked without aﬀecting the rest of the certiﬁcate \\ninfrastructure.\\nIf the device maker wants to maintain control of the CA and PKI, AWS IoT provides the option to use \\na customer-owned signing CA. Outside of the AWS cloud, devices typically interact with a customer-\\nowned signing service through a secure network channel to provide a Certiﬁcate Signing Request to an \\nintermediate signing CA during the manufacturing process. If the device cannot access the CA directly, \\nthe certiﬁcates and private keys can be pre-generated and loaded onto the device in ﬁrmware, on a \\nhardware security module, or delivered over a secure local connection in the manufacturing process. The \\ncertiﬁcates must be registered and activated on AWS IoT before the device can connect.\\n13\\n\\nQuestion: What is the best way to provision device when I can not put certificates into my devices?\\nHelpful Answer:\"\n",
      "  ]\n",
      "}\n",
      "\u001b[36;1m\u001b[1;3m[llm/end]\u001b[0m \u001b[1m[1:chain:RetrievalQA > 3:chain:StuffDocumentsChain > 4:chain:LLMChain > 5:llm:Bedrock] [16.21s] Exiting LLM run with output:\n",
      "\u001b[0m{\n",
      "  \"generations\": [\n",
      "    [\n",
      "      {\n",
      "        \"text\": \" Based on the context provided, if you are unable to put certificates into your devices before they are sold to customers, the best option for provisioning devices in AWS IoT Core is likely fleet provisioning. \\n\\nThe whitepaper mentions that fleet provisioning provides two ways to provision devices with unique credentials after they are delivered to end customers:\\n\\n1. Fleet provisioning by trusted user: An installer uses a mobile app to generate temporary credentials that are delivered to the unprovisioned device. The device uses these to connect to AWS IoT and exchange them for a unique certificate and key.\\n\\n2. Fleet provisioning by claim: Devices can claim a bulk allotment of unique credentials that were generated in advance by the device maker. The credentials are not bound to a specific device until claimed.\\n\\nSo in summary, fleet provisioning allows provisioning devices that do not have unique credentials pre-loaded, by generating and delivering credentials after the device is already with the end customer. The whitepaper recommends fleet provisioning if it is not possible to pre-load unique credentials at manufacturing time.\",\n",
      "        \"generation_info\": null,\n",
      "        \"type\": \"Generation\"\n",
      "      }\n",
      "    ]\n",
      "  ],\n",
      "  \"llm_output\": null,\n",
      "  \"run\": null\n",
      "}\n",
      "\u001b[36;1m\u001b[1;3m[chain/end]\u001b[0m \u001b[1m[1:chain:RetrievalQA > 3:chain:StuffDocumentsChain > 4:chain:LLMChain] [16.23s] Exiting Chain run with output:\n",
      "\u001b[0m{\n",
      "  \"text\": \" Based on the context provided, if you are unable to put certificates into your devices before they are sold to customers, the best option for provisioning devices in AWS IoT Core is likely fleet provisioning. \\n\\nThe whitepaper mentions that fleet provisioning provides two ways to provision devices with unique credentials after they are delivered to end customers:\\n\\n1. Fleet provisioning by trusted user: An installer uses a mobile app to generate temporary credentials that are delivered to the unprovisioned device. The device uses these to connect to AWS IoT and exchange them for a unique certificate and key.\\n\\n2. Fleet provisioning by claim: Devices can claim a bulk allotment of unique credentials that were generated in advance by the device maker. The credentials are not bound to a specific device until claimed.\\n\\nSo in summary, fleet provisioning allows provisioning devices that do not have unique credentials pre-loaded, by generating and delivering credentials after the device is already with the end customer. The whitepaper recommends fleet provisioning if it is not possible to pre-load unique credentials at manufacturing time.\"\n",
      "}\n",
      "\u001b[36;1m\u001b[1;3m[chain/end]\u001b[0m \u001b[1m[1:chain:RetrievalQA > 3:chain:StuffDocumentsChain] [16.23s] Exiting Chain run with output:\n",
      "\u001b[0m{\n",
      "  \"output_text\": \" Based on the context provided, if you are unable to put certificates into your devices before they are sold to customers, the best option for provisioning devices in AWS IoT Core is likely fleet provisioning. \\n\\nThe whitepaper mentions that fleet provisioning provides two ways to provision devices with unique credentials after they are delivered to end customers:\\n\\n1. Fleet provisioning by trusted user: An installer uses a mobile app to generate temporary credentials that are delivered to the unprovisioned device. The device uses these to connect to AWS IoT and exchange them for a unique certificate and key.\\n\\n2. Fleet provisioning by claim: Devices can claim a bulk allotment of unique credentials that were generated in advance by the device maker. The credentials are not bound to a specific device until claimed.\\n\\nSo in summary, fleet provisioning allows provisioning devices that do not have unique credentials pre-loaded, by generating and delivering credentials after the device is already with the end customer. The whitepaper recommends fleet provisioning if it is not possible to pre-load unique credentials at manufacturing time.\"\n",
      "}\n",
      "\u001b[36;1m\u001b[1;3m[chain/end]\u001b[0m \u001b[1m[1:chain:RetrievalQA] [33.89s] Exiting Chain run with output:\n",
      "\u001b[0m[outputs]\n"
     ]
    }
   ],
   "source": [
    "query = \"What is the best way to provision device when I can not put certificates into my devices?\"\n",
    "llm_response = qa_chain(query)"
   ]
  },
  {
   "cell_type": "code",
   "execution_count": 31,
   "id": "dcfbc96b-ac81-478a-80b1-615620bd0c16",
   "metadata": {},
   "outputs": [
    {
     "name": "stdout",
     "output_type": "stream",
     "text": [
      " Based on the context provided, if you are unable to put certificates into your devices before they are sold to customers, the best option for provisioning devices in AWS IoT Core is likely fleet provisioning. \n",
      "\n",
      "The whitepaper mentions that fleet provisioning provides two ways to provision devices with unique credentials after they are delivered to end customers:\n",
      "\n",
      "1. Fleet provisioning by trusted user: An installer uses a mobile app to generate temporary credentials that are delivered to the unprovisioned device. The device uses these to connect to AWS IoT and exchange them for a unique certificate and key.\n",
      "\n",
      "2. Fleet provisioning by claim: Devices can claim a bulk allotment of unique credentials that were generated in advance by the device maker. The credentials are not bound to a specific device until claimed.\n",
      "\n",
      "So in summary, fleet provisioning allows provisioning devices that do not have unique credentials pre-loaded, by generating and delivering credentials after the device is already with the end customer. The whitepaper recommends fleet provisioning if it is not possible to pre-load unique credentials at manufacturing time.\n"
     ]
    }
   ],
   "source": [
    "print(llm_response['result'])"
   ]
  },
  {
   "cell_type": "code",
   "execution_count": null,
   "id": "7dc0b5d3-a646-41b8-96e0-c30723a7f983",
   "metadata": {},
   "outputs": [],
   "source": []
  }
 ],
 "metadata": {
  "kernelspec": {
   "display_name": "Python 3 (ipykernel)",
   "language": "python",
   "name": "python3"
  },
  "language_info": {
   "codemirror_mode": {
    "name": "ipython",
    "version": 3
   },
   "file_extension": ".py",
   "mimetype": "text/x-python",
   "name": "python",
   "nbconvert_exporter": "python",
   "pygments_lexer": "ipython3",
   "version": "3.11.4"
  }
 },
 "nbformat": 4,
 "nbformat_minor": 5
}
