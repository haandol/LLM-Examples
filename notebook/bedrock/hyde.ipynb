{
 "cells": [
  {
   "cell_type": "markdown",
   "id": "7b7e2ed0-4c0a-45d8-9098-ab5541c7da9c",
   "metadata": {},
   "source": [
    "# HyDE - Hypothetical Document Embeddings\n",
    "\n",
    "- [HyDE: Precise Zero-Shot Dense Retrieval without Relevance Labels](https://github.com/texttron/hyde)\n",
    "- HyDE creates a \"Hypothetical\" answer with the LLM and then embeds that for search\n",
    "\n",
    "![](https://github.com/texttron/hyde/raw/main/approach.png)"
   ]
  },
  {
   "cell_type": "markdown",
   "id": "2f2884c8-0a27-4c18-88b4-149344fffa34",
   "metadata": {},
   "source": [
    "# 0. Setup"
   ]
  },
  {
   "cell_type": "code",
   "execution_count": 54,
   "id": "4f5867d6-b290-4da9-a585-60a516afd7ff",
   "metadata": {},
   "outputs": [],
   "source": [
    "!pip -q install -U boto3 awscli langchain pypdf"
   ]
  },
  {
   "cell_type": "code",
   "execution_count": 59,
   "id": "49804ff5-09b1-4b17-b08b-d3db991945f7",
   "metadata": {},
   "outputs": [],
   "source": [
    "import boto3\n",
    "from langchain.llms.bedrock import Bedrock\n",
    "from langchain.embeddings import BedrockEmbeddings\n",
    "from langchain.chains import LLMChain, HypotheticalDocumentEmbedder\n",
    "from langchain.prompts import PromptTemplate\n",
    "from langchain.document_loaders import PyPDFLoader\n",
    "from langchain.text_splitter import CharacterTextSplitter\n",
    "from langchain.vectorstores import Chroma\n",
    "\n",
    "from langchain.document_loaders import TextLoader\n",
    "import langchain"
   ]
  },
  {
   "cell_type": "code",
   "execution_count": 18,
   "id": "1828af3e-c6e7-4a9a-b244-08a360e793c6",
   "metadata": {},
   "outputs": [],
   "source": [
    "profile_name = None\n",
    "region = 'us-east-1'"
   ]
  },
  {
   "cell_type": "code",
   "execution_count": 24,
   "id": "9cbeaecc-de48-4fac-8b4f-7671cbab390b",
   "metadata": {},
   "outputs": [],
   "source": [
    "# modelId = 'anthropic.claude-instant-v1'\n",
    "modelId = 'anthropic.claude-v2'"
   ]
  },
  {
   "cell_type": "code",
   "execution_count": 25,
   "id": "4f338b49-18f2-49d6-bc12-ab0318634923",
   "metadata": {},
   "outputs": [],
   "source": [
    "session = boto3.Session(\n",
    "    profile_name=profile_name,\n",
    "    region_name=region,\n",
    ")\n",
    "bedrock = session.client(service_name='bedrock-runtime')"
   ]
  },
  {
   "cell_type": "markdown",
   "id": "a136caaa-b72a-41cc-8395-02c8ac7d504e",
   "metadata": {},
   "source": [
    "## Embeddings\n",
    "\n",
    "- bedrock embedding model - amazon.titan-embed-text-v1\n",
    "- 일반적으로는 SOTA 인 baai 의 [bge](https://python.langchain.com/docs/integrations/text_embedding/bge_huggingface) 씀."
   ]
  },
  {
   "cell_type": "code",
   "execution_count": 27,
   "id": "1b84488a-2bc0-4e2b-9177-3fa18ed2ea64",
   "metadata": {},
   "outputs": [],
   "source": [
    "llm = Bedrock(\n",
    "    model_id=modelId,\n",
    "    client=bedrock,\n",
    "    model_kwargs={\n",
    "        'max_tokens_to_sample': 1024\n",
    "    },\n",
    ")\n",
    "bedrock_embeddings = BedrockEmbeddings(\n",
    "    model_id=\"amazon.titan-embed-text-v1\",\n",
    "    client=bedrock,\n",
    ")"
   ]
  },
  {
   "cell_type": "code",
   "execution_count": 28,
   "id": "b8f83714-336c-4006-b3dc-9b5a43ce568f",
   "metadata": {},
   "outputs": [],
   "source": [
    "# Load with `web_search` prompt\n",
    "embeddings = HypotheticalDocumentEmbedder.from_llm(\n",
    "    llm,\n",
    "    bedrock_embeddings,\n",
    "    prompt_key=\"web_search\",\n",
    ")"
   ]
  },
  {
   "cell_type": "code",
   "execution_count": 29,
   "id": "fd92dbf2-9392-48e6-b002-959df5aa37aa",
   "metadata": {},
   "outputs": [
    {
     "data": {
      "text/plain": [
       "PromptTemplate(input_variables=['QUESTION'], template='Please write a passage to answer the question \\nQuestion: {QUESTION}\\nPassage:')"
      ]
     },
     "execution_count": 29,
     "metadata": {},
     "output_type": "execute_result"
    }
   ],
   "source": [
    "embeddings.llm_chain.prompt"
   ]
  },
  {
   "cell_type": "code",
   "execution_count": 30,
   "id": "a95f8c6c-f324-4f06-ab99-dfd045d1c9b4",
   "metadata": {},
   "outputs": [],
   "source": [
    "langchain.debug = True"
   ]
  },
  {
   "cell_type": "markdown",
   "id": "efa90241-7e3a-4c40-b677-fff924e22a87",
   "metadata": {},
   "source": [
    "# 1. Run query"
   ]
  },
  {
   "cell_type": "code",
   "execution_count": 31,
   "id": "77b52a26-201c-4732-836f-38617b3a2af4",
   "metadata": {},
   "outputs": [
    {
     "name": "stdout",
     "output_type": "stream",
     "text": [
      "\u001b[32;1m\u001b[1;3m[llm/start]\u001b[0m \u001b[1m[1:llm:Bedrock] Entering LLM run with input:\n",
      "\u001b[0m{\n",
      "  \"prompts\": [\n",
      "    \"Please write a passage to answer the question \\nQuestion: What items does McDonalds make?\\nPassage:\"\n",
      "  ]\n",
      "}\n",
      "\u001b[36;1m\u001b[1;3m[llm/end]\u001b[0m \u001b[1m[1:llm:Bedrock] [8.83s] Exiting LLM run with output:\n",
      "\u001b[0m{\n",
      "  \"generations\": [\n",
      "    [\n",
      "      {\n",
      "        \"text\": \" Here is a passage answering the question \\\"What items does McDonalds make?\\\":\\n\\nMcDonald's is known for its wide variety of fast food menu items. Some of the most popular products McDonald's makes include hamburgers, cheeseburgers, Big Macs, Quarter Pounders, Chicken McNuggets, Filet-O-Fish sandwiches, french fries, milkshakes, sodas, McCafé coffee drinks, salads, wraps, and desserts like apple pies, cookies, and ice cream sundaes. McDonald's breakfast menu features options like Egg McMuffins, hotcakes, and hash browns. McDonald's frequently adds limited-time and seasonal items to its menus as well, such as the McRib sandwich. Overall, McDonald's makes a very diverse range of fast food products, from burgers and fries to coffee drinks and desserts, to satisfy customers craving quick and convenient meals. The wide selection is one reason McDonald's has remained so popular worldwide.\",\n",
      "        \"generation_info\": null,\n",
      "        \"type\": \"Generation\"\n",
      "      }\n",
      "    ]\n",
      "  ],\n",
      "  \"llm_output\": null,\n",
      "  \"run\": null\n",
      "}\n"
     ]
    }
   ],
   "source": [
    "# Now we can use it as any embedding class!\n",
    "result = embeddings.embed_query(\"What items does McDonalds make?\")"
   ]
  },
  {
   "cell_type": "markdown",
   "id": "78274cd4-a162-4acf-9d72-fc86dd9a9d31",
   "metadata": {},
   "source": [
    "# 2. Custom prompt"
   ]
  },
  {
   "cell_type": "code",
   "execution_count": 49,
   "id": "dcfc9cf8-1edc-437e-89ad-e8d392ffef3a",
   "metadata": {},
   "outputs": [],
   "source": [
    "prompt_template = \"\"\"\n",
    "Please answer the user's question as a single food item.\n",
    "Question: {QUESTION}\n",
    "Answer: \"\"\".strip()\n",
    "prompt = PromptTemplate(\n",
    "    input_variables=[\"QUESTION\"],\n",
    "    template=prompt_template,\n",
    ")"
   ]
  },
  {
   "cell_type": "code",
   "execution_count": 50,
   "id": "38b4db12-3dc8-4af7-a4ef-a40ecd60e2ce",
   "metadata": {},
   "outputs": [],
   "source": [
    "llm_chain = LLMChain(llm=llm, prompt=prompt)"
   ]
  },
  {
   "cell_type": "code",
   "execution_count": 51,
   "id": "054d0366-d472-41ee-8000-9b036dde5e74",
   "metadata": {},
   "outputs": [],
   "source": [
    "embeddings = HypotheticalDocumentEmbedder(\n",
    "    llm_chain=llm_chain,\n",
    "    base_embeddings=bedrock_embeddings,\n",
    ")"
   ]
  },
  {
   "cell_type": "code",
   "execution_count": 52,
   "id": "28cd5d2e-7409-41b7-ade3-3e0f0a46b717",
   "metadata": {},
   "outputs": [
    {
     "name": "stdout",
     "output_type": "stream",
     "text": [
      "\u001b[32;1m\u001b[1;3m[llm/start]\u001b[0m \u001b[1m[1:llm:Bedrock] Entering LLM run with input:\n",
      "\u001b[0m{\n",
      "  \"prompts\": [\n",
      "    \"Please answer the user's question as a single food item.\\nQuestion: What is is McDonalds best selling item?\\nAnswer:\"\n",
      "  ]\n",
      "}\n",
      "\u001b[36;1m\u001b[1;3m[llm/end]\u001b[0m \u001b[1m[1:llm:Bedrock] [763ms] Exiting LLM run with output:\n",
      "\u001b[0m{\n",
      "  \"generations\": [\n",
      "    [\n",
      "      {\n",
      "        \"text\": \" Big Mac\",\n",
      "        \"generation_info\": null,\n",
      "        \"type\": \"Generation\"\n",
      "      }\n",
      "    ]\n",
      "  ],\n",
      "  \"llm_output\": null,\n",
      "  \"run\": null\n",
      "}\n"
     ]
    }
   ],
   "source": [
    "query = \"What is is McDonalds best selling item?\"\n",
    "result = embeddings.embed_query(query)"
   ]
  },
  {
   "cell_type": "markdown",
   "id": "61fd2ff7-7424-461c-939e-4319877f6e2c",
   "metadata": {},
   "source": [
    "# 3. Advanced usage\n",
    "\n",
    "- AWS IoT Provisioning Whitepaper [다운로드](https://docs.aws.amazon.com/pdfs/whitepapers/latest/device-manufacturing-provisioning/device-manufacturing-provisioning.pdf#device-manufacturing-provisioning)\n",
    "- 간접적인 질문을 통해 HyDE 사용"
   ]
  },
  {
   "cell_type": "code",
   "execution_count": 93,
   "id": "755f85aa-5da0-4c72-901f-0e4344d25e40",
   "metadata": {},
   "outputs": [],
   "source": [
    "loader = PyPDFLoader(\"iot.pdf\")\n",
    "text_splitter = CharacterTextSplitter(chunk_size=1000, chunk_overlap=0)\n",
    "texts = loader.load_and_split(text_splitter=text_splitter)"
   ]
  },
  {
   "cell_type": "code",
   "execution_count": 94,
   "id": "ccf099ff-7049-43a2-9673-5aa0f89b7f57",
   "metadata": {},
   "outputs": [
    {
     "data": {
      "text/plain": [
       "36"
      ]
     },
     "execution_count": 94,
     "metadata": {},
     "output_type": "execute_result"
    }
   ],
   "source": [
    "len(texts)"
   ]
  },
  {
   "cell_type": "code",
   "execution_count": 95,
   "id": "dffb30d3-4082-4b9e-8271-8a78b5041c1a",
   "metadata": {},
   "outputs": [
    {
     "data": {
      "text/plain": [
       "Document(page_content='Device Manufacturing and \\nProvisioning with X.509 \\nCertiﬁcates in AWS IoT Core\\nAWS Whitepaper', metadata={'source': 'iot.pdf', 'page': 0})"
      ]
     },
     "execution_count": 95,
     "metadata": {},
     "output_type": "execute_result"
    }
   ],
   "source": [
    "texts[0]"
   ]
  },
  {
   "cell_type": "code",
   "execution_count": 97,
   "id": "874b1ec1-f2ba-407c-8983-c61d8f2fff03",
   "metadata": {},
   "outputs": [],
   "source": [
    "prompt_template = \"\"\"\n",
    "Please answer the user's question as related to Internet of things provisioning.\n",
    "Question: {QUESTION}\n",
    "Answer: \"\"\".strip()\n",
    "prompt = PromptTemplate(\n",
    "    input_variables=[\"QUESTION\"],\n",
    "    template=prompt_template,\n",
    ")\n",
    "\n",
    "llm_chain = LLMChain(llm=llm, prompt=prompt)"
   ]
  },
  {
   "cell_type": "code",
   "execution_count": 98,
   "id": "b8868922-9b0e-428c-bb8e-6ddeaf2d7790",
   "metadata": {},
   "outputs": [],
   "source": [
    "embeddings = HypotheticalDocumentEmbedder(\n",
    "    llm_chain=llm_chain,\n",
    "    base_embeddings=bedrock_embeddings,\n",
    ")"
   ]
  },
  {
   "cell_type": "code",
   "execution_count": 99,
   "id": "f8a45abc-0d24-4fb8-a9bc-76c8332de646",
   "metadata": {},
   "outputs": [
    {
     "name": "stdout",
     "output_type": "stream",
     "text": [
      "CPU times: user 409 ms, sys: 53.1 ms, total: 462 ms\n",
      "Wall time: 11.6 s\n"
     ]
    }
   ],
   "source": [
    "%%time\n",
    "\n",
    "docsearch = Chroma.from_documents(texts, embeddings)"
   ]
  },
  {
   "cell_type": "markdown",
   "id": "f2eccc02-eff0-43cc-bf86-feb7e8196a08",
   "metadata": {},
   "source": [
    "- nosql 이라는 단어는 문서에 등장하지 않지만, nosql 데이터베이스를 언급하고 mongodb 가 AGPL 사용하고 있다고 알려준다."
   ]
  },
  {
   "cell_type": "code",
   "execution_count": 100,
   "id": "507fe497-487e-45d4-ba01-f855eab8f1d6",
   "metadata": {},
   "outputs": [
    {
     "name": "stdout",
     "output_type": "stream",
     "text": [
      "\u001b[32;1m\u001b[1;3m[llm/start]\u001b[0m \u001b[1m[1:llm:Bedrock] Entering LLM run with input:\n",
      "\u001b[0m{\n",
      "  \"prompts\": [\n",
      "    \"Please answer the user's question as related to Internet of things provisioning.\\nQuestion: What is the best way to provision device when I can not put certificates into my devices?\\nAnswer:\"\n",
      "  ]\n",
      "}\n",
      "\u001b[36;1m\u001b[1;3m[llm/end]\u001b[0m \u001b[1m[1:llm:Bedrock] [26.43s] Exiting LLM run with output:\n",
      "\u001b[0m{\n",
      "  \"generations\": [\n",
      "    [\n",
      "      {\n",
      "        \"text\": \" Here are a few suggestions for provisioning internet of things (IoT) devices without being able to put certificates on them:\\n\\n- Use symmetric key encryption - Generate a symmetric key and install it on both the device and IoT hub/platform during manufacturing. The device can use this key to authenticate to the hub.\\n\\n- Use a Trust On First Use (TOFU) model - The first time a device connects to the hub/platform, its credentials are stored and trusted going forward. Not as secure as asymmetric cryptography but can work for some basic scenarios.\\n\\n- Use a Claim-based Model - The device makes a claim about its identity (e.g. a serial number) and the hub verifies this through a lookup on the vendor database before trusting the device.\\n\\n- Use a Time-limited Token - Generate a token with a short time to live that gets passed to the device and authenticated at the hub. The token expires quickly so replay attacks are not possible.\\n\\n- Use Physical Unclonable Functions (PUFs) - PUFs generate a unique fingerprint for a silicon chip that cannot be cloned. This PUF output can act like a certificate for the device.\\n\\nThe best option depends on the security requirements, availability of vendor infrastructure, and capabilities of the IoT devices. But using one of these methods can allow provisioning without putting full certificates on constrained devices.\",\n",
      "        \"generation_info\": null,\n",
      "        \"type\": \"Generation\"\n",
      "      }\n",
      "    ]\n",
      "  ],\n",
      "  \"llm_output\": null,\n",
      "  \"run\": null\n",
      "}\n"
     ]
    }
   ],
   "source": [
    "query = \"What is the best way to provision device when I can not put certificates into my devices?\"\n",
    "docs = docsearch.similarity_search(query)"
   ]
  },
  {
   "cell_type": "code",
   "execution_count": 101,
   "id": "3035f4e8-538e-4eeb-a527-967074759de9",
   "metadata": {},
   "outputs": [
    {
     "name": "stdout",
     "output_type": "stream",
     "text": [
      "Device Manufacturing and Provisioning with X.509 \n",
      "Certiﬁcates in AWS IoT Core AWS Whitepaper\n",
      "Network File System (NFS), or over a serial connection, and store those credentials to a secure place on \n",
      "the device. Security credentials and PKI may be handled and exposed to the contract manufacturer, so \n",
      "it’s important that the provisioning process is performed in a secure environment by trusted individuals.\n",
      "Inject credentials at manufacturing time\n",
      "Introducing customization for each device image at manufacturing time can add valuable time to \n",
      "produce each device and additional logistical overhead, because the manufacturer must track that \n",
      "customization for each device produced. This can lead to increased cost per unit to the device maker \n",
      "charged by the contract manufacturer, due to the additional time using the manufacturer’s production \n",
      "line.\n",
      "To isolate and protect device keys from the ﬁrmware, device makers may choose to use a hardware \n",
      "security module (HSM), such as a secure element or trusted platform module (TPM) on their device. \n",
      "By using an HSM to separate the device keys from the ﬁrmware, the HSM can be provisioned with \n",
      "credentials independent of the ﬁrmware image, either during device manufacturing, or by the HSM \n",
      "vendor. HSM vendors oﬀer services to generate private keys and sign X.509 certiﬁcates in the vendor’s \n",
      "secure facility. This allows device makers to provide a single standard ﬁrmware image to the contract \n",
      "manufacturer with logic to communicate with the pre-provisioned HSM. The contract manufacturer \n",
      "is responsible for placing the HSM onto the PCB, but the credentials are not exposed and no extra \n",
      "processes are necessary to provision the credentials.\n",
      "10\n"
     ]
    }
   ],
   "source": [
    "print(docs[0].page_content)"
   ]
  },
  {
   "cell_type": "code",
   "execution_count": 104,
   "id": "226644f0-5184-4cb9-8f40-13df489738a2",
   "metadata": {},
   "outputs": [
    {
     "name": "stdout",
     "output_type": "stream",
     "text": [
      "Device Manufacturing and Provisioning with X.509 \n",
      "Certiﬁcates in AWS IoT Core AWS Whitepaper\n",
      "Network File System (NFS), or over a serial connection, and store those credentials to a secure place on \n",
      "the device. Security credentials and PKI may be handled and exposed to the contract manufacturer, so \n",
      "it’s important that the provisioning process is performed in a secure environment by trusted individuals.\n",
      "Inject credentials at manufacturing time\n",
      "Introducing customization for each device image at manufacturing time can add valuable time to \n",
      "produce each device and additional logistical overhead, because the manufacturer must track that \n",
      "customization for each device produced. This can lead to increased cost per unit to the device maker \n",
      "charged by the contract manufacturer, due to the additional time using the manufacturer’s production \n",
      "line.\n",
      "To isolate and protect device keys from the ﬁrmware, device makers may choose to use a hardware \n",
      "security module (HSM), such as a secure element or trusted platform module (TPM) on their device. \n",
      "By using an HSM to separate the device keys from the ﬁrmware, the HSM can be provisioned with \n",
      "credentials independent of the ﬁrmware image, either during device manufacturing, or by the HSM \n",
      "vendor. HSM vendors oﬀer services to generate private keys and sign X.509 certiﬁcates in the vendor’s \n",
      "secure facility. This allows device makers to provide a single standard ﬁrmware image to the contract \n",
      "manufacturer with logic to communicate with the pre-provisioned HSM. The contract manufacturer \n",
      "is responsible for placing the HSM onto the PCB, but the credentials are not exposed and no extra \n",
      "processes are necessary to provision the credentials.\n",
      "10\n"
     ]
    }
   ],
   "source": [
    "print(docs[0].page_content)"
   ]
  },
  {
   "cell_type": "code",
   "execution_count": null,
   "id": "6fcb2aee-ed5f-495b-9cab-9d401eb262b3",
   "metadata": {},
   "outputs": [],
   "source": []
  }
 ],
 "metadata": {
  "kernelspec": {
   "display_name": "Python 3 (ipykernel)",
   "language": "python",
   "name": "python3"
  },
  "language_info": {
   "codemirror_mode": {
    "name": "ipython",
    "version": 3
   },
   "file_extension": ".py",
   "mimetype": "text/x-python",
   "name": "python",
   "nbconvert_exporter": "python",
   "pygments_lexer": "ipython3",
   "version": "3.11.4"
  }
 },
 "nbformat": 4,
 "nbformat_minor": 5
}
