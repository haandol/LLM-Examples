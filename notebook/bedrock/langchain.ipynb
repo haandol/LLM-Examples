{
 "cells": [
  {
   "cell_type": "markdown",
   "id": "e10f95d0-490a-473f-84ff-c550c423e5e9",
   "metadata": {},
   "source": [
    "# Bedrock + Langchain\n",
    "\n",
    "- langchain 용 보일러 플레이트용 코드들 소개\n",
    "\n",
    "---\n",
    "\n",
    "# 0. Setup"
   ]
  },
  {
   "cell_type": "code",
   "execution_count": 1,
   "id": "72d7f039-b8a3-4e5a-a8e5-3fe5cea043c0",
   "metadata": {},
   "outputs": [],
   "source": [
    "!pip -q install -U boto3 awscli langchain"
   ]
  },
  {
   "cell_type": "code",
   "execution_count": 15,
   "id": "8391a0f2-7d94-4439-a816-1b13f4bb37e6",
   "metadata": {},
   "outputs": [],
   "source": [
    "import json\n",
    "import boto3\n",
    "\n",
    "# We will be using the Titan Embeddings Model to generate our Embeddings.\n",
    "from langchain.embeddings import BedrockEmbeddings\n",
    "from langchain.llms.bedrock import Bedrock\n",
    "from langchain.chains import ConversationChain\n",
    "from langchain.memory import ConversationBufferMemory\n",
    "from langchain.callbacks.streaming_stdout import StreamingStdOutCallbackHandler"
   ]
  },
  {
   "cell_type": "code",
   "execution_count": 3,
   "id": "f57bd0e7-a10d-4343-b61b-2bccc917e9d3",
   "metadata": {},
   "outputs": [],
   "source": [
    "profile_name = None\n",
    "region = 'us-east-1'"
   ]
  },
  {
   "cell_type": "code",
   "execution_count": 4,
   "id": "224aae9d-9024-4a47-a5bd-d2bb72d27837",
   "metadata": {},
   "outputs": [],
   "source": [
    "session = boto3.Session(\n",
    "    profile_name=profile_name,\n",
    "    region_name=region,\n",
    ")\n",
    "bedrock = session.client(service_name='bedrock-runtime')"
   ]
  },
  {
   "cell_type": "code",
   "execution_count": 7,
   "id": "69b0e4c4-2e64-46e7-8e0b-57e5196d6e55",
   "metadata": {},
   "outputs": [],
   "source": [
    "# modelId = 'anthropic.claude-instant-v1'\n",
    "modelId = 'anthropic.claude-v2'"
   ]
  },
  {
   "cell_type": "code",
   "execution_count": 20,
   "id": "c02b160a-5311-4c1b-8075-1a1921136e53",
   "metadata": {},
   "outputs": [],
   "source": [
    "llm = Bedrock(\n",
    "    model_id=modelId,\n",
    "    client=bedrock,\n",
    "    model_kwargs={\n",
    "        'max_tokens_to_sample': 1024\n",
    "    },\n",
    "    streaming=True,\n",
    "    callbacks=[StreamingStdOutCallbackHandler()],\n",
    ")\n",
    "bedrock_embeddings = BedrockEmbeddings(\n",
    "    model_id=\"amazon.titan-embed-text-v1\",\n",
    "    client=bedrock,\n",
    ")"
   ]
  },
  {
   "cell_type": "code",
   "execution_count": 21,
   "id": "1ec94561-8e30-48a6-8513-f22d05ac829e",
   "metadata": {},
   "outputs": [
    {
     "name": "stdout",
     "output_type": "stream",
     "text": [
      "\n",
      "\n",
      "\u001b[1m> Entering new ConversationChain chain...\u001b[0m\n",
      "Prompt after formatting:\n",
      "\u001b[32;1m\u001b[1;3mThe following is a friendly conversation between a human and an AI. The AI is talkative and provides lots of specific details from its context. If the AI does not know the answer to a question, it truthfully says it does not know.\n",
      "\n",
      "Current conversation:\n",
      "\n",
      "Human: Hi there!\n",
      "AI:\u001b[0m\n",
      " Hello! I'm Claude, an AI assistant created by Anthropic to be helpful, harmless, and honest.\n",
      "\u001b[1m> Finished chain.\u001b[0m\n"
     ]
    },
    {
     "data": {
      "text/plain": [
       "\" Hello! I'm Claude, an AI assistant created by Anthropic to be helpful, harmless, and honest.\""
      ]
     },
     "execution_count": 21,
     "metadata": {},
     "output_type": "execute_result"
    }
   ],
   "source": [
    "conversation = ConversationChain(\n",
    "    llm=llm, verbose=True, memory=ConversationBufferMemory()\n",
    ")\n",
    "conversation.predict(input=\"Hi there!\")"
   ]
  },
  {
   "cell_type": "code",
   "execution_count": null,
   "id": "3681c294-10c5-4fbc-81d7-ab6d90e3ac79",
   "metadata": {},
   "outputs": [],
   "source": []
  }
 ],
 "metadata": {
  "kernelspec": {
   "display_name": "Python 3 (ipykernel)",
   "language": "python",
   "name": "python3"
  },
  "language_info": {
   "codemirror_mode": {
    "name": "ipython",
    "version": 3
   },
   "file_extension": ".py",
   "mimetype": "text/x-python",
   "name": "python",
   "nbconvert_exporter": "python",
   "pygments_lexer": "ipython3",
   "version": "3.11.4"
  }
 },
 "nbformat": 4,
 "nbformat_minor": 5
}
