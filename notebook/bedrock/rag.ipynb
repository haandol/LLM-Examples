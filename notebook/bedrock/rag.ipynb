{
 "cells": [
  {
   "cell_type": "markdown",
   "id": "7b7e2ed0-4c0a-45d8-9098-ab5541c7da9c",
   "metadata": {},
   "source": [
    "# RAG\n",
    "\n",
    "- HyDE 와 비교하기 위해서 기본 설정으로 검색해본다."
   ]
  },
  {
   "cell_type": "markdown",
   "id": "2f2884c8-0a27-4c18-88b4-149344fffa34",
   "metadata": {},
   "source": [
    "# 0. Setup"
   ]
  },
  {
   "cell_type": "code",
   "execution_count": 1,
   "id": "4f5867d6-b290-4da9-a585-60a516afd7ff",
   "metadata": {},
   "outputs": [],
   "source": [
    "!pip -q install -U boto3 awscli langchain pypdf"
   ]
  },
  {
   "cell_type": "code",
   "execution_count": 31,
   "id": "49804ff5-09b1-4b17-b08b-d3db991945f7",
   "metadata": {},
   "outputs": [],
   "source": [
    "import boto3\n",
    "from langchain.llms.bedrock import Bedrock\n",
    "from langchain.embeddings import BedrockEmbeddings\n",
    "from langchain.chains import LLMChain\n",
    "from langchain.prompts import PromptTemplate\n",
    "from langchain.chains import RetrievalQA\n",
    "from langchain.document_loaders import PyPDFLoader\n",
    "from langchain.text_splitter import CharacterTextSplitter\n",
    "from langchain.vectorstores import Chroma\n",
    "\n",
    "from langchain.document_loaders import TextLoader\n",
    "import langchain"
   ]
  },
  {
   "cell_type": "code",
   "execution_count": 3,
   "id": "1828af3e-c6e7-4a9a-b244-08a360e793c6",
   "metadata": {},
   "outputs": [],
   "source": [
    "profile_name = None\n",
    "region = 'us-east-1'"
   ]
  },
  {
   "cell_type": "code",
   "execution_count": 4,
   "id": "9cbeaecc-de48-4fac-8b4f-7671cbab390b",
   "metadata": {},
   "outputs": [],
   "source": [
    "# modelId = 'anthropic.claude-instant-v1'\n",
    "modelId = 'anthropic.claude-v2'"
   ]
  },
  {
   "cell_type": "code",
   "execution_count": 5,
   "id": "4f338b49-18f2-49d6-bc12-ab0318634923",
   "metadata": {},
   "outputs": [],
   "source": [
    "session = boto3.Session(\n",
    "    profile_name=profile_name,\n",
    "    region_name=region,\n",
    ")\n",
    "bedrock = session.client(service_name='bedrock-runtime')"
   ]
  },
  {
   "cell_type": "markdown",
   "id": "a136caaa-b72a-41cc-8395-02c8ac7d504e",
   "metadata": {},
   "source": [
    "## Embeddings\n",
    "\n",
    "- bedrock embedding model - amazon.titan-embed-text-v1\n",
    "- 일반적으로는 SOTA 인 baai 의 [bge](https://python.langchain.com/docs/integrations/text_embedding/bge_huggingface) 씀."
   ]
  },
  {
   "cell_type": "code",
   "execution_count": 8,
   "id": "1b84488a-2bc0-4e2b-9177-3fa18ed2ea64",
   "metadata": {},
   "outputs": [],
   "source": [
    "llm = Bedrock(\n",
    "    model_id=modelId,\n",
    "    client=bedrock,\n",
    "    model_kwargs={\n",
    "        'max_tokens_to_sample': 1024\n",
    "    },\n",
    ")\n",
    "embeddings = BedrockEmbeddings(\n",
    "    model_id=\"amazon.titan-embed-text-v1\",\n",
    "    client=bedrock,\n",
    ")"
   ]
  },
  {
   "cell_type": "code",
   "execution_count": 44,
   "id": "a95f8c6c-f324-4f06-ab99-dfd045d1c9b4",
   "metadata": {},
   "outputs": [],
   "source": [
    "langchain.debug = False"
   ]
  },
  {
   "cell_type": "markdown",
   "id": "61fd2ff7-7424-461c-939e-4319877f6e2c",
   "metadata": {},
   "source": [
    "# 1. Usage\n",
    "\n",
    "- AWS IoT Provisioning Whitepaper [다운로드](https://docs.aws.amazon.com/pdfs/whitepapers/latest/device-manufacturing-provisioning/device-manufacturing-provisioning.pdf#device-manufacturing-provisioning)\n",
    "- 간접적인 질문을 통해 HyDE 사용"
   ]
  },
  {
   "cell_type": "code",
   "execution_count": 45,
   "id": "755f85aa-5da0-4c72-901f-0e4344d25e40",
   "metadata": {},
   "outputs": [],
   "source": [
    "loader = PyPDFLoader(\"iot.pdf\")\n",
    "text_splitter = CharacterTextSplitter(chunk_size=1000, chunk_overlap=0)\n",
    "texts = loader.load_and_split(text_splitter=text_splitter)"
   ]
  },
  {
   "cell_type": "code",
   "execution_count": 46,
   "id": "ccf099ff-7049-43a2-9673-5aa0f89b7f57",
   "metadata": {},
   "outputs": [
    {
     "data": {
      "text/plain": [
       "36"
      ]
     },
     "execution_count": 46,
     "metadata": {},
     "output_type": "execute_result"
    }
   ],
   "source": [
    "len(texts)"
   ]
  },
  {
   "cell_type": "code",
   "execution_count": 47,
   "id": "dffb30d3-4082-4b9e-8271-8a78b5041c1a",
   "metadata": {},
   "outputs": [
    {
     "data": {
      "text/plain": [
       "Document(page_content='Device Manufacturing and \\nProvisioning with X.509 \\nCertiﬁcates in AWS IoT Core\\nAWS Whitepaper', metadata={'source': 'iot.pdf', 'page': 0})"
      ]
     },
     "execution_count": 47,
     "metadata": {},
     "output_type": "execute_result"
    }
   ],
   "source": [
    "texts[0]"
   ]
  },
  {
   "cell_type": "code",
   "execution_count": 48,
   "id": "f8a45abc-0d24-4fb8-a9bc-76c8332de646",
   "metadata": {},
   "outputs": [
    {
     "name": "stdout",
     "output_type": "stream",
     "text": [
      "CPU times: user 359 ms, sys: 43.2 ms, total: 402 ms\n",
      "Wall time: 12.1 s\n"
     ]
    }
   ],
   "source": [
    "%%time\n",
    "\n",
    "docsearch = Chroma.from_documents(texts, embeddings)"
   ]
  },
  {
   "cell_type": "code",
   "execution_count": 49,
   "id": "e27f3335-dea4-4afe-aa31-c1dd645cefa0",
   "metadata": {},
   "outputs": [
    {
     "data": {
      "text/plain": [
       "'similarity'"
      ]
     },
     "execution_count": 49,
     "metadata": {},
     "output_type": "execute_result"
    }
   ],
   "source": [
    "retriever = docsearch.as_retriever(search_kwargs={\"k\": 5})\n",
    "retriever.search_type"
   ]
  },
  {
   "cell_type": "code",
   "execution_count": 50,
   "id": "381b2200-58f8-4e50-bd0f-95aa396fba5c",
   "metadata": {},
   "outputs": [],
   "source": [
    "qa_chain = RetrievalQA.from_chain_type(\n",
    "    llm=llm, \n",
    "    chain_type=\"stuff\", \n",
    "    retriever=retriever, \n",
    "    return_source_documents=True,\n",
    ")"
   ]
  },
  {
   "cell_type": "code",
   "execution_count": 52,
   "id": "507fe497-487e-45d4-ba01-f855eab8f1d6",
   "metadata": {},
   "outputs": [],
   "source": [
    "query = \"What is the best way to provision device when I can not put certificates into my devices?\"\n",
    "llm_response = qa_chain(query)"
   ]
  },
  {
   "cell_type": "code",
   "execution_count": 55,
   "id": "226644f0-5184-4cb9-8f40-13df489738a2",
   "metadata": {},
   "outputs": [
    {
     "name": "stdout",
     "output_type": "stream",
     "text": [
      " Based on the provided context, the best way to provision devices when you cannot put certificates directly into the devices is to use AWS IoT Core's fleet provisioning. \n",
      "\n",
      "Key points:\n",
      "\n",
      "- Fleet provisioning allows you to provision devices without having to put certificates directly on the devices. \n",
      "\n",
      "- With fleet provisioning, the device maker sets up a provisioning template in AWS IoT Core. Devices are then provisioned by having a trusted mobile app request temporary credentials from AWS IoT using the CreateProvisioningClaim API. \n",
      "\n",
      "- The temporary credentials are sent to the device over a secure connection like Bluetooth, WiFi, or USB. \n",
      "\n",
      "- The device then uses the temporary credentials to connect to AWS IoT Core where it can get its permanent credentials.\n",
      "\n",
      "- The device maker never needs direct access to put certificates on devices. The whole process is handled through the provisioning template and API call from the trusted mobile app.\n",
      "\n",
      "So in summary, if you can't put certificates directly on devices, AWS IoT Core's fleet provisioning capability allows you to provision devices in a secure way without needing direct access to the devices to install certificates.\n"
     ]
    }
   ],
   "source": [
    "print(llm_response['result'])"
   ]
  },
  {
   "cell_type": "code",
   "execution_count": 60,
   "id": "6d521627-7809-438c-8eab-6090a7dabc8d",
   "metadata": {},
   "outputs": [
    {
     "name": "stdout",
     "output_type": "stream",
     "text": [
      "Device Manufacturing and Provisioning with X.509 \n",
      "Certiﬁcates in AWS IoT Core AWS Whitepaper\n",
      "Fleet provisioning by trusted user\n",
      "Setup\n",
      "Device makers that use the Trusted User ﬂow must develop and maintain a mobile application that uses \n",
      "the CreateProvisioningClaim  API. The ﬂeet provisioning template must be set up and maintained in \n",
      "AWS IoT Core by the device maker. Optionally, a pre-provisioning AWS Lambda function is recommended \n",
      "to provide additional authentication steps during the provisioning process.\n",
      "Device logic\n",
      "Devices must have the ability to accept temporary credentials over a secure connection such as Bluetooth \n",
      "Low Energy, WiFi, or USB. Devices must implement the logic necessary to publish and subscribe to ﬂeet \n",
      "provisioning MQTT topics, accept the permanent credentials, and write the credentials to secure storage.\n",
      "20\n"
     ]
    }
   ],
   "source": [
    "print(llm_response['source_documents'][0].page_content)"
   ]
  },
  {
   "cell_type": "code",
   "execution_count": null,
   "id": "6c1aabc1-34a0-4d2d-9dce-91b24e2ac527",
   "metadata": {},
   "outputs": [],
   "source": []
  }
 ],
 "metadata": {
  "kernelspec": {
   "display_name": "Python 3 (ipykernel)",
   "language": "python",
   "name": "python3"
  },
  "language_info": {
   "codemirror_mode": {
    "name": "ipython",
    "version": 3
   },
   "file_extension": ".py",
   "mimetype": "text/x-python",
   "name": "python",
   "nbconvert_exporter": "python",
   "pygments_lexer": "ipython3",
   "version": "3.11.4"
  }
 },
 "nbformat": 4,
 "nbformat_minor": 5
}
