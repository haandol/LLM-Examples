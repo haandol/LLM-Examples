{
 "cells": [
  {
   "cell_type": "markdown",
   "id": "e5161fc7-7961-43bb-8886-6a072baecdf4",
   "metadata": {},
   "source": [
    "# Bedrock basic\n",
    "\n",
    "- 보일러 플레이트용 코드들 소개\n",
    "\n",
    "---\n",
    "\n",
    "# 0. Setup\n"
   ]
  },
  {
   "cell_type": "code",
   "execution_count": 5,
   "id": "d9f5a61e-4d3b-41da-927d-ef79da5729df",
   "metadata": {},
   "outputs": [],
   "source": [
    "!pip -q install -U boto3 awscli"
   ]
  },
  {
   "cell_type": "code",
   "execution_count": 6,
   "id": "93d6964b-9581-4e4e-b0c0-43ebc2ccc77d",
   "metadata": {},
   "outputs": [],
   "source": [
    "import json\n",
    "import boto3"
   ]
  },
  {
   "cell_type": "code",
   "execution_count": 7,
   "id": "2c77d7b6-694d-45b3-9901-a951601abb19",
   "metadata": {},
   "outputs": [],
   "source": [
    "profile_name = None\n",
    "region = 'us-east-1'"
   ]
  },
  {
   "cell_type": "code",
   "execution_count": 8,
   "id": "1c713f8f-9d78-4636-a364-0f8b0a62998b",
   "metadata": {},
   "outputs": [],
   "source": [
    "session = boto3.Session(\n",
    "    profile_name=profile_name,\n",
    "    region_name=region,\n",
    ")\n",
    "bedrock = session.client(service_name='bedrock-runtime')"
   ]
  },
  {
   "cell_type": "code",
   "execution_count": 9,
   "id": "41919243-56fe-417f-9e2d-8f5cfc6ac33d",
   "metadata": {},
   "outputs": [],
   "source": [
    "# modelId = 'anthropic.claude-instant-v1'\n",
    "modelId = 'anthropic.claude-v2'\n",
    "accept = 'application/json'\n",
    "contentType = 'application/json'"
   ]
  },
  {
   "cell_type": "markdown",
   "id": "128fdb06-6b17-4a88-91d3-09fd098de9ee",
   "metadata": {},
   "source": [
    "# 1. 감성분석기 만들기\n",
    "\n",
    "- 배송 및 물류에 관한 내용에 대해서만 불만을 찾는 분류기"
   ]
  },
  {
   "cell_type": "code",
   "execution_count": 42,
   "id": "a35225be-7f67-4550-9a60-fcf55fd31053",
   "metadata": {},
   "outputs": [],
   "source": [
    "instruction_prompt = \"\"\"\n",
    "You are an agent work for fulfillment center. \\\n",
    "You classify the sentiment conveyed in the user's text only about delivery and inventory matters.\n",
    "The available sentiment categories are negative, natural, positive.\n",
    "The user text is enclosed in text tags, <text></text>.\n",
    "\n",
    "Let's think step by step, and follow below steps to provide a concise response to the user.\n",
    "Respond the classified sentiment in result tag, <result></result>.\n",
    "\"\"\".strip()\n",
    "\n",
    "def _build_prompt(chunk):\n",
    "    user_prompt = f\"\"\"\n",
    "Here is the user text.\n",
    "\n",
    "<text>{chunk}</text>\n",
    "\n",
    "Please classify the sentiment, and respond with sentiment only, nothing else.\n",
    "\"\"\".strip()\n",
    "    return f\"\"\"\\n\\nHuman: {instruction_prompt}\\n\\nHuman: {user_prompt}\\n\\n Assistant: \"\"\"\n",
    "\n",
    "def generate(chunk):\n",
    "    body = json.dumps({\n",
    "        \"prompt\": _build_prompt(chunk),\n",
    "        \"max_tokens_to_sample\": 1024,\n",
    "        \"top_p\": 0.9,\n",
    "        \"temperature\": 0,\n",
    "    })\n",
    "    resp = bedrock.invoke_model(body=body, modelId=modelId, accept=accept, contentType=contentType)\n",
    "    resp_text = resp.get('body').read()\n",
    "    try:\n",
    "        return json.loads(resp_text).get('completion')\n",
    "    except Exception as e:\n",
    "        print('error occured', e)\n",
    "        print(resp_text)\n",
    "        return None"
   ]
  },
  {
   "cell_type": "code",
   "execution_count": 43,
   "id": "46396eca-5f00-4549-bc45-511c297dc461",
   "metadata": {},
   "outputs": [
    {
     "data": {
      "text/plain": [
       "' <result>positive</result>'"
      ]
     },
     "execution_count": 43,
     "metadata": {},
     "output_type": "execute_result"
    }
   ],
   "source": [
    "generate(\"\"\"        \n",
    "사전예약일 10월 6일 00시 01분 대기를 타고 있다가 00시 01분에 광클하여 00시 10분 정도에 성공해서 아이폰15 일반 256GB 핑크를 구입했습니다\n",
    "다행히 1차에 성공을 해서 10월 13일 도착 보장이라고 떠있었고,\n",
    "10월 12일 배송 출발해서 10월 13일 새벽 5시쯤 배송이 완료가 됐습니다.\n",
    "새벽배송이라고 안써있어서 새벽에 올 줄 몰랐는데,,\n",
    "일찍와서 너무 좋았어요\n",
    "아이폰 박스에 뽁뽁이로 포장이 되어 배송이 됐고, 안전하게 배송이 되었습니다.\n",
    "\n",
    "충전 어댑터가 없이 C to C 케이블만 들어있고, 가격이 비싸다는 단점이...\n",
    "\"\"\")"
   ]
  },
  {
   "cell_type": "code",
   "execution_count": 44,
   "id": "4fe09ed4-f97a-4e4e-ab86-832e0c8559cb",
   "metadata": {},
   "outputs": [
    {
     "data": {
      "text/plain": [
       "' <result>negative</result>'"
      ]
     },
     "execution_count": 44,
     "metadata": {},
     "output_type": "execute_result"
    }
   ],
   "source": [
    "generate(\"\"\"        \n",
    "새벽 배송이라고 써있어서 새벽에 올 줄 알았는데, 오후 늦게 도착해서 실망했습니다.\n",
    "아이폰 박스에 뽁뽁이로 포장이 안되어 있어서 제품 파손이 약간 우려스러웠습니다.\n",
    "제가 아이폰만 계속 쓰고 있어서 그런것도 있지만, 제품은 정말 최고의 제품입니다.\n",
    "아직 안바꾸신 분들 계시면 꼭 바꾸시길 추천합니다.\n",
    "\"\"\")"
   ]
  },
  {
   "cell_type": "code",
   "execution_count": 45,
   "id": "58a8b21f-bfd7-4a31-ad64-fac076993b25",
   "metadata": {},
   "outputs": [
    {
     "data": {
      "text/plain": [
       "' <result>negative</result>'"
      ]
     },
     "execution_count": 45,
     "metadata": {},
     "output_type": "execute_result"
    }
   ],
   "source": [
    "generate(\"\"\"        \n",
    "I thought it was a dawn delivery since it was mentioned as dawn, but it arrived late in the afternoon, which was disappointing.\n",
    "Also, I was slightly concerned about product damage because the iPhone box was not securely padded.\n",
    "Part of it might be due to my continuous use of iPhones, but the product is truly excellent.\n",
    "If there are still people who haven't switched, I highly recommend doing so.\n",
    "\"\"\")"
   ]
  },
  {
   "cell_type": "code",
   "execution_count": null,
   "id": "d81fc3e5-2827-4487-979e-721aee5719dd",
   "metadata": {},
   "outputs": [],
   "source": []
  }
 ],
 "metadata": {
  "kernelspec": {
   "display_name": "Python 3 (ipykernel)",
   "language": "python",
   "name": "python3"
  },
  "language_info": {
   "codemirror_mode": {
    "name": "ipython",
    "version": 3
   },
   "file_extension": ".py",
   "mimetype": "text/x-python",
   "name": "python",
   "nbconvert_exporter": "python",
   "pygments_lexer": "ipython3",
   "version": "3.11.4"
  }
 },
 "nbformat": 4,
 "nbformat_minor": 5
}
