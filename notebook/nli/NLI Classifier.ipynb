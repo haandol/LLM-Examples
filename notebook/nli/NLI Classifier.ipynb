{
 "cells": [
  {
   "cell_type": "markdown",
   "id": "b77b166f-ebca-4035-9757-4b6b777a7472",
   "metadata": {},
   "source": [
    "# Classification using NLI (Natural language inference)\n",
    "\n",
    "- 전체 텍스트를 요약하고 요약본의 클래스를 분류한다.\n",
    "- 원본 글로 분류하면 잘 안됨\n",
    "- 요약을 하고 난 요약본으로 분류 하면 잘 됨\n",
    "\n",
    "# 0. Setup"
   ]
  },
  {
   "cell_type": "code",
   "execution_count": 1,
   "id": "50816816-e317-4b99-9319-2c6451d90b52",
   "metadata": {},
   "outputs": [],
   "source": [
    "!pip -q install -U transformers langchain"
   ]
  },
  {
   "cell_type": "code",
   "execution_count": 1,
   "id": "d32f1e19-b44a-49cf-aeea-6910ca5da775",
   "metadata": {},
   "outputs": [],
   "source": [
    "import json\n",
    "import boto3\n",
    "import textwrap\n",
    "\n",
    "from langchain.llms.bedrock import Bedrock\n",
    "from langchain.text_splitter import RecursiveCharacterTextSplitter\n",
    "from langchain.chains.summarize import load_summarize_chain\n",
    "from transformers import pipeline"
   ]
  },
  {
   "cell_type": "code",
   "execution_count": 2,
   "id": "6ae02f90-476f-470d-ab2b-b577d0ae4fe4",
   "metadata": {},
   "outputs": [],
   "source": [
    "profile_name = None\n",
    "region = 'us-east-1'"
   ]
  },
  {
   "cell_type": "code",
   "execution_count": 3,
   "id": "9f4ee042-66ee-402b-a4bb-bc8f8cdc3915",
   "metadata": {},
   "outputs": [],
   "source": [
    "session = boto3.Session(\n",
    "    profile_name=profile_name,\n",
    "    region_name=region,\n",
    ")\n",
    "bedrock = session.client(service_name='bedrock-runtime')"
   ]
  },
  {
   "cell_type": "code",
   "execution_count": 4,
   "id": "80d0d0eb-6aae-481f-9427-99068789550d",
   "metadata": {},
   "outputs": [],
   "source": [
    "modelId = 'anthropic.claude-v2'"
   ]
  },
  {
   "cell_type": "code",
   "execution_count": 5,
   "id": "05537d55-2769-4b8b-8d13-413a2b30b80d",
   "metadata": {},
   "outputs": [],
   "source": [
    "llm = Bedrock(\n",
    "    model_id=modelId,\n",
    "    model_kwargs={\n",
    "        \"max_tokens_to_sample\": 4096,\n",
    "        \"top_p\": 0.9,\n",
    "        \"temperature\": 0,\n",
    "    },\n",
    "    client=bedrock,\n",
    ")"
   ]
  },
  {
   "cell_type": "markdown",
   "id": "94f9fa7b-b8f3-4c7f-af4a-16c6d08fd4c0",
   "metadata": {},
   "source": [
    "# 1. Data Load\n",
    "\n",
    "- [Anti-corruption layer pattern](https://docs.aws.amazon.com/prescriptive-guidance/latest/cloud-design-patterns/acl.html)"
   ]
  },
  {
   "cell_type": "code",
   "execution_count": 6,
   "id": "576f8bd2-eebb-4ecb-8ef3-cbd9ea547462",
   "metadata": {},
   "outputs": [
    {
     "data": {
      "text/plain": [
       "'Anti-corruption layer pattern Intent The anti-corruption layer (ACL) pattern ...'"
      ]
     },
     "execution_count": 6,
     "metadata": {},
     "output_type": "execute_result"
    }
   ],
   "source": [
    "with open('acl.txt', 'r') as fp:\n",
    "    doc = fp.read()\n",
    "textwrap.shorten(doc, width=80, placeholder=' ...')"
   ]
  },
  {
   "cell_type": "markdown",
   "id": "2d250070-279b-467e-aebc-04b620cafe64",
   "metadata": {},
   "source": [
    "# 2. Summarize"
   ]
  },
  {
   "cell_type": "code",
   "execution_count": 7,
   "id": "08abfa1e-9301-4026-8872-9b8fa21eabc1",
   "metadata": {},
   "outputs": [],
   "source": [
    "text_splitter = RecursiveCharacterTextSplitter(\n",
    "    separators=[\"\\n\\n\"],\n",
    "    chunk_size=3000,\n",
    "    chunk_overlap=100,\n",
    ")\n",
    "docs = text_splitter.create_documents([doc])"
   ]
  },
  {
   "cell_type": "code",
   "execution_count": 8,
   "id": "32c99b68-0b25-40d2-aa41-6d6aaae26330",
   "metadata": {},
   "outputs": [],
   "source": [
    "summary_chain = load_summarize_chain(\n",
    "    llm=llm,\n",
    "    chain_type=\"map_reduce\",\n",
    "    verbose=False,\n",
    ")"
   ]
  },
  {
   "cell_type": "code",
   "execution_count": 9,
   "id": "5d1d4762-9ca7-4a9b-80cf-e3eb5bb08bc1",
   "metadata": {
    "scrolled": true
   },
   "outputs": [],
   "source": [
    "output = summary_chain(docs)"
   ]
  },
  {
   "cell_type": "code",
   "execution_count": 10,
   "id": "bb5f4dc3-7ecf-44c5-acc1-8c52c1f726eb",
   "metadata": {},
   "outputs": [
    {
     "name": "stdout",
     "output_type": "stream",
     "text": [
      "Here is a concise summary of the key points:\n",
      "\n",
      "The anti-corruption layer (ACL) pattern provides an abstraction between a monolithic application and a microservice. It translates calls between the incompatible interfaces, allowing incremental migration without disrupting the monolith. The ACL can be implemented as a facade within the monolith or an independent service. It enables decoupling but adds overhead. The ACL should be decommissioned after full migration. Key considerations are technical debt, latency, scaling, and implementation strategy. The provided C# code demonstrates an ACL implementation that transforms monolith data models into the microservice format and handles integration. The ACL isolates the monolith from microservice changes during migration.\n"
     ]
    }
   ],
   "source": [
    "summary = output['output_text'].strip()\n",
    "print(summary)"
   ]
  },
  {
   "cell_type": "markdown",
   "id": "73f2133e-855e-4f8a-a840-cee5bb4bc5fb",
   "metadata": {},
   "source": [
    "# 3. Classify using NLI\n",
    "\n",
    "- nli 모델로 텍스트 카테고리 분류"
   ]
  },
  {
   "cell_type": "code",
   "execution_count": 24,
   "id": "e3bbd96b-0a9a-4545-9180-7c9baa9aedae",
   "metadata": {},
   "outputs": [],
   "source": [
    "classifier = pipeline(\n",
    "    task='zero-shot-classification',\n",
    "    model='facebook/bart-large-mnli',\n",
    ")"
   ]
  },
  {
   "cell_type": "code",
   "execution_count": 25,
   "id": "dc6627b7-8a85-42e7-8728-1333d12a93a3",
   "metadata": {},
   "outputs": [],
   "source": [
    "candidate_labels = ['software engineer', 'web designer', 'digital marketer']"
   ]
  },
  {
   "cell_type": "code",
   "execution_count": 26,
   "id": "64d1d10f-92e1-4ac5-a8d2-5bdf8961cf3d",
   "metadata": {},
   "outputs": [
    {
     "data": {
      "text/plain": [
       "9966"
      ]
     },
     "execution_count": 26,
     "metadata": {},
     "output_type": "execute_result"
    }
   ],
   "source": [
    "len(doc)"
   ]
  },
  {
   "cell_type": "code",
   "execution_count": 27,
   "id": "c56d9875-804b-4b8b-a2db-d0af95139aba",
   "metadata": {},
   "outputs": [
    {
     "name": "stdout",
     "output_type": "stream",
     "text": [
      "{\n",
      "  \"sequence\": \"Anti-corruption layer pattern\\n\\nIntent\\nThe anti-corruption layer (ACL) pattern acts as a mediation layer that translates domain model semantics from one system to another system. It translates the model of the upstream bounded context (monolith) into a model that suits the downstream bounded context (microservice) before consuming the communication contract that's established by the upstream team. This pattern might be applicable when the downstream bounded context contains a core subdomain, or the upstream model is an unmodifiable legacy system. It also reduces transformation risk and business disruption by preventing changes to callers when their calls have to be redirected transparently to the target system.\\nMotivation\\n\\nDuring the migration process, when a monolithic application is migrated into microservices, there might be changes in the domain model semantics of the newly migrated service. When the features within the monolith are required to call these microservices, the calls should be routed to the migrated service without requiring any changes to the calling services. The ACL pattern allows the monolith to call the microservices transparently by acting as an adapter or a facade layer that translates the calls into the newer semantics.\\nApplicability\\n\\nConsider using this pattern when:\\n\\n    Your existing monolithic application has to communicate with a function that has been migrated into a microservice, and the migrated service domain model and semantics differ from the original feature.\\n\\n    Two systems have different semantics and need to exchange data, but it isn't practical to modify one system to be compatible with the other system.\\n\\n    You want to use a quick and simplified approach to adapt one system to another with minimal impact.\\n\\n    Your application is communicating with an external system.\\n\\nIssues and considerations\\n\\n    Team dependencies: When different services in a system are owned by different teams, the new domain model semantics in the migrated services can lead to changes in the calling systems. However, teams might not be able to make these changes in a coordinated way, because they might have other priorities. ACL decouples the callees and translates the calls to match the semantics of the new services, thus avoiding the need for callers to make changes in the current system.\\n\\n    Operational overhead: The ACL pattern requires additional effort to operate and maintain. This work includes integrating ACL with monitoring and alerting tools, the release process, and continuous integration and continuous delivery (CI/CD) processes.\\n\\n    Single point of failure: Any failures in the ACL can make the target service unreachable, causing application issues. To mitigate this issue, you should build in retry capabilities and circuit breakers. See the retry with backoff and circuit breaker patterns to understand more about these options. Setting up appropriate alerts and logging will improve the mean time to resolution (MTTR).\\n\\n    Technical debt: As part of your migration or modernization strategy, consider whether the ACL will be a transient or interim solution, or a long-term solution. If it's an interim solution, you should record the ACL as a technical debt and decommission it after all dependent callers have been migrated.\\n\\n    Latency: The additional layer can introduce latency due to the conversion of requests from one interface to another. We recommend that you define and test performance tolerance in applications that are sensitive to response time before you deploy ACL into production environments.\\n\\n    Scaling bottleneck: In high-load applications where services can scale to peak load, ACL can become a bottleneck and might cause scaling issues. If the target service scales on demand, you should design ACL to scale accordingly.\\n\\n    Service-specific or shared implementation: You can design ACL as a shared object to convert and redirect calls to multiple services or service-specific classes. Take latency, scaling, and failure tolerance into account when you determine the implementation type for ACL.\\n\\nImplementation\\n\\nYou can implement ACL inside your monolithic application as a class that's specific to the service that's being migrated, or as an independent service. The ACL must be decommissioned after all dependent services have been migrated into the microservices architecture.\\nHigh-level architecture\\n\\nIn the following example architecture, a monolithic application has three services: user service, cart service, and account service. The cart service is dependent on the user service, and the application uses a monolithic relational database.\\nMonolithic application with three services.\\n\\nIn the following architecture, the user service has been migrated to a new microservice. The cart service calls the user service, but the implementation is no longer available within the monolith.  It's also likely that the interface of the newly migrated service won't match its previous interface, when it was inside the monolithic application.\\nMonolithic application where one service is moved out to a microservice.\\n\\nIf the cart service has to call the newly migrated user service directly, this will require changes to the cart service and a thorough testing of the monolithic application. This can increase the transformation risk and business disruption. The goal should be to minimize the changes to the existing functionality of the monolithic application.\\n\\nIn this case, we recommend that you introduce an ACL between the old user service and the newly migrated user service. The ACL works as an adapter or a facade that converts the calls into the newer interface. ACL can be implemented inside the monolithic application as a class (for example, UserServiceFacade or UserServiceAdapter) that's specific to the service that was migrated. The anti-corruption layer must be decommissioned after all dependent services have been migrated into the microservices architecture.\\nAdding an anti-corruption layer.\\nImplementation using AWS services\\n\\nThe following diagram shows how you can implement this ACL example by using AWS services.\\nImplementing the ACL pattern with AWS services.\\n\\nThe user microservice is migrated out of the ASP.NET monolithic application and deployed as an AWS Lambda\\nfunction on AWS. Calls to the Lambda function are routed through Amazon API Gateway\\n\\n. ACL is deployed in the monolith to translate the call to adapt to the semantics of the user microservice.\\n\\nWhen Program.cs calls the user service (UserInMonolith.cs) inside the monolith, the call is routed to the ACL (UserServiceACL.cs). The ACL translates the call to the new semantics and interface, and calls the microservice through the API Gateway endpoint. The caller (Program.cs) isn't aware of the translation and routing that take place in the user service and ACL. Because the caller isn't aware of the code changes, there is less business disruption and reduced transformation risk.\\nSample code\\n\\nThe following code snippet provides the changes to the original service and the implementation of UserServiceACL.cs. When a request is received, the original user service calls the ACL. The ACL converts the source object to match the interface of the newly migrated service, calls the service, and returns the response to the caller.\\n\\npublic class UserInMonolith: IUserInMonolith\\n{\\n    private readonly IACL _userServiceACL;\\n    public UserInMonolith(IACL userServiceACL) => (_userServiceACL) = (userServiceACL);\\n    public async Task<HttpStatusCode> UpdateAddress(UserDetails userDetails)\\n    {\\n        //Wrap the original object in the derived class \\n        var destUserDetails = new UserDetailsWrapped(\\\"user\\\", userDetails);\\n        //Logic for updating address has been moved to a microservice\\n        return await _userServiceACL.CallMicroservice(destUserDetails);\\n    }\\n}\\n\\npublic class UserServiceACL: IACL\\n{\\n    static HttpClient _client = new HttpClient();\\n    private static string _apiGatewayDev = string.Empty;\\n\\n    public UserServiceACL()\\n    {\\n        IConfiguration config = new ConfigurationBuilder().AddJsonFile(AppContext.BaseDirectory + \\\"../../../config.json\\\").Build();\\n        _apiGatewayDev = config[\\\"APIGatewayURL:Dev\\\"];\\n        _client.DefaultRequestHeaders.Accept.Add(new MediaTypeWithQualityHeaderValue(\\\"application/json\\\"));\\n    }\\n    public async Task<HttpStatusCode> CallMicroservice(ISourceObject details)\\n    {\\n        _apiGatewayDev +=  \\\"/\\\" + details.ServiceName;\\n        Console.WriteLine(_apiGatewayDev);\\n\\n        var userDetails = details as UserDetails;\\n        var userMicroserviceModel = new UserMicroserviceModel();\\n        userMicroserviceModel.UserId = userDetails.UserId;\\n        userMicroserviceModel.Address = userDetails.AddressLine1 + \\\", \\\" + userDetails.AddressLine2;\\n        userMicroserviceModel.City = userDetails.City;\\n        userMicroserviceModel.State = userDetails.State;\\n        userMicroserviceModel.Country = userDetails.Country;\\n\\n        if (Int32.TryParse(userDetails.ZipCode, out int zipCode))\\n        {\\n            userMicroserviceModel.ZipCode = zipCode;\\n            Console.WriteLine(\\\"Updated zip code\\\");\\n        }\\n        else\\n        {\\n            Console.WriteLine(\\\"String could not be parsed.\\\");\\n            return HttpStatusCode.BadRequest;\\n        }\\n\\n        var jsonString = JsonSerializer.Serialize<UserMicroserviceModel>(userMicroserviceModel);\\n        var payload = JsonSerializer.Serialize(userMicroserviceModel);\\n        var content = new StringContent(payload, Encoding.UTF8, \\\"application/json\\\");\\n\\n        var response = await _client.PostAsync(_apiGatewayDev, content);\\n        return response.StatusCode;\\n    }  \\n}\\n\\nGitHub repository\\nFor a complete implementation of the sample architecture for this pattern, see the GitHub repository at https://github.com/aws-samples/anti-corruption-layer-pattern\\n\\nRelated content\\n    Strangler fig pattern\\n    Circuit breaker pattern\\n    Retry with backoff pattern\",\n",
      "  \"labels\": [\n",
      "    \"software engineer\",\n",
      "    \"web designer\",\n",
      "    \"digital marketer\"\n",
      "  ],\n",
      "  \"scores\": [\n",
      "    0.37129560112953186,\n",
      "    0.3353971540927887,\n",
      "    0.29330718517303467\n",
      "  ]\n",
      "}\n",
      "\n",
      "CPU times: user 14.8 s, sys: 2.4 s, total: 17.2 s\n",
      "Wall time: 5.78 s\n"
     ]
    }
   ],
   "source": [
    "%%time\n",
    "\n",
    "res = classifier(doc, candidate_labels)\n",
    "print(f'{json.dumps(res, indent=2)}\\n')"
   ]
  },
  {
   "cell_type": "code",
   "execution_count": 28,
   "id": "79480c9c-0343-427f-a0e8-10c213e702dc",
   "metadata": {},
   "outputs": [
    {
     "data": {
      "text/plain": [
       "772"
      ]
     },
     "execution_count": 28,
     "metadata": {},
     "output_type": "execute_result"
    }
   ],
   "source": [
    "len(summary)"
   ]
  },
  {
   "cell_type": "code",
   "execution_count": 29,
   "id": "4f4cd615-7c14-43fd-bdd7-3319f0d3b607",
   "metadata": {},
   "outputs": [
    {
     "name": "stdout",
     "output_type": "stream",
     "text": [
      "{\n",
      "  \"sequence\": \"Here is a concise summary of the key points:\\n\\nThe anti-corruption layer (ACL) pattern provides an abstraction between a monolithic application and a microservice. It translates calls between the incompatible interfaces, allowing incremental migration without disrupting the monolith. The ACL can be implemented as a facade within the monolith or an independent service. It enables decoupling but adds overhead. The ACL should be decommissioned after full migration. Key considerations are technical debt, latency, scaling, and implementation strategy. The provided C# code demonstrates an ACL implementation that transforms monolith data models into the microservice format and handles integration. The ACL isolates the monolith from microservice changes during migration.\",\n",
      "  \"labels\": [\n",
      "    \"software engineer\",\n",
      "    \"web designer\",\n",
      "    \"digital marketer\"\n",
      "  ],\n",
      "  \"scores\": [\n",
      "    0.692902147769928,\n",
      "    0.1681481897830963,\n",
      "    0.13894963264465332\n",
      "  ]\n",
      "}\n",
      "\n",
      "CPU times: user 1.59 s, sys: 139 ms, total: 1.73 s\n",
      "Wall time: 675 ms\n"
     ]
    }
   ],
   "source": [
    "%%time\n",
    "\n",
    "res = classifier(summary, candidate_labels)\n",
    "print(f'{json.dumps(res, indent=2)}\\n')"
   ]
  },
  {
   "cell_type": "markdown",
   "id": "08d2a0db-dc6d-4c9b-83a4-5c32e411fa7c",
   "metadata": {},
   "source": [
    "# 4. Korean\n",
    "\n",
    "- 한글지원 nli 모델은 [여기](https://huggingface.co/models?pipeline_tag=zero-shot-classification&language=ko&sort=trending)서 찾을 수 있다.\n",
    "- 예제에서는 [MoritzLaurer/mDeBERTa-v3-base-xnli-multilingual-nli-2mil7](https://huggingface.co/MoritzLaurer/mDeBERTa-v3-base-xnli-multilingual-nli-2mil7) 모델을 사용한다."
   ]
  },
  {
   "cell_type": "code",
   "execution_count": 49,
   "id": "04f7402d-ee8b-416b-b148-62eb1b239bb4",
   "metadata": {},
   "outputs": [],
   "source": [
    "ko_classifier = pipeline(\n",
    "    task='zero-shot-classification',\n",
    "    model='MoritzLaurer/mDeBERTa-v3-base-xnli-multilingual-nli-2mil7',\n",
    ")"
   ]
  },
  {
   "cell_type": "markdown",
   "id": "56517ad5-6c70-4a15-a7ea-61eba506b580",
   "metadata": {},
   "source": [
    "- 배송과 포장에 대해서는 약한 불만이 있지만 제품 자체에 대해서는 큰 만족도를 가진 리뷰"
   ]
  },
  {
   "cell_type": "code",
   "execution_count": 54,
   "id": "7c8977f6-f418-4093-88cd-2a77b5f0d519",
   "metadata": {},
   "outputs": [],
   "source": [
    "sequence = '''\n",
    "새벽 배송이라고 써있어서 새벽에 올 줄 알았는데, 오후 늦게 도착해서 실망했습니다.\n",
    "아이폰 박스에 뽁뽁이로 포장이 안되어 있어서 제품 파손이 약간 우려스러웠습니다.\n",
    "제가 아이폰만 계속 쓰고 있어서 그런것도 있지만, 제품은 정말 최고의 제품입니다.\n",
    "아직 안바꾸신 분들 계시면 꼭 바꾸시길 추천합니다.\n",
    "'''\n",
    "candidate_labels =['긍정', '부정', '중립']"
   ]
  },
  {
   "cell_type": "markdown",
   "id": "0dd407b3-d435-4b6a-8cf5-522b806c479b",
   "metadata": {},
   "source": [
    "- 완전한 제로샷 분류의 경우 전체적으로는 부정이라고 판단하고 있다. 섞여있기 때문에 강하게 확신하지 못한다.\n",
    "- 제품에 대한 만족감을 템플릿으로 설정하면 긍정이라고 크게 확신한다.\n",
    "- 배송에 대한 만족감을 템플릿으로 설정하면 부정이라고 크게 확신한다."
   ]
  },
  {
   "cell_type": "code",
   "execution_count": 55,
   "id": "2fbf0818-37ee-4f64-b6ee-6567c304ac09",
   "metadata": {},
   "outputs": [
    {
     "data": {
      "text/plain": [
       "{'sequence': '\\n새벽 배송이라고 써있어서 새벽에 올 줄 알았는데, 오후 늦게 도착해서 실망했습니다.\\n아이폰 박스에 뽁뽁이로 포장이 안되어 있어서 제품 파손이 약간 우려스러웠습니다.\\n제가 아이폰만 계속 쓰고 있어서 그런것도 있지만, 제품은 정말 최고의 제품입니다.\\n아직 안바꾸신 분들 계시면 꼭 바꾸시길 추천합니다.\\n',\n",
       " 'labels': ['부정', '긍정', '중립'],\n",
       " 'scores': [0.5180058479309082, 0.2957472503185272, 0.1862468123435974]}"
      ]
     },
     "execution_count": 55,
     "metadata": {},
     "output_type": "execute_result"
    }
   ],
   "source": [
    "ko_classifier(\n",
    "    sequence,\n",
    "    candidate_labels,\n",
    ")"
   ]
  },
  {
   "cell_type": "code",
   "execution_count": 56,
   "id": "e6c03353-d82a-4fc2-821f-a972036386e4",
   "metadata": {},
   "outputs": [
    {
     "data": {
      "text/plain": [
       "{'sequence': '\\n새벽 배송이라고 써있어서 새벽에 올 줄 알았는데, 오후 늦게 도착해서 실망했습니다.\\n아이폰 박스에 뽁뽁이로 포장이 안되어 있어서 제품 파손이 약간 우려스러웠습니다.\\n제가 아이폰만 계속 쓰고 있어서 그런것도 있지만, 제품은 정말 최고의 제품입니다.\\n아직 안바꾸신 분들 계시면 꼭 바꾸시길 추천합니다.\\n',\n",
       " 'labels': ['긍정', '부정', '중립'],\n",
       " 'scores': [0.7716712951660156, 0.1566908359527588, 0.07163792103528976]}"
      ]
     },
     "execution_count": 56,
     "metadata": {},
     "output_type": "execute_result"
    }
   ],
   "source": [
    "ko_classifier(\n",
    "    sequence,\n",
    "    candidate_labels,\n",
    "    hypothesis_template='제품에 대한 만족감은 {} 이다.',\n",
    ")"
   ]
  },
  {
   "cell_type": "code",
   "execution_count": 57,
   "id": "46bf35af-2211-46b2-926a-3ca34b91d7a5",
   "metadata": {},
   "outputs": [
    {
     "data": {
      "text/plain": [
       "{'sequence': '\\n새벽 배송이라고 써있어서 새벽에 올 줄 알았는데, 오후 늦게 도착해서 실망했습니다.\\n아이폰 박스에 뽁뽁이로 포장이 안되어 있어서 제품 파손이 약간 우려스러웠습니다.\\n제가 아이폰만 계속 쓰고 있어서 그런것도 있지만, 제품은 정말 최고의 제품입니다.\\n아직 안바꾸신 분들 계시면 꼭 바꾸시길 추천합니다.\\n',\n",
       " 'labels': ['부정', '긍정', '중립'],\n",
       " 'scores': [0.8069165349006653, 0.11074954271316528, 0.08233391493558884]}"
      ]
     },
     "execution_count": 57,
     "metadata": {},
     "output_type": "execute_result"
    }
   ],
   "source": [
    "ko_classifier(\n",
    "    sequence,\n",
    "    candidate_labels,\n",
    "    hypothesis_template='배송에 대한 만족감은 {} 이다.',\n",
    ")"
   ]
  }
 ],
 "metadata": {
  "kernelspec": {
   "display_name": "Python 3 (ipykernel)",
   "language": "python",
   "name": "python3"
  },
  "language_info": {
   "codemirror_mode": {
    "name": "ipython",
    "version": 3
   },
   "file_extension": ".py",
   "mimetype": "text/x-python",
   "name": "python",
   "nbconvert_exporter": "python",
   "pygments_lexer": "ipython3",
   "version": "3.11.4"
  }
 },
 "nbformat": 4,
 "nbformat_minor": 5
}
