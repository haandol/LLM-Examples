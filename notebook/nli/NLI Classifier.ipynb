{
 "cells": [
  {
   "cell_type": "markdown",
   "id": "b77b166f-ebca-4035-9757-4b6b777a7472",
   "metadata": {},
   "source": [
    "# Classification using NLI (Natural language inference)\n",
    "\n",
    "- 전체 텍스트를 요약하고 요약본의 클래스를 분류한다.\n",
    "- 원본 글로 분류하면 잘 안됨\n",
    "- 요약을 하고 난 요약본으로 분류 하면 잘 됨\n",
    "\n",
    "# 0. Setup"
   ]
  },
  {
   "cell_type": "code",
   "execution_count": 1,
   "id": "50816816-e317-4b99-9319-2c6451d90b52",
   "metadata": {},
   "outputs": [],
   "source": [
    "!pip -q install -U transformers langchain"
   ]
  },
  {
   "cell_type": "code",
   "execution_count": 22,
   "id": "d32f1e19-b44a-49cf-aeea-6910ca5da775",
   "metadata": {},
   "outputs": [],
   "source": [
    "import json\n",
    "import boto3\n",
    "import textwrap\n",
    "\n",
    "from langchain.llms.bedrock import Bedrock\n",
    "from langchain.text_splitter import RecursiveCharacterTextSplitter\n",
    "from langchain.chains.summarize import load_summarize_chain\n",
    "from transformers import pipeline"
   ]
  },
  {
   "cell_type": "code",
   "execution_count": 23,
   "id": "6ae02f90-476f-470d-ab2b-b577d0ae4fe4",
   "metadata": {},
   "outputs": [],
   "source": [
    "profile_name = None\n",
    "region = 'us-east-1'"
   ]
  },
  {
   "cell_type": "code",
   "execution_count": 24,
   "id": "9f4ee042-66ee-402b-a4bb-bc8f8cdc3915",
   "metadata": {},
   "outputs": [],
   "source": [
    "session = boto3.Session(\n",
    "    profile_name=profile_name,\n",
    "    region_name=region,\n",
    ")\n",
    "bedrock = session.client(service_name='bedrock-runtime')"
   ]
  },
  {
   "cell_type": "code",
   "execution_count": 25,
   "id": "80d0d0eb-6aae-481f-9427-99068789550d",
   "metadata": {},
   "outputs": [],
   "source": [
    "modelId = 'anthropic.claude-v2'"
   ]
  },
  {
   "cell_type": "code",
   "execution_count": 26,
   "id": "05537d55-2769-4b8b-8d13-413a2b30b80d",
   "metadata": {},
   "outputs": [],
   "source": [
    "llm = Bedrock(\n",
    "    model_id=modelId,\n",
    "    model_kwargs={\n",
    "        \"max_tokens_to_sample\": 4096,\n",
    "        \"top_p\": 0.9,\n",
    "        \"temperature\": 0,\n",
    "    },\n",
    "    client=bedrock,\n",
    ")"
   ]
  },
  {
   "cell_type": "markdown",
   "id": "94f9fa7b-b8f3-4c7f-af4a-16c6d08fd4c0",
   "metadata": {},
   "source": [
    "# 1. Data Load\n",
    "\n",
    "- [Anti-corruption layer pattern](https://docs.aws.amazon.com/prescriptive-guidance/latest/cloud-design-patterns/acl.html)"
   ]
  },
  {
   "cell_type": "code",
   "execution_count": 31,
   "id": "576f8bd2-eebb-4ecb-8ef3-cbd9ea547462",
   "metadata": {},
   "outputs": [
    {
     "data": {
      "text/plain": [
       "'Anti-corruption layer pattern PDF RSS Intent The anti-corruption layer (ACL) ...'"
      ]
     },
     "execution_count": 31,
     "metadata": {},
     "output_type": "execute_result"
    }
   ],
   "source": [
    "with open('acl.txt', 'r') as fp:\n",
    "    doc = fp.read()\n",
    "textwrap.shorten(doc, width=80, placeholder=' ...')"
   ]
  },
  {
   "cell_type": "markdown",
   "id": "2d250070-279b-467e-aebc-04b620cafe64",
   "metadata": {},
   "source": [
    "# 2. Summarize"
   ]
  },
  {
   "cell_type": "code",
   "execution_count": 35,
   "id": "08abfa1e-9301-4026-8872-9b8fa21eabc1",
   "metadata": {},
   "outputs": [],
   "source": [
    "text_splitter = RecursiveCharacterTextSplitter(\n",
    "    separators=[\"\\n\\n\"],\n",
    "    chunk_size=3000,\n",
    "    chunk_overlap=100,\n",
    ")\n",
    "docs = text_splitter.create_documents([doc])"
   ]
  },
  {
   "cell_type": "code",
   "execution_count": 36,
   "id": "32c99b68-0b25-40d2-aa41-6d6aaae26330",
   "metadata": {},
   "outputs": [],
   "source": [
    "summary_chain = load_summarize_chain(\n",
    "    llm=llm,\n",
    "    chain_type=\"map_reduce\",\n",
    "    verbose=False,\n",
    ")"
   ]
  },
  {
   "cell_type": "code",
   "execution_count": 37,
   "id": "5d1d4762-9ca7-4a9b-80cf-e3eb5bb08bc1",
   "metadata": {
    "scrolled": true
   },
   "outputs": [],
   "source": [
    "output = summary_chain(docs)"
   ]
  },
  {
   "cell_type": "code",
   "execution_count": 38,
   "id": "bb5f4dc3-7ecf-44c5-acc1-8c52c1f726eb",
   "metadata": {},
   "outputs": [
    {
     "name": "stdout",
     "output_type": "stream",
     "text": [
      "Here is a concise summary of the key points:\n",
      "\n",
      "- The anti-corruption layer (ACL) pattern provides an adapter between systems with different semantics to enable communication without modifying either system. \n",
      "\n",
      "- It decouples the systems so changes to one don't require changes to the other. \n",
      "\n",
      "- Useful for migrating monoliths to microservices, integrating with external systems, or connecting bounded contexts.\n",
      "\n",
      "- Reduces coordination needs and disruption from redirecting calls during incremental migration.\n",
      "\n",
      "- Adds operational overhead - needs monitoring, alerting, CI/CD. \n",
      "\n",
      "- Implement as shared converter or service-specific class. Consider latency, scaling, failure tolerance.\n",
      "\n",
      "- Can be implemented inside monolith or as separate service. Decommission after migration complete.\n",
      "\n",
      "- Allows calling migrated services from monolith without changing monolith during incremental migration.\n",
      "\n",
      "- Minimizes risk and disruption during migration process.\n"
     ]
    }
   ],
   "source": [
    "summary = output['output_text'].strip()\n",
    "print(summary)"
   ]
  },
  {
   "cell_type": "markdown",
   "id": "73f2133e-855e-4f8a-a840-cee5bb4bc5fb",
   "metadata": {},
   "source": [
    "# 3. Classify using NLI\n",
    "\n",
    "- nli 모델로 텍스트 카테고리 분류"
   ]
  },
  {
   "cell_type": "code",
   "execution_count": 15,
   "id": "e3bbd96b-0a9a-4545-9180-7c9baa9aedae",
   "metadata": {},
   "outputs": [],
   "source": [
    "classifier = pipeline(\n",
    "    task='zero-shot-classification',\n",
    "    model='facebook/bart-large-mnli',\n",
    ")"
   ]
  },
  {
   "cell_type": "code",
   "execution_count": 16,
   "id": "dc6627b7-8a85-42e7-8728-1333d12a93a3",
   "metadata": {},
   "outputs": [],
   "source": [
    "candidate_labels = ['software engineer', 'web designer', 'digital marketer']"
   ]
  },
  {
   "cell_type": "code",
   "execution_count": 39,
   "id": "64d1d10f-92e1-4ac5-a8d2-5bdf8961cf3d",
   "metadata": {},
   "outputs": [
    {
     "data": {
      "text/plain": [
       "9981"
      ]
     },
     "execution_count": 39,
     "metadata": {},
     "output_type": "execute_result"
    }
   ],
   "source": [
    "len(doc)"
   ]
  },
  {
   "cell_type": "code",
   "execution_count": 40,
   "id": "c56d9875-804b-4b8b-a2db-d0af95139aba",
   "metadata": {},
   "outputs": [
    {
     "name": "stdout",
     "output_type": "stream",
     "text": [
      "{\n",
      "  \"sequence\": \"Anti-corruption layer pattern\\nPDF\\nRSS\\nIntent\\n\\nThe anti-corruption layer (ACL) pattern acts as a mediation layer that translates domain model semantics from one system to another system. It translates the model of the upstream bounded context (monolith) into a model that suits the downstream bounded context (microservice) before consuming the communication contract that's established by the upstream team. This pattern might be applicable when the downstream bounded context contains a core subdomain, or the upstream model is an unmodifiable legacy system. It also reduces transformation risk and business disruption by preventing changes to callers when their calls have to be redirected transparently to the target system.\\nMotivation\\n\\nDuring the migration process, when a monolithic application is migrated into microservices, there might be changes in the domain model semantics of the newly migrated service. When the features within the monolith are required to call these microservices, the calls should be routed to the migrated service without requiring any changes to the calling services. The ACL pattern allows the monolith to call the microservices transparently by acting as an adapter or a facade layer that translates the calls into the newer semantics.\\nApplicability\\n\\nConsider using this pattern when:\\n\\n    Your existing monolithic application has to communicate with a function that has been migrated into a microservice, and the migrated service domain model and semantics differ from the original feature.\\n\\n    Two systems have different semantics and need to exchange data, but it isn't practical to modify one system to be compatible with the other system.\\n\\n    You want to use a quick and simplified approach to adapt one system to another with minimal impact.\\n\\n    Your application is communicating with an external system.\\n\\nIssues and considerations\\n\\n    Team dependencies: When different services in a system are owned by different teams, the new domain model semantics in the migrated services can lead to changes in the calling systems. However, teams might not be able to make these changes in a coordinated way, because they might have other priorities. ACL decouples the callees and translates the calls to match the semantics of the new services, thus avoiding the need for callers to make changes in the current system.\\n\\n    Operational overhead: The ACL pattern requires additional effort to operate and maintain. This work includes integrating ACL with monitoring and alerting tools, the release process, and continuous integration and continuous delivery (CI/CD) processes.\\n\\n    Single point of failure: Any failures in the ACL can make the target service unreachable, causing application issues. To mitigate this issue, you should build in retry capabilities and circuit breakers. See the retry with backoff and circuit breaker patterns to understand more about these options. Setting up appropriate alerts and logging will improve the mean time to resolution (MTTR).\\n\\n    Technical debt: As part of your migration or modernization strategy, consider whether the ACL will be a transient or interim solution, or a long-term solution. If it's an interim solution, you should record the ACL as a technical debt and decommission it after all dependent callers have been migrated.\\n\\n    Latency: The additional layer can introduce latency due to the conversion of requests from one interface to another. We recommend that you define and test performance tolerance in applications that are sensitive to response time before you deploy ACL into production environments.\\n\\n    Scaling bottleneck: In high-load applications where services can scale to peak load, ACL can become a bottleneck and might cause scaling issues. If the target service scales on demand, you should design ACL to scale accordingly.\\n\\n    Service-specific or shared implementation: You can design ACL as a shared object to convert and redirect calls to multiple services or service-specific classes. Take latency, scaling, and failure tolerance into account when you determine the implementation type for ACL.\\n\\nImplementation\\n\\nYou can implement ACL inside your monolithic application as a class that's specific to the service that's being migrated, or as an independent service. The ACL must be decommissioned after all dependent services have been migrated into the microservices architecture.\\nHigh-level architecture\\n\\nIn the following example architecture, a monolithic application has three services: user service, cart service, and account service. The cart service is dependent on the user service, and the application uses a monolithic relational database.\\nMonolithic application with three services.\\n\\nIn the following architecture, the user service has been migrated to a new microservice. The cart service calls the user service, but the implementation is no longer available within the monolith.  It's also likely that the interface of the newly migrated service won't match its previous interface, when it was inside the monolithic application.\\nMonolithic application where one service is moved out to a microservice.\\n\\nIf the cart service has to call the newly migrated user service directly, this will require changes to the cart service and a thorough testing of the monolithic application. This can increase the transformation risk and business disruption. The goal should be to minimize the changes to the existing functionality of the monolithic application.\\n\\nIn this case, we recommend that you introduce an ACL between the old user service and the newly migrated user service. The ACL works as an adapter or a facade that converts the calls into the newer interface. ACL can be implemented inside the monolithic application as a class (for example, UserServiceFacade or UserServiceAdapter) that's specific to the service that was migrated. The anti-corruption layer must be decommissioned after all dependent services have been migrated into the microservices architecture.\\nAdding an anti-corruption layer.\\nImplementation using AWS services\\n\\nThe following diagram shows how you can implement this ACL example by using AWS services.\\nImplementing the ACL pattern with AWS services.\\n\\nThe user microservice is migrated out of the ASP.NET monolithic application and deployed as an AWS Lambda\\nfunction on AWS. Calls to the Lambda function are routed through Amazon API Gateway\\n\\n. ACL is deployed in the monolith to translate the call to adapt to the semantics of the user microservice.\\n\\nWhen Program.cs calls the user service (UserInMonolith.cs) inside the monolith, the call is routed to the ACL (UserServiceACL.cs). The ACL translates the call to the new semantics and interface, and calls the microservice through the API Gateway endpoint. The caller (Program.cs) isn't aware of the translation and routing that take place in the user service and ACL. Because the caller isn't aware of the code changes, there is less business disruption and reduced transformation risk.\\nSample code\\n\\nThe following code snippet provides the changes to the original service and the implementation of UserServiceACL.cs. When a request is received, the original user service calls the ACL. The ACL converts the source object to match the interface of the newly migrated service, calls the service, and returns the response to the caller.\\n\\npublic class UserInMonolith: IUserInMonolith\\n{\\n    private readonly IACL _userServiceACL;\\n    public UserInMonolith(IACL userServiceACL) => (_userServiceACL) = (userServiceACL);\\n    public async Task<HttpStatusCode> UpdateAddress(UserDetails userDetails)\\n    {\\n        //Wrap the original object in the derived class \\n        var destUserDetails = new UserDetailsWrapped(\\\"user\\\", userDetails);\\n        //Logic for updating address has been moved to a microservice\\n        return await _userServiceACL.CallMicroservice(destUserDetails);\\n    }\\n}\\n\\npublic class UserServiceACL: IACL\\n{\\n    static HttpClient _client = new HttpClient();\\n    private static string _apiGatewayDev = string.Empty;\\n\\n    public UserServiceACL()\\n    {\\n        IConfiguration config = new ConfigurationBuilder().AddJsonFile(AppContext.BaseDirectory + \\\"../../../config.json\\\").Build();\\n        _apiGatewayDev = config[\\\"APIGatewayURL:Dev\\\"];\\n        _client.DefaultRequestHeaders.Accept.Add(new MediaTypeWithQualityHeaderValue(\\\"application/json\\\"));\\n    }\\n    public async Task<HttpStatusCode> CallMicroservice(ISourceObject details)\\n    {\\n        _apiGatewayDev +=  \\\"/\\\" + details.ServiceName;\\n        Console.WriteLine(_apiGatewayDev);\\n\\n        var userDetails = details as UserDetails;\\n        var userMicroserviceModel = new UserMicroserviceModel();\\n        userMicroserviceModel.UserId = userDetails.UserId;\\n        userMicroserviceModel.Address = userDetails.AddressLine1 + \\\", \\\" + userDetails.AddressLine2;\\n        userMicroserviceModel.City = userDetails.City;\\n        userMicroserviceModel.State = userDetails.State;\\n        userMicroserviceModel.Country = userDetails.Country;\\n\\n        if (Int32.TryParse(userDetails.ZipCode, out int zipCode))\\n        {\\n            userMicroserviceModel.ZipCode = zipCode;\\n            Console.WriteLine(\\\"Updated zip code\\\");\\n        }\\n        else\\n        {\\n            Console.WriteLine(\\\"String could not be parsed.\\\");\\n            return HttpStatusCode.BadRequest;\\n        }\\n\\n        var jsonString = JsonSerializer.Serialize<UserMicroserviceModel>(userMicroserviceModel);\\n        var payload = JsonSerializer.Serialize(userMicroserviceModel);\\n        var content = new StringContent(payload, Encoding.UTF8, \\\"application/json\\\");\\n\\n        var response = await _client.PostAsync(_apiGatewayDev, content);\\n        return response.StatusCode;\\n    }  \\n}\\n\\nGitHub repository\\n\\nFor a complete implementation of the sample architecture for this pattern, see the GitHub repository at https://github.com/aws-samples/anti-corruption-layer-pattern\\n\\n.\\nRelated content\\n\\n    Strangler fig pattern\\n\\n    Circuit breaker pattern\\n\\n    Retry with backoff pattern\\n\",\n",
      "  \"labels\": [\n",
      "    \"digital marketer\",\n",
      "    \"web designer\",\n",
      "    \"software engineer\"\n",
      "  ],\n",
      "  \"scores\": [\n",
      "    0.34466761350631714,\n",
      "    0.33182764053344727,\n",
      "    0.323504775762558\n",
      "  ]\n",
      "}\n",
      "\n",
      "CPU times: user 15.1 s, sys: 2.44 s, total: 17.5 s\n",
      "Wall time: 5.8 s\n"
     ]
    }
   ],
   "source": [
    "%%time\n",
    "\n",
    "res = classifier(doc, candidate_labels)\n",
    "print(f'{json.dumps(res, indent=2)}\\n')"
   ]
  },
  {
   "cell_type": "code",
   "execution_count": 41,
   "id": "79480c9c-0343-427f-a0e8-10c213e702dc",
   "metadata": {},
   "outputs": [
    {
     "data": {
      "text/plain": [
       "945"
      ]
     },
     "execution_count": 41,
     "metadata": {},
     "output_type": "execute_result"
    }
   ],
   "source": [
    "len(summary)"
   ]
  },
  {
   "cell_type": "code",
   "execution_count": 42,
   "id": "4f4cd615-7c14-43fd-bdd7-3319f0d3b607",
   "metadata": {},
   "outputs": [
    {
     "name": "stdout",
     "output_type": "stream",
     "text": [
      "{\n",
      "  \"sequence\": \"Here is a concise summary of the key points:\\n\\n- The anti-corruption layer (ACL) pattern provides an adapter between systems with different semantics to enable communication without modifying either system. \\n\\n- It decouples the systems so changes to one don't require changes to the other. \\n\\n- Useful for migrating monoliths to microservices, integrating with external systems, or connecting bounded contexts.\\n\\n- Reduces coordination needs and disruption from redirecting calls during incremental migration.\\n\\n- Adds operational overhead - needs monitoring, alerting, CI/CD. \\n\\n- Implement as shared converter or service-specific class. Consider latency, scaling, failure tolerance.\\n\\n- Can be implemented inside monolith or as separate service. Decommission after migration complete.\\n\\n- Allows calling migrated services from monolith without changing monolith during incremental migration.\\n\\n- Minimizes risk and disruption during migration process.\",\n",
      "  \"labels\": [\n",
      "    \"software engineer\",\n",
      "    \"web designer\",\n",
      "    \"digital marketer\"\n",
      "  ],\n",
      "  \"scores\": [\n",
      "    0.5028783679008484,\n",
      "    0.3013566732406616,\n",
      "    0.19576498866081238\n",
      "  ]\n",
      "}\n",
      "\n",
      "CPU times: user 2.14 s, sys: 334 ms, total: 2.48 s\n",
      "Wall time: 980 ms\n"
     ]
    }
   ],
   "source": [
    "%%time\n",
    "\n",
    "res = classifier(summary, candidate_labels)\n",
    "print(f'{json.dumps(res, indent=2)}\\n')"
   ]
  },
  {
   "cell_type": "code",
   "execution_count": null,
   "id": "46bf35af-2211-46b2-926a-3ca34b91d7a5",
   "metadata": {},
   "outputs": [],
   "source": []
  }
 ],
 "metadata": {
  "kernelspec": {
   "display_name": "Python 3 (ipykernel)",
   "language": "python",
   "name": "python3"
  },
  "language_info": {
   "codemirror_mode": {
    "name": "ipython",
    "version": 3
   },
   "file_extension": ".py",
   "mimetype": "text/x-python",
   "name": "python",
   "nbconvert_exporter": "python",
   "pygments_lexer": "ipython3",
   "version": "3.11.4"
  }
 },
 "nbformat": 4,
 "nbformat_minor": 5
}
