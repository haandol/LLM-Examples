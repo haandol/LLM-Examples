{
 "cells": [
  {
   "cell_type": "markdown",
   "id": "b45b0cb6-a78b-4881-9567-7dc59f9aa785",
   "metadata": {},
   "source": [
    "# Crawl web page and extract information\n",
    "\n",
    "- 웹페이지 주소를 입력해서 텍스트 데이터만 추출\n",
    "- 텍스트 데이터에서 LLM 을 이용하여 정보를 추출\n",
    "- 다른 작업에 사용할 수 있도록 jsonl 형태로 내보내기\n",
    "\n",
    "---\n",
    "\n",
    "# 0. Setup\n"
   ]
  },
  {
   "cell_type": "code",
   "execution_count": 1,
   "id": "8f171286-602e-4129-ac74-4c61f28a5f82",
   "metadata": {},
   "outputs": [],
   "source": [
    "!pip -q install -U boto3 awscli requests beautifulsoup4 trafilatura langchain"
   ]
  },
  {
   "cell_type": "code",
   "execution_count": 2,
   "id": "55528aec-2132-45d9-a32e-102516344cbb",
   "metadata": {},
   "outputs": [],
   "source": [
    "import json\n",
    "import textwrap\n",
    "from pathlib import Path\n",
    "from datetime import datetime\n",
    "\n",
    "# web scraping\n",
    "import requests\n",
    "import trafilatura\n",
    "from bs4 import BeautifulSoup\n",
    "\n",
    "# bedrock\n",
    "import json\n",
    "import boto3\n",
    "\n",
    "# splitter\n",
    "import tiktoken\n",
    "from langchain.text_splitter import TokenTextSplitter"
   ]
  },
  {
   "cell_type": "code",
   "execution_count": 3,
   "id": "66960236-deeb-4d1b-83e9-65fd1d7a4925",
   "metadata": {},
   "outputs": [
    {
     "data": {
      "text/plain": [
       "1"
      ]
     },
     "execution_count": 3,
     "metadata": {},
     "output_type": "execute_result"
    }
   ],
   "source": [
    "urls = [\n",
    "    'https://www.imdb.com/title/tt0111161/plotsummary/',\n",
    "#    'https://docs.aws.amazon.com/prescriptive-guidance/latest/cloud-design-patterns/acl.html',\n",
    "#    'https://en.wikipedia.org/wiki/Lee_Byung-hun',\n",
    "]\n",
    "len(urls)"
   ]
  },
  {
   "cell_type": "code",
   "execution_count": 4,
   "id": "74245ef2-8667-4398-b743-b3182f642cdf",
   "metadata": {},
   "outputs": [],
   "source": [
    "def fallback_parse(response_content):\n",
    "    soup = BeautifulSoup(response_content, 'html.parser')\n",
    "    text = soup.find_all(string=True)\n",
    "    cleaned_text = ''\n",
    "    blacklist = [\n",
    "        '[document]',\n",
    "        'noscript',\n",
    "        'header',\n",
    "        'html',\n",
    "        'meta',\n",
    "        'head', \n",
    "        'input',\n",
    "        'script',\n",
    "        'style',]\n",
    "\n",
    "    for item in text:\n",
    "        if item.parent.name not in blacklist:\n",
    "            cleaned_text += '{} '.format(item)\n",
    "            \n",
    "    cleaned_text = cleaned_text.replace('\\t', '')\n",
    "    return cleaned_text.strip()"
   ]
  },
  {
   "cell_type": "code",
   "execution_count": 5,
   "id": "47110ec7-8447-4b9c-9fe8-bb918733d6db",
   "metadata": {},
   "outputs": [],
   "source": [
    "def crawl(url):    \n",
    "    print(f'parse url: {url}...')\n",
    "    downloaded = trafilatura.fetch_url(url)\n",
    "\n",
    "    contents = trafilatura.extract(\n",
    "        downloaded, output_format=\"json\",\n",
    "        include_comments=False, include_links=False, with_metadata=True,\n",
    "        date_extraction_params={'extensive_search': True, 'original_date': True},\n",
    "    )\n",
    "    \n",
    "    if contents:\n",
    "        json_output = json.loads(contents)\n",
    "        return json_output['text']\n",
    "    else:\n",
    "        try:\n",
    "            resp = requests.get(url)\n",
    "            if resp.status_code == 200:\n",
    "                return fallback_parse(resp.content)\n",
    "            else:\n",
    "                return None\n",
    "        except Exception as e:\n",
    "            print(e)\n",
    "            raise e"
   ]
  },
  {
   "cell_type": "markdown",
   "id": "caea1151-02d7-4562-be5b-86e4f3dd29f0",
   "metadata": {},
   "source": [
    "# 1. Crawl url and extract texts\n",
    "\n",
    "- trafilatura 를 이용하여 url 에서 텍스트만 추출\n"
   ]
  },
  {
   "cell_type": "code",
   "execution_count": 6,
   "id": "c44a7fff-1673-4497-932d-f5694943f43d",
   "metadata": {},
   "outputs": [
    {
     "name": "stdout",
     "output_type": "stream",
     "text": [
      "parse url: https://www.imdb.com/title/tt0111161/plotsummary/...\n",
      "len: 22177\n",
      "\n",
      "num docs: 1\n",
      "CPU times: user 1.13 s, sys: 49.1 ms, total: 1.18 s\n",
      "Wall time: 2.5 s\n"
     ]
    }
   ],
   "source": [
    "%%time\n",
    "\n",
    "docs = []\n",
    "for url in urls:\n",
    "    doc = crawl(url)\n",
    "    print(f'len: {len(doc)}\\n')\n",
    "    if doc is None:\n",
    "        print(f'failed to parse url: {url}')\n",
    "        continue\n",
    "    docs.append(doc)\n",
    "    \n",
    "print(f'num docs: {len(docs)}')"
   ]
  },
  {
   "cell_type": "code",
   "execution_count": 7,
   "id": "0f9a2219-59ec-4e55-8d8f-622644cdbbfe",
   "metadata": {},
   "outputs": [
    {
     "name": "stdout",
     "output_type": "stream",
     "text": [
      "doc 0:\n",
      "- Over the course of several years, two convicts form a ...\n",
      "\n"
     ]
    }
   ],
   "source": [
    "for i, doc in enumerate(docs):\n",
    "    text = textwrap.shorten(doc, width=70, placeholder=' ...\\n')\n",
    "    print(f'doc {i}:\\n{text}')"
   ]
  },
  {
   "cell_type": "code",
   "execution_count": 8,
   "id": "a4a70f35-cbbe-4ae4-8622-40487c8342b8",
   "metadata": {},
   "outputs": [
    {
     "data": {
      "text/plain": [
       "['- Over the course of several years, two convicts form a friendship, seeking consolation and, eventually, redemption through basic compassion.\\n- Chronicles the experiences of a formerly successful banker as a prisoner in the gloomy jailhouse of Shawshank after being found guilty of a crime he did not commit. The film portrays the man\\'s unique way of dealing with his new, torturous life; along the way he befriends a number of fellow prisoners, most notably a wise long-term inmate named Red.—J-S-Golden\\n- When an innocent male banker is sent to prison accused of murdering his wife, he does everything that he can over the years to break free and escape from prison. While on the inside, he develops a friendship with a fellow inmate that could last for years.—RECB3\\n- After the murder of his wife, hotshot banker Andrew Dufresne is sent to Shawshank Prison, where the usual unpleasantness occurs. Over the years, he retains hope and eventually gains the respect of his fellow inmates, especially longtime convict \"Red\" Redding, a black marketeer, and becomes influential within the prison. Eventually, Andrew achieves his ends on his own terms.—Reid Gagle\\n- Andy Dufresne is sent to Shawshank Prison for the murder of his wife and her secret lover. He is very isolated and lonely at first, but realizes there is something deep inside your body that people can\\'t touch or get to....\\'HOPE\\'. Andy becomes friends with prison \\'fixer\\' Red, and Andy epitomizes why it is crucial to have dreams. His spirit and determination lead us into a world full of imagination, one filled with courage and desire. Will Andy ever realize his dreams?—Andy Haque\\n- In 1947, Andy Dufresne (Tim Robbins), a banker in Maine, is convicted of murdering his wife and her lover, a golf pro. Since the state of Maine has no death penalty, he is given two consecutive life sentences and sent to the notoriously harsh Shawshank Prison. Andy keeps claiming his innocence, but his cold and calculating demeanor leads everyone to believe he did it.\\nMeanwhile, Ellis Boyd Redding (Morgan Freeman), known as Red is being interviewed for parole after having spent 20 years at Shawshank for murder. Despite his best efforts and behavior, Red\\'s parole is rejected which doesn\\'t phase him all that much. Red is then introduced as the local smuggler who can get inmates anything they want within reason. An alarm goes off alerting all prisoners of new arrivals. Red and his friends bet on whichever new fish will have a nervous break down during his first night in prison. Red places a huge bet on Andy.\\nDuring the first night, an overweight newly arrived inmate, nicknamed \\'\\'fat ass\\', breaks down and cries hysterically allowing Heywood (William Sadler) to win the bet. However, the celebration is short lived when the chief guard, Byron Hadley (Clancy Brown), savagely beats up the fat man for not keeping quiet when he is asked to. Meanwhile, Andy remains steadfast and composed. The next morning, the inmates learn that \\'\\'fat ass\\'\\' died in the infirmary because the prison doctor had been out for the night. Andy inquires about the man\\'s name only to get put down by Heywood.\\nAbout a month later, Andy approaches Red having heard of his talents for finding things. He asks Red to find him a rock hammer, an instrument he claims is necessary for his hobby of rock collecting and sculpting. Red asks a few questions about his intentions which Andy laughs off. Red agrees to place the order and also warns Andy about \\'\\'the sisters\\'\\', a group of prisoners who sexually assaults other prisoners, most importantly their leader, Boggs (Mark Rolston) who has a crush on Andy. Though other prisoners consider Andy \"a really cold fish,\" Red sees something in Andy, and likes him from the start. Red thinks Andy intends to use the hammer to engineer an escape in the future but when he finally sees the tool\\'s actual size, he understands why Andy laughed and laughs too, putting aside the thought that Andy could ever use it to dig his way out of prison.\\nDuring the first two years of his incarceration, Andy spends most of his time working in the prison laundry or fighting off Boggs and the Sisters. Though he persistently resists and fights them every time, Andy is beaten and raped on a regular basis but keeps quiet about it.\\nWhen a work detail for tarring the roof of one of the prison\\'s buildings is announced, Red pulls some strings to get Andy and a few of their mutual friends assigned to the job, giving everyone a break from the usual. During the job Andy overhears Hadley complaining about having to pay taxes for an upcoming inheritance. Drawing from his expertise as a banker, Andy lets Hadley know how he can shelter his money from the IRS by turning it into a one-time gift for his wife. He then offers to assist Hadley in filling out the paperwork in exchange for some cold beers for his fellow inmates while on the tarring job. Hadley first threatens to throw Andy off the roof, but eventually agrees and do provide the working inmates with cold beers before the job is finished. Red remarks that Andy may have engineered the privilege to build favor with the prison guards as much as with his fellow inmates, but he also thinks Andy did it simply to \"feel normal again.\"\\nWhile watching a movie, Andy approaches Red with another unusual demand and asks for the actress Rita Hayworth. Red is surprised by the demand but agrees to place the order. As he exits the theater, Andy once more encounters the Sisters. Although he is able to talk his way out of being raped, he is brutally beaten within an inch of his life, putting him in the infirmary for a month. Boggs spends a week in solitary for the beating. When he comes out, he finds Hadley and his men waiting in his cell. They beat him so badly that he\\'s left unable to walk or eat solid food for the rest of his life and is transferred to a prison hospital upstate. The Sisters move on and never bother Andy again. When Andy gets out of the infirmary, he finds a bunch of rocks for him to sculpt and a giant poster of Rita Hayworth in his cell; presents from Red and his friends.\\nWarden Samuel Norton (Bob Gunton) hears about how Andy helped Hadley and uses a surprise cell inspection to size Andy up. He finds Andy reading his copy of the Holy Bible and they talk about their favorite verses while the guards are turning the cell upside down looking for illegal possessions. Satisfied with their encounter, the warden leaves and almost forget to give Andy his Bible back. He then encourages Andy to keep reading the Bible saying that \\'\\'Salvation lays within\\'\\'.\\nAndy is later advised that he will now work in the prison library with aging inmate Brooks Hatlen (James Whitmore). The reason for his transfer is made obvious when a prison guard shows up asking Andy for financial advising. Andy sets-up a makeshift desk and starts working, providing financial advising to most prison guards and helping them with their income tax returns. Andy also sees an opportunity to expand the prison library; he starts by asking the Maine state senate for funds. He writes letters every week. His financial support practice is so appreciated that even guards from other prisons, when they visit for inter-prison baseball matches, seek Andy\\'s financial expertise. Even the warden himself has Andy preparing his tax returns.\\nNot long afterwards, Brooks snaps and threatens to kill Heywood in order to avoid being paroled. Andy is able to talk him down. When his friends discuss Brooks \\'behavior, Red sympathizes with Brooks having obviously become \"institutionalized,\" after spending 50 years at Shawshank. He has become essentially conditioned to be a prisoner for the rest of his life and is unable to adapt to the outside world. Red remarks: \"These walls are funny. First you hate \\'em, then you get used to \\'em. Enough time passes, you get so you depend on them.\" Brooks is paroled and goes to live in a halfway house. He is also given a job at a supermarket which he hates. Finding it impossible to adjust to life outside the prison, he eventually commits suicide, leaving the message \"Brooks was here\" carved on a wooden beam .\\nAfter six years of writing letters, Andy receives $200 from the state for the library, along with a collection of old books and phonograph records. Though the state Senate thinks this will be enough to get Andy to halt his letter-writing campaign, he is undaunted and redoubles his efforts.\\nWhen the donations of old books and records arrive at the warden\\'s office, Andy finds a copy of Mozart\\'s The Marriage of Figaro among the records. He locks the guard assigned to the warden\\'s office in the bathroom and plays the record over the prison\\'s PA system. The entire prison is soon captivated by the music. Red remarks that the voices of these women made everyone feel free, if only for a brief moment. Outside the office, Norton appears furious at the act of defiance, and orders Andy to turn off the record player. Andy responds by turning up the volume. The warden orders Hadley to break into the office and Andy is sent immediately to solitary confinement for two weeks. When he gets out, he tells his friends that the stretch was the \"easiest time\" he ever did in the hole because he spent it with Mozart\\'s Figaro stuck in his head for comfort. When the other prisoners tell him how unlikely that is, he talks about the power that hope can have in prison and that hope can sustain them. Red strongly disagrees with Andy, claiming that hope is a dangerous thing in a place like Shawshank and tells Andy he should get used to living without it. Andy implies that this is exactly what Brooks did and Red leaves the table angry.\\nNot long after, Red has a new parole hearing and realizes he\\'s been in prison for 30 years now. He uses the exact same words he used ten years earlier only with no enthusiasm at all. His parole is rejected again. Andy gives him an harmonica to commemorate his 30 years which Red replies by offering Andy a giant poster of Marilyn Monroe to commemorate his 10 years.\\nAbout four years after the Mozart incident, the state senate finally comes to the conclusion that they won\\'t get rid of Andy with just another check. So they allow him a budget of $500 a year to build his library. Andy uses it wisely and makes deals with book clubs and charities to create the best prison library in the state and names it after Brooks. With the enlarged library and more materials, Andy begins to mentor inmates who want to receive their high school diplomas so they can get a decent job once they\\'re out.\\nMeanwhile, Warden Norton profits from Andy\\'s knowledge and devises a scheme whereby he puts prison inmates to work on public projects which he wins by outbidding other contractors (prisoners are cheap labor). Occasionally, he allows other contractors to score projects as long as the bribe is good enough. Andy launders the money by setting up several accounts in several banks, along with several investments, using the fake identity of Randall Stephens, a man who only exist on papers, created by Andy himself through his knowledge of the system and mail ordered forms. Randall Stephens officially has a birth certificate, social security number and driving license. Should anyone ever investigate about the scheme; they will chase a man who only exists on paper. Andy shares the details with Red, noting that he had to \"go to prison to learn how to be a crook.\"\\nIn 1965, a young prisoner named Tommy (Gil Bellows) comes to Shawshank to serve time for breaking and entering. Tommy is easy going, charismatic, and popular among the other inmates and is befriended by both Andy and Red. When Tommy explains that he\\'s been going in and out of prison ever since he was 13 years old, Andy suggests that Tommy should consider another line of work besides theft because he seems to be not so good at it. The suggestion really gets to Tommy and he asks Andy to help him work on earning his high school equivalency diploma. Though Tommy is a good student, he is still frustrated when he takes the exam itself, crumpling it up and tossing it in the trash. Andy retrieves it and sends it in anyway. Tommy asks Red about Andy\\'s case which Red explains. Upon hearing the story, Tommy is visibly upset. He then tells Andy and Red the story of a former cellmate of his from another prison who boasted about killing a man who was a pro golfer at the country club he worked at, along with his lover. The woman\\'s husband, a banker, had gone to prison for those murders.\\nWith this new information, Andy, full of hope, meets with the warden, expecting Norton to help him get a new trial with Tommy as a witness. The reaction from Norton is completely contrary to what Andy hoped for. When Andy says emphatically that he would never reveal the money laundering schemes he set up for Norton over the years, the warden becomes furious and orders him to solitary for a month. The inmates discuss the sentence mentioning it is the longest time in solitary that they\\'ve ever heard of. They also realize that Andy may truly be innocent after all and has spent almost 20 years in prison for a crime he didn\\'t commit.\\nTommy receives a letter from the board of education announcing that he has passed the exam and now owns a high school diploma. A guard pass the news to Andy in his solitary cell which makes him smile a little.\\nLater on, Tommy is escorted outside at night to have a private meeting with the warden. Warden Norton asks him if the story he told Andy is true and if he would be willing to testify on Andy\\'s behalf. Tommy enthusiastically agrees. The warden smiles at him before nodding to Hadley to shoot him dead.\\nWhen the warden visits Andy in solitary, he tells him that Tommy tried to escape and that Hadley had no choice but to shoot him. Andy doesn\\'t buy that story and tells Norton that \\'\\'everything\\'\\' stops and that he\\'s not going to work for him anymore. The warden threatens Andy to shut down the library, burn all the books, and move Andy to a much different cell in a much different part of the prison with the most hardened criminals should he stop working for him. He then leaves and orders Andy to another month in solitary to think about things.\\nWhen Andy finally comes out of solitary, he and Red have a conversation where Andy talks about his wife and how much he loved her and feels responsible for her death even though he didn\\'t pulled the trigger. He then talks about his projects should he ever get out of prison. He talks about Zihuatanejo, a beach town on the Pacific coast of Mexico where he\\'d like to live for the rest of his life and manage a hotel there. He then asks Red if he\\'d join him to which Red says no and that he believes he is too far gone like Brooks. He then criticizes Andy for allowing hope to mess with his mind like that and that it will only destroy him. Andy agrees and is about to leave when he asks Red if he knows the Buxton, Maine area. He then tells Red about a very specific hay field where there is a large oak tree at the end of a stone wall. He then asks Red to promise him that, should he ever get paroled, he will seek that oak tree and retrieve something that was hidden among the stones but refuses to say what it is. Red promises but is worried about his friend\\'s state of mind. His worries are heightened further when he learns that Andy has asked Haywood for a six-foot rope. Red believes Andy may have finally reached his breaking point and is about to commit suicide. Meanwhile, Norton asks Andy to shine his shoes for him and put his suit in for dry-cleaning before retiring for the night. Andy returns to his cell and the guards turn the lights off for the night. Red remarks that it was the longest night of his life.\\nThe following morning, Andy has not answered the morning call and is not standing in front of his cell like every morning. The guard yells at Andy for putting him late and walks to his cell expecting to find a seriously sick or dead Andy. At the same time, Norton becomes alarmed when he finds Andy\\'s shoes in his shoe box instead of his own. The alarm then goes off announcing a missing inmate. Norton rushes to Andy\\'s empty cell and demands an explanation. Hadley brings in Red, but Red insists he knows nothing of Andy\\'s plans. Becoming increasingly hostile and paranoid, Norton starts throwing Andy\\'s sculpted rocks around the cell. When he throws one at Andy\\'s poster of Raquel Welch (in the spot previously occupied by Marilyn Monroe, and before that by Rita Hayworth), the rock punches through and into the wall. Norton tears the poster from the wall revealing a tunnel just wide enough for a man to crawl into.\\nIt is revealed in a series of flashback sequences narrated by Red that many years ago, not long after receiving his rock hammer, Andy innocently tried to carve his name on his cell wall when a chunk of it came off. Andy, being a fan of geology, realized that the material the wall was made off of could make it possible for him to dig a hole in case he ever needed to escape. Andy first ordered the giant poster of Rita Hayworth to hide the hole. He then spent years digging at night with his rock hammer and hiding the dirt from his job into his pockets which he would then empty in the courtyard during his morning walks. When Tommy was killed, Andy decided it was time to go.\\nDuring the previous night\\'s thunderstorm, Andy wore Norton\\'s clothes underneath his own to his cell, catching a lucky break when no one notices Norton\\'s shiny black shoes on his feet, including Red. He packed many of his belongings, some papers and Norton\\'s clothes into a plastic bag which he tied to himself with the rope he\\'d asked for, and escaped through his hole. The tunnel he\\'d excavated led him to a space between two walls of the prison where he found a sewer main line. Using a rock, he hit the sewer line in time several times with the lightning strikes and eventually broke it open. After crawling through 500 yards of the raw sewage contained in the pipe, Andy emerged in a brook outside the walls. A search team later found his prison clothes, a bar of soap and a very worn out rock hammer.\\nWhile the warden and Red are discovering Andy\\'s genius escape, Andy walks into the Maine National Bank in Portland, where he had put Norton\\'s money. Using his assumed identity as Randall Stephens, and with all the necessary documentation, he closes the account and walks out with a cashier\\'s check. Before he leaves, he asks them to drop a package in the mail. He continues his visitations to nearly a dozen other local banks, ending up with some $370,000. The package contains Warden Norton\\'s accounting books, which are delivered straight to the Portland Daily Bugle newspaper along with Andy\\'s written confessions and testimony.\\nNot long after, the Maine state police storm Shawshank Prison along with several reporters to cover the developing story. Hadley is arrested for the murder of Tommy and is taken away by the state police. According to Red, he heard unfounded rumors through the grapevine that Hadley allegedly started \"crying like a little girl\" in the back seat of the police squad car while he was being taken away. Seeing Hadley being taken away in a police squad car and the local district attorney entering the prison with several policemen holding a warrant for Norton\\'s arrest, Warden Norton finally opens his safe in his office, which he hadn\\'t touched since Andy escaped, and instead of his books, he finds the Bible he had given Andy with a note to the warden saying that he was right, \"salvation did lay within\". Norton then opens it to the book of Exodus and finds that the pages had all been cut out in the shape of Andy\\'s rock hammer. Norton walks back to his desk as the police pound on his door, takes out a small revolver and commits suicide by shooting himself in the head. Red remarks that he wondered if the warden thought, right before pulling the trigger, how \"Andy could ever have gotten the best of him.\"\\nShortly after, Red receives a postcard from Fort Hancock, Texas, with nothing written on it. Red takes it as a sign that Andy made it into Mexico to freedom. Red and his buddies kill time talking about Andy\\'s exploits (with a few embellishments), but Red falls into a sort of depression from missing his friend.\\nAt Red\\'s next parole hearing in 1967, he talks to the parole board about how \"rehabilitated\" is just a made-up word invented to justify their job. He then explains how much he regrets his actions of the past, not because he\\'s in jail but because he knows how wrong it was. He then closes by saying that he has to live with that for the rest of his life and ask the board to stop wasting his time and leave him alone. His parole is finally granted. He goes to live and work at the same places that Brooks did, even seeing Brooks \\'message carved into the wooden beam. He frequently walks by a pawn shop which has several guns in the window. At times he contemplates trying to get back into prison feeling that he has no life outside of prison where he has spent most of his adult life, but he remembers the promise he made to Andy. He then reveals that he was not looking at the guns but at the compasses behind the guns and he bought one.\\nRed follows Andy\\'s instructions, hitchhiking to Buxton and finding the stone wall Andy described. Just as Andy said, there is a large black stone. Underneath is a small box containing a large sum of cash and instructions to come find him in Zihuatanejo although he doesn\\'t name the city just in case. He also says he needs somebody \"who can get things\" for a \"project\" of his. Red suddenly understands all the power of hope and feels exhilarated by the feelings inside of him.\\nAfter carving a new message in the wooden beam which reads: \"Brooks was here, so was Red\", Red violates parole and leaves the halfway house, unconcerned since no one is likely to do an extensive manhunt for \"an old crook like [him].\" Red takes a bus to Fort Hancock, where he crosses into Mexico. The two friends are finally reunited on a beach of the Pacific coast, just like Andy had been hoping for.\\nContribute to this page\\nSuggest an edit or add missing content']"
      ]
     },
     "execution_count": 8,
     "metadata": {},
     "output_type": "execute_result"
    }
   ],
   "source": [
    "docs"
   ]
  },
  {
   "cell_type": "markdown",
   "id": "2521a015-9695-4d49-a912-f02413c372b9",
   "metadata": {},
   "source": [
    "# 2. Extract information\n",
    "\n",
    "- Bedrock 을 통해 Claude2 모델을 us-east-1 리전에서 호출한다.\n",
    "- 해당 호출은 사용당 과금이 된다.\n"
   ]
  },
  {
   "cell_type": "code",
   "execution_count": 9,
   "id": "83408918-dcba-4580-91f9-d04ab46016b0",
   "metadata": {},
   "outputs": [],
   "source": [
    "profile_name = None\n",
    "region = 'us-east-1'"
   ]
  },
  {
   "cell_type": "code",
   "execution_count": 10,
   "id": "183e2f0f-32cc-43bf-8daa-b6c745fe37a9",
   "metadata": {},
   "outputs": [],
   "source": [
    "session = boto3.Session(\n",
    "    profile_name=profile_name,\n",
    "    region_name=region,\n",
    ")\n",
    "bedrock = session.client(service_name='bedrock-runtime')"
   ]
  },
  {
   "cell_type": "code",
   "execution_count": 26,
   "id": "37b47073-a205-4a79-86bb-f8addb815909",
   "metadata": {},
   "outputs": [],
   "source": [
    "modelId = 'anthropic.claude-v2'\n",
    "accept = 'application/json'\n",
    "contentType = 'application/json'"
   ]
  },
  {
   "cell_type": "code",
   "execution_count": 27,
   "id": "3ad74533-a60c-4fb3-8082-35557a32a927",
   "metadata": {},
   "outputs": [],
   "source": [
    "instruction_prompt = \"\"\"\n",
    "You are information extractor. You extract the key informations from the user text to help him to build a topic model. \\\n",
    "The user text is enclosed in text tags, <text></text>.\n",
    "\n",
    "Let's think step by step, and follow these steps to provide a constructive feedback to the user. \\\n",
    "Respond only with JSON string from Step 4, nothing else.\n",
    "Please make sure the response starts with a JSON string, \"{\".\n",
    "\n",
    "####Step 1: List informative keywords that helps to understand the text.\n",
    "\n",
    "####Step 2: If the text contains informative name of entities, List them.\n",
    "\n",
    "####Step 3: Provide summary of the text in about 50 words. \\\n",
    "The summary should use as many keywords and entities extracted in the previous steps as possible. \\\n",
    "The information must not contain any code. Do not provide any sample code in the information.\n",
    "\n",
    "####Step 4: Respond the result in valid JSON string with the keys:: keywords, entities, summary.\n",
    "type of the key, \"keywords\", is a list of string. \\\n",
    "type of the key, \"entities\", is a list of string. \\\n",
    "type of the key, \"summary\", is a string.\n",
    "\"\"\".strip()\n",
    "\n",
    "def _build_prompt(chunk):\n",
    "    user_prompt = f\"\"\"\n",
    "Here is the user text.\n",
    "\n",
    "<text>{chunk}</text>\n",
    "\n",
    "Extract the informations from the user text. \\\n",
    "Please respond only with a JSON object, nothing else. And do not enclose the JSON object with triple quote, ```.\n",
    "    \"\"\".strip()\n",
    "    return f\"\"\"\\n\\nHuman: {instruction_prompt}\\n\\nHuman: {user_prompt}\\n\\n Assistant: \"\"\"\n",
    "\n",
    "def extract_info(chunk):\n",
    "    body = json.dumps({\n",
    "        \"prompt\": _build_prompt(chunk),\n",
    "        \"max_tokens_to_sample\": 2048,\n",
    "        \"top_p\": 0.9,\n",
    "        \"temperature\": 0.2,\n",
    "    })\n",
    "    resp = bedrock.invoke_model(body=body, modelId=modelId, accept=accept, contentType=contentType)\n",
    "    resp_text = resp.get('body').read()\n",
    "    try:\n",
    "        return json.loads(resp_text).get('completion')\n",
    "    except Exception as e:\n",
    "        print('error occured', e)\n",
    "        print(resp_text)\n",
    "        return None"
   ]
  },
  {
   "cell_type": "code",
   "execution_count": 28,
   "id": "5989997f-ff71-4ab2-bb8b-0940fbfc2a2d",
   "metadata": {},
   "outputs": [
    {
     "name": "stdout",
     "output_type": "stream",
     "text": [
      "start extracting info from doc_id: 0, length: 22177, num_tokens: 4679, chunk_size: 1169\n",
      "chunk-0(5539), chunk-1(5640), chunk-2(5521), chunk-3(5493), chunk-4(375), chunks: 5...\n",
      "CPU times: user 90.5 ms, sys: 12.1 ms, total: 103 ms\n",
      "Wall time: 51.3 s\n"
     ]
    }
   ],
   "source": [
    "%%time\n",
    "\n",
    "model_name = 'gpt-3.5-turbo'\n",
    "\n",
    "doc_infos = []\n",
    "for doc_id, doc in enumerate(docs):\n",
    "    # try to split into ~=8 chunks\n",
    "    encoding = tiktoken.encoding_for_model(model_name)\n",
    "    num_tokens = len(encoding.encode(doc))\n",
    "    chunk_size = num_tokens//4 if num_tokens > 512 else num_tokens\n",
    "    print(f'start extracting info from doc_id: {doc_id}, length: {len(doc)}, num_tokens: {num_tokens}, chunk_size: {chunk_size}')\n",
    "    \n",
    "    splitter = TokenTextSplitter.from_tiktoken_encoder(\n",
    "        model_name=model_name,\n",
    "        chunk_size=chunk_size,\n",
    "        chunk_overlap=20,\n",
    "    )\n",
    "    each_info = []\n",
    "    for chunk_idx, chunk in enumerate(splitter.split_text(doc)):\n",
    "        print(f'chunk-{chunk_idx}({len(chunk)}), ', end='')\n",
    "        info = extract_info(chunk)\n",
    "        if info is None:\n",
    "            print(f'invalid output. ', end='')\n",
    "        else:\n",
    "            each_info.append(info)\n",
    "    print(f'chunks: {len(each_info)}...')\n",
    "    \n",
    "    doc_infos.append(each_info)"
   ]
  },
  {
   "cell_type": "code",
   "execution_count": 29,
   "id": "f864c0c8-1aeb-402a-83c7-9243cd30a4f1",
   "metadata": {},
   "outputs": [
    {
     "name": "stdout",
     "output_type": "stream",
     "text": [
      " {\n",
      "  \"keywords\": [\n",
      "    \"Andy Dufresne\", \n",
      "    \"Shawshank Prison\", \n",
      "    \"Red\", \n",
      "    \"friendship\", \n",
      "    \"hope\",\n",
      "    \"redemption\",\n",
      "    \"convicts\",\n",
      "    \"prisoners\",\n",
      "    \"banker\",\n",
      "    \"murder\",\n",
      "    \"wife\",\n",
      "    \"innocent\",\n",
      "    \"escape\",\n",
      "    \"smuggler\"\n",
      "  ],\n",
      "  \"entities\": [\n",
      "    \"Andy Dufresne\",\n",
      "    \"Red\", \n",
      "    \"Ellis Boyd Redding\",\n",
      "    \"Shawshank Prison\",\n",
      "    \"Boggs\",\n",
      "    \"Byron Hadley\",\n",
      "    \"Rita Hayworth\"\n",
      "  ],\n",
      "  \"summary\": \"The text describes the story of Andy Dufresne, an innocent banker who is sent to Shawshank Prison for murdering his wife. In prison, Andy befriends another inmate named Red, a smuggler. Despite the harsh conditions, Andy maintains hope and eventually gains the respect of his fellow prisoners. He resists the sexual assaults from the leader Boggs and his gang. Andy uses his banking expertise to gain privileges from the guard Hadley. He also asks Red to get him a rock hammer to pursue his hobby and a poster of actress Rita Hayworth. The text chronicles Andy's experiences and friendship with Red, and his determination to maintain hope and eventually seek redemption.\"\n",
      "}\n"
     ]
    }
   ],
   "source": [
    "print(doc_infos[0][0])"
   ]
  },
  {
   "cell_type": "markdown",
   "id": "40a77ff5-e58f-4f8a-af0a-9bf6a82e3a63",
   "metadata": {},
   "source": [
    "# 3. Save to file\n",
    "\n",
    "- 각 청크단위의 정보를 하나로 합쳐셔 저장\n"
   ]
  },
  {
   "cell_type": "code",
   "execution_count": 30,
   "id": "6fa9d4bc-8d29-4723-a84f-3bb0789071c6",
   "metadata": {},
   "outputs": [
    {
     "name": "stdout",
     "output_type": "stream",
     "text": [
      " {\n",
      "  \"keywords\": [\n",
      "    \"Andy Dufresne\", \n",
      "    \"Shawshank Prison\", \n",
      "    \"Red\", \n",
      "    \"friendship\", \n",
      "    \"hope\",\n",
      "    \"redemption\",\n",
      "    \"convicts\",\n",
      "    \"prisoners\",\n",
      "    \"banker\",\n",
      "    \"murder\",\n",
      "    \"wife\",\n",
      "    \"innocent\",\n",
      "    \"escape\",\n",
      "    \"smuggler\"\n",
      "  ],\n",
      "  \"entities\": [\n",
      "    \"Andy Dufresne\",\n",
      "    \"Red\", \n",
      "    \"Ellis Boyd Redding\",\n",
      "    \"Shawshank Prison\",\n",
      "    \"Boggs\",\n",
      "    \"Byron Hadley\",\n",
      "    \"Rita Hayworth\"\n",
      "  ],\n",
      "  \"summary\": \"The text describes the story of Andy Dufresne, an innocent banker who is sent to Shawshank Prison for murdering his wife. In prison, Andy befriends another inmate named Red, a smuggler. Despite the harsh conditions, Andy maintains hope and eventually gains the respect of his fellow prisoners. He resists the sexual assaults from the leader Boggs and his gang. Andy uses his banking expertise to gain privileges from the guard Hadley. He also asks Red to get him a rock hammer to pursue his hobby and a poster of actress Rita Hayworth. The text chronicles Andy's experiences and friendship with Red, and his determination to maintain hope and eventually seek redemption.\"\n",
      "}\n",
      " {\n",
      "  \"keywords\": [\n",
      "    \"Andy\", \"prison\", \"Red\", \"Brooks\", \"Warden Norton\", \"library\", \"money laundering\", \"hope\", \"freedom\"\n",
      "  ],\n",
      "  \"entities\": [\n",
      "    \"Andy\", \"Red\", \"Brooks\", \"Warden Norton\"\n",
      "  ],\n",
      "  \"summary\": \"The text describes Andy's time in prison and his friendship with inmate Red. Andy is able to improve conditions for inmates by getting funds for the prison library. He also does accounting work for the corrupt warden and guards, laundering their money. His act of playing music over the PA system shows his rebellious spirit. The story examines themes of hope, freedom, and institutionalization through the characters' experiences.\"\n",
      "}\n",
      " {\n",
      "  \"keywords\": [\n",
      "    \"Andy\", \"Red\", \"Tommy\", \"prison\", \"Warden Norton\", \"escape\", \"murder\", \"false identity\", \"freedom\"\n",
      "  ],\n",
      "  \"entities\": [\n",
      "    \"Andy Dufresne\", \"Ellis Boyd Redding\", \"Tommy Williams\", \"Warden Norton\", \"Randall Stephens\" \n",
      "  ],\n",
      "  \"summary\": \"The text describes Andy Dufresne's time in Shawshank prison and his friendship with inmate Red. Andy was imprisoned for murders he did not commit. With help from another inmate Tommy and after confronting Warden Norton, Andy finally escapes from Shawshank through a tunnel he had dug over many years. Before escaping, Andy shared details of a location in Maine with Red where he had hidden something, asking Red to retrieve it if he got paroled.\"\n",
      "}\n",
      " {\n",
      "  \"keywords\": [\n",
      "    \"Andy\", \n",
      "    \"Red\", \n",
      "    \"prison\", \n",
      "    \"escape\", \n",
      "    \"tunnel\", \n",
      "    \"money\", \n",
      "    \"Mexico\", \n",
      "    \"freedom\"\n",
      "  ],\n",
      "  \"entities\": [\n",
      "    \"Andy Dufresne\", \n",
      "    \"Ellis Boyd Redding\", \n",
      "    \"Shawshank Prison\", \n",
      "    \"Warden Norton\", \n",
      "    \"Brooks Hatlen\", \n",
      "    \"Randall Stephens\", \n",
      "    \"Zihuatanejo\"\n",
      "  ],\n",
      "  \"summary\": \"The text describes the story of Andy Dufresne, who is imprisoned at Shawshank Prison and becomes friends with fellow inmate Red. Andy is determined to escape and tunnels through the prison walls over many years. After finally escaping, he exposes the corrupt warden and retrieves money he had hidden under a false identity. Andy sends word to Red about where to find him in Mexico. Red is paroled after many years and decides to violate parole to join Andy, his friend, finding hope and freedom.\"\n",
      "}\n",
      " {\n",
      "  \"keywords\": [\"Red\", \"parole\", \"halfway house\", \"Fort Hancock\", \"Mexico\", \"Pacific coast\", \"Andy\"],\n",
      "  \"entities\": [\"Red\", \"Andy\"],\n",
      "  \"summary\": \"Red violates his parole and leaves the halfway house to meet his friend Andy on a beach in Mexico, crossing the border at Fort Hancock. They had been hoping to reunite on the Pacific coast.\"\n",
      "}\n"
     ]
    }
   ],
   "source": [
    "with open('./dataset.jsonl', 'w') as fp:\n",
    "    for idx, doc_info in enumerate(doc_infos):\n",
    "        keywords = []\n",
    "        entities = []\n",
    "        summary = []\n",
    "        for el in doc_info:\n",
    "            info = json.loads(el)\n",
    "            keywords.extend(info['keywords'])\n",
    "            entities.extend(info['entities'])\n",
    "            summary.append(info['summary'])\n",
    "        D = {\n",
    "            'keywords': list(set(keywords)),\n",
    "            'entities': list(set(entities)),\n",
    "            'summary': '\\n'.join(summary),\n",
    "            'url': urls[idx],\n",
    "        }\n",
    "        fp.write(f'{json.dumps(D)}\\n')"
   ]
  },
  {
   "cell_type": "code",
   "execution_count": null,
   "id": "de1b2381-54fa-4c1c-9b6a-228b2fbdd60b",
   "metadata": {},
   "outputs": [],
   "source": []
  }
 ],
 "metadata": {
  "kernelspec": {
   "display_name": "Python 3 (ipykernel)",
   "language": "python",
   "name": "python3"
  },
  "language_info": {
   "codemirror_mode": {
    "name": "ipython",
    "version": 3
   },
   "file_extension": ".py",
   "mimetype": "text/x-python",
   "name": "python",
   "nbconvert_exporter": "python",
   "pygments_lexer": "ipython3",
   "version": "3.11.4"
  }
 },
 "nbformat": 4,
 "nbformat_minor": 5
}
