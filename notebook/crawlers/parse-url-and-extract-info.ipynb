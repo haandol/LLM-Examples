{
 "cells": [
  {
   "cell_type": "markdown",
   "id": "b45b0cb6-a78b-4881-9567-7dc59f9aa785",
   "metadata": {},
   "source": [
    "# Crawl web page and extract information\n",
    "\n",
    "- 웹페이지 주소를 입력해서 텍스트 데이터만 추출\n",
    "- 텍스트 데이터에서 LLM 을 이용하여 정보를 추출\n",
    "- 다른 작업에 사용할 수 있도록 jsonl 형태로 내보내기\n",
    "\n",
    "---\n",
    "\n",
    "# 0. Setup"
   ]
  },
  {
   "cell_type": "code",
   "execution_count": 1,
   "id": "8f171286-602e-4129-ac74-4c61f28a5f82",
   "metadata": {},
   "outputs": [],
   "source": [
    "!pip -q install -U requests beautifulsoup4 trafilatura tiktoken langchain"
   ]
  },
  {
   "cell_type": "code",
   "execution_count": 17,
   "id": "55528aec-2132-45d9-a32e-102516344cbb",
   "metadata": {},
   "outputs": [],
   "source": [
    "import json\n",
    "import textwrap\n",
    "from pathlib import Path\n",
    "from datetime import datetime\n",
    "\n",
    "# web scraping\n",
    "import requests\n",
    "import trafilatura\n",
    "from bs4 import BeautifulSoup\n",
    "\n",
    "# sagemaker inference\n",
    "import boto3\n",
    "from sagemaker.session import Session\n",
    "from sagemaker.predictor import Predictor\n",
    "from sagemaker.serializers import JSONSerializer\n",
    "from sagemaker.deserializers import JSONDeserializer\n",
    "\n",
    "# splitter\n",
    "import tiktoken\n",
    "from langchain.text_splitter import TokenTextSplitter"
   ]
  },
  {
   "cell_type": "code",
   "execution_count": 18,
   "id": "66960236-deeb-4d1b-83e9-65fd1d7a4925",
   "metadata": {},
   "outputs": [
    {
     "data": {
      "text/plain": [
       "1"
      ]
     },
     "execution_count": 18,
     "metadata": {},
     "output_type": "execute_result"
    }
   ],
   "source": [
    "urls = [\n",
    "#    'https://www.imdb.com/title/tt0111161/plotsummary/',\n",
    "#    'https://docs.aws.amazon.com/prescriptive-guidance/latest/cloud-design-patterns/acl.html',\n",
    "#    'https://starwars.fandom.com/wiki/Andor_(television_series)',\n",
    "    'https://en.wikipedia.org/wiki/Lee_Byung-hun',\n",
    "]\n",
    "len(urls)"
   ]
  },
  {
   "cell_type": "code",
   "execution_count": 19,
   "id": "74245ef2-8667-4398-b743-b3182f642cdf",
   "metadata": {},
   "outputs": [],
   "source": [
    "def fallback_parse(response_content):\n",
    "    soup = BeautifulSoup(response_content, 'html.parser')\n",
    "    text = soup.find_all(string=True)\n",
    "    cleaned_text = ''\n",
    "    blacklist = [\n",
    "        '[document]',\n",
    "        'noscript',\n",
    "        'header',\n",
    "        'html',\n",
    "        'meta',\n",
    "        'head', \n",
    "        'input',\n",
    "        'script',\n",
    "        'style',]\n",
    "\n",
    "    for item in text:\n",
    "        if item.parent.name not in blacklist:\n",
    "            cleaned_text += '{} '.format(item)\n",
    "            \n",
    "    cleaned_text = cleaned_text.replace('\\t', '')\n",
    "    return cleaned_text.strip()"
   ]
  },
  {
   "cell_type": "code",
   "execution_count": 20,
   "id": "47110ec7-8447-4b9c-9fe8-bb918733d6db",
   "metadata": {},
   "outputs": [],
   "source": [
    "def parse(url):    \n",
    "    print(f'parse url: {url}...')\n",
    "    downloaded = trafilatura.fetch_url(url)\n",
    "\n",
    "    contents = trafilatura.extract(\n",
    "        downloaded, output_format=\"json\",\n",
    "        include_comments=False, include_links=False, with_metadata=True,\n",
    "        date_extraction_params={'extensive_search': True, 'original_date': True},\n",
    "    )\n",
    "    \n",
    "    if contents:\n",
    "        json_output = json.loads(contents)\n",
    "        return json_output['text']\n",
    "    else:\n",
    "        try:\n",
    "            resp = requests.get(url)\n",
    "            if resp.status_code == 200:\n",
    "                return fallback_parse(resp.content)\n",
    "            else:\n",
    "                return None\n",
    "        except Exception as e:\n",
    "            print(e)\n",
    "            raise e"
   ]
  },
  {
   "cell_type": "markdown",
   "id": "caea1151-02d7-4562-be5b-86e4f3dd29f0",
   "metadata": {},
   "source": [
    "# 1. Crawl url and extract texts\n",
    "\n",
    "- trafilatura 를 이용하여 url 에서 텍스트만 추출"
   ]
  },
  {
   "cell_type": "code",
   "execution_count": 21,
   "id": "c44a7fff-1673-4497-932d-f5694943f43d",
   "metadata": {},
   "outputs": [
    {
     "name": "stdout",
     "output_type": "stream",
     "text": [
      "parse url: https://en.wikipedia.org/wiki/Lee_Byung-hun...\n",
      "len: 37411\n",
      "\n",
      "num docs: 1\n",
      "CPU times: user 261 ms, sys: 11.4 ms, total: 272 ms\n",
      "Wall time: 388 ms\n"
     ]
    }
   ],
   "source": [
    "%%time\n",
    "\n",
    "docs = []\n",
    "for url in urls:\n",
    "    doc = parse(url)\n",
    "    print(f'len: {len(doc)}\\n')\n",
    "    if doc is None:\n",
    "        print(f'failed to parse url: {url}')\n",
    "        continue\n",
    "    docs.append(doc)\n",
    "    \n",
    "print(f'num docs: {len(docs)}')"
   ]
  },
  {
   "cell_type": "code",
   "execution_count": 22,
   "id": "0f9a2219-59ec-4e55-8d8f-622644cdbbfe",
   "metadata": {},
   "outputs": [
    {
     "name": "stdout",
     "output_type": "stream",
     "text": [
      "doc 0:\n",
      "Lee Byung-hun Lee Byung-hun |Born||July 12, 1970| Seoul, South ...\n",
      "\n"
     ]
    }
   ],
   "source": [
    "for i, doc in enumerate(docs):\n",
    "    text = textwrap.shorten(doc, width=70, placeholder=' ...\\n')\n",
    "    print(f'doc {i}:\\n{text}')"
   ]
  },
  {
   "cell_type": "code",
   "execution_count": 23,
   "id": "a4a70f35-cbbe-4ae4-8622-40487c8342b8",
   "metadata": {},
   "outputs": [
    {
     "data": {
      "text/plain": [
       "['Lee Byung-hun\\nLee Byung-hun\\n|Born||July 12, 1970|\\nSeoul, South Korea\\n|Education||Hanyang University|\\n|Occupation||Actor|\\n|Years active||1991–present|\\n|Agents|\\n|Spouse||\\n|\\n(m. 2013)\\n|Children||1|\\n|Korean name|\\n|Hangul|\\n|Hanja|\\n|Revised Romanization||I Byeong(-)heon|\\n|McCune–Reischauer||Yi Pyŏnghŏn|\\nLee Byung-hun (Korean: 이병헌; born July 12, 1970[1]) is a South Korean actor. He has received critical acclaim for his work in a wide range of genres, most notably Joint Security Area (2000); A Bittersweet Life (2005); The Good, the Bad, the Weird (2008); I Saw the Devil (2010); Masquerade (2012); and the television series Iris (2009) and Mr. Sunshine (2018). His critically acclaimed film Inside Men (2015) won him the Best Actor prize in three prestigious award ceremonies: 52nd Baeksang Art Awards, 37th Blue Dragon Awards and 53rd Grand Bell Awards. Lee has seven films—Joint Security Area, The Good, the Bad, the Weird, Masquerade, Inside Men, Master, Ashfall and The Man Standing Next—on the list of highest-grossing films in South Korea. Lee was Gallup Korea\\'s Actor of the Year in the Film division in 2012 and in the Television division in 2018.[2][3] In 2021, he appeared in a recurring role as the Front Man in the Netflix survival drama series Squid Game.\\nIn the United States, he is known for portraying Storm Shadow in G.I. Joe: The Rise of Cobra (2009) and its sequel G.I. Joe: Retaliation (2013), and starring alongside Bruce Willis in Red 2 (2013). He portrayed T-1000 in Terminator Genisys (2015), Billy Rocks, and a knife-wielding gunslinger in The Magnificent Seven (2016). Lee was the first South Korean actor to present an Oscar at the annual Academy Awards in Los Angeles and is a member of the Academy of Motion Picture Arts and Sciences.[4] Lee and Ahn Sung-ki were the first South Korean actors to imprint their hand and foot prints on the forecourt of Grauman\\'s Chinese Theatre in Hollywood, Los Angeles.\\nCareer[edit]\\nBeginnings and breakthrough[edit]\\nLee\\'s career began in 1991 after a KBS talent audition and making his debut in the television drama Asphalt My Hometown.[5] Lee drew attention with the action drama Asphalt Man and romantic film The Harmonium in My Memory,[6] but it was only in 2000 that he made his big breakthrough with Park Chan-wook\\'s Joint Security Area. The film broke the box office record and became the highest grossing Korean film at the time.[7] Lee\\'s role as a border-guard soldier won him the Best Actor award at the Busan Film Critics Awards.\\nGlobal stardom[edit]\\nIn 2001, Lee\\'s popularity continued to climb when he starred in melodramas Beautiful Days and Bungee Jumping of Their Own.[8] In 2003, he received the Grand Prize at the SBS Drama Awards and Best Actor at the Baeksang Arts Awards for his role in the poker drama All In.[9] Due to his film and television roles, Lee experienced a rise in popularity across Asia, particularly Japan.[10][11]\\nFrom 2005, Lee focused on film, earning critical acclaim for his performance in A Bittersweet Life directed by Kim Jee-woon,[12][13] which was screened out of competition at the Cannes Film Festival.[14] Lee was nominated for Best Actor at the Blue Dragon Film Awards and Grand Bell Awards, and won at the Chunsa Film Art Awards, Baeksang Arts Awards and the Korean Association of Film Critics Awards.\\nLee reunited with director Kim Jee-woon in the \"kimchi western\" The Good, the Bad, the Weird, taking on his first villain role.[15] The film was screened out of competition at the Cannes Film Festival.[16] Lee\\'s eye-catching performance in the film led to increased global recognition for him.[17] This led to Lee\\'s debut in Hollywood, where he played Storm Shadow in G.I. Joe: The Rise of Cobra, also starring Channing Tatum and Sienna Miller.[18][19]\\nBack in Korea, Lee appeared in I Come with the Rain opposite American actor Josh Hartnett and Japanese actor Takuya Kimura.[20]\\nLee returned to television in late 2009 in the espionage action thriller Iris as a secret agent who finds himself at the center of an international conspiracy.[21] He reportedly received over 100 million won per episode for his role, the third highest in the country\\'s drama history.[22] Iris was one of the most expensive shows ever produced, and was a smash hit across Asia.[23][24] Lee\\'s performance earned him the Grand Prize at the KBS Drama Awards and Best Actor at the Baeksang Arts Awards.[25][26]\\nIn 2010, Lee starred in I Saw the Devil with Choi Min-sik,[27] his third collaboration with Kim Jee-woon, which premiered at the Sundance Film Festival.[28] His portrayal of the intelligence agent won him the Grand Prize at the Baeksang Arts Awards.[29]\\nAcclaim and Hollywood roles[edit]\\nLee received acclaim for his portrayal of dual roles in the lavish period drama Masquerade.[30] The film was a box office hit, becoming the 7th film in Korean history to surpass 10 million admissions.[31] Lee won Best Actor at the Grand Bell Awards for his performance.[32][33] On June 23, 2012, Lee, along with Ahn Sung-ki, became the first Korean actors to leave their hand and foot prints on the forecourt of Grauman\\'s Chinese Theatre in Hollywood, Los Angeles. He was recognized as an emerging star in Hollywood for his role of Storm Shadow in G.I. Joe: The Rise of Cobra, and its sequel, G.I. Joe: Retaliation.[34]\\nIn 2013, Lee reprised his role as Storm Shadow in G.I. Joe: Retaliation.[35][36] He then co-starred in the American film RED 2, the sequel to the 2010 action-comedy hit RED, alongside Bruce Willis, Catherine Zeta-Jones, Helen Mirren, and John Malkovich.[37][38]\\nFollowing his sex-chat scandal, Lee returned with the martial arts film Memories of the Sword in 2015. The film was shot in late 2013 and scheduled for release in 2014, but was postponed due to Lee\\'s scandal.[39] He received praise for his scene-stealing role as a young and ambitious warrior with a lowly status, but the film failed to do well and was criticized for its messy plot.[40] The same year, Lee played a T-1000 in Terminator Genisys opposite Arnold Schwarzenegger.[41][42] He then starred in Woo Min-ho\\'s political crime thriller Inside Men,[43] which became the top grossing R-rated movie of all-time at the Korean Box Office.[44] Touted as the \"star\" of the film, Lee received critical acclaim and swept Best Actor awards at various film awards ceremonies.[45][46]\\nIn 2016, Lee featured in the American crime thriller Misconduct.[47][48] On February 28, 2016, Lee attended the 88th Academy Awards and presented the \"Best Foreign Language Film\" award with actress Sofia Vergara. He was the first Korean actor to present an award at the Oscars.[49][50] The same year, Lee co-starred as knife-wielding gunslinger Billy Rocks in The Magnificent Seven with Denzel Washington, Chris Pratt, and Ethan Hawke.[51][52]\\nReturning to Korea, Lee starred in the crime thriller Master,[53][54] followed by mystery drama Single Rider.[55][56]\\nIn March 2017, Lee signed on with major Hollywood agency United Talent Agency.[57] He was cast in the Hollywood action film Radiance. The film is directed by Patrick Lussier, who worked with Lee in Terminator Genisys.[58] Lee then starred in historical epic The Fortress,[59][60] and comedy-drama film Keys to the Heart.[61][62]\\nReturn to television and acclaim[edit]\\nIn 2018, Lee made his television comeback in Mr. Sunshine, a historical war drama written by Kim Eun-sook.[63] The series was a commercial and critical success, and Lee won the Grand Prize at the 6th APAN Star Awards.[64]\\nIn 2019, Lee starred in the action film Ashfall.[65][66] In 2020, Lee starred in the political drama The Man Standing Next.[67] Both films were box office successes, and proved Lee\\'s brand power as a lead actor.[68] Lee also starred in the political thriller aviation disaster film Emergency Declaration, which premiered out of competition at the 74th Cannes Film Festival in July 2021[69] before its theatrical release in South Korea on August 3, 2022.[70]\\nIn September 2021, he appeared on Netflix\\'s survival drama Squid Game as the Front Man.[71] In the 15th Asian Film Awards, he was awarded with Asian Film Excellence Award. He is the first Korean actor to be selected for the award, which is given for outstanding achievements in Asian cinema and culture.[72]\\nIn 2022, Lee starred in the tvN television series Our Blues written by Noh Hee-kyung.[73] He will also appear Um Tae-hwa\\'s disaster thriller film Concrete Utopia alongside Park Bo-young and Park Seo-joon.[74]\\nOther work[edit]\\nLee formed a management company, BH Entertainment, which manages many actors including Han Hyo-joo, Go Soo, Jin Goo, Jinyoung and Han Ji-min.[75] He owns a shop, BHNC, which sells hats, scarves and wallets.[76]\\nLee Byung-hun is noted in the video game industry for providing his likeness for the main character, Wayne Holden, in the 2006 game Lost Planet: Extreme Condition, for the Xbox 360, PS3 & PC.[77]\\nAmbassador roles[edit]\\nIn 2010, Lee was named California\\'s tourism promotion ambassador to Korea.[78]\\nIn 2013, Lee was selected as an honorary ambassador for that year\\'s annual meeting of the Association of Film Commissioners International, a group dedicated to helping facilitate international coproductions.[79] The same year, he was appointed honorary ambassador to promote the 50th Daejong Film Awards.[80]\\nPhilanthropy[edit]\\nIn March 2011, Lee donated 700 million won to the Korean Red Cross to help local residents affected by the earthquake and tsunami in Japan.[81]\\nIn November 2016, Lee made a voice donation to Green Umbrella Children\\'s Foundation for \\'Haru\\', a campaign to support sick children.[82]\\nIn April 2019, Lee and his wife Lee Min-jung donated 100 million to victims of forest fires in Gangwon-do.[83]\\nIn February 2020, Lee donated 100 million won through the Fruit of Love of the Community Chest of Korea and his donation was used to provide sanitary products to vulnerable groups.[84] In October 2020, Lee made voice donation to multi-media type Braille sensory book by The National Research Institute of Cultural Heritage.[85] On December 30, 2020, Lee donated 100 million won to the Green Umbrella Children\\'s Foundation to help children from low-income families who are having difficulties in life due to COVID-19.[86]\\nOn July 12, 2021, Lee donated 100 million won to Asan Children\\'s Hospital in Seoul on the occasion of his birthday.[87]\\nOn March 6, 2022, Lee donated 100 million won to Hope Bridge Disaster Relief Association to help residents affected by the Uljin and Samcheok wildfires and his donation is said to be quickly used to provide temporary shelter for the victims who are evacuating from their homes.[88]\\nPersonal life[edit]\\nLee was born in Seoul, South Korea. He has a younger sister, Lee Eun-hee, who won the Miss Congeniality portion of Miss Korea in 1996.[6] He graduated from Hanyang University with a major in French Literature and the Graduate School of Chung-Ang University with a major in Theater and Cinematography.[5][89] In his spare time, Lee practices taekwondo.[90][91]\\nRelationships[edit]\\nLee was previously romantically linked with fellow All In lead Song Hye-kyo beginning in the early-2000s. The relationship, though kept completely low-key and rarely publicized, lasted fifteen months before they split in mid-June 2004.[92] Lee married actress Lee Min-jung on August 10, 2013, at the Grand Hyatt Seoul.[93] The couple had briefly dated in 2006, then resumed their relationship in 2012.[94] Lee\\'s wife gave birth to their only child, a son, Lee Joon-hoo, on March 31, 2015.[95] After he had to clear some debts following his father\\'s death, Lee fell into a depression. He then started to suffer panic disorders, and found it difficult to attend award ceremonies. Lee credits his wife with helping him overcome his mental health challenges.[96]\\nCivil lawsuit & habitual gambling allegations[edit]\\nOn December 9, 2009, Lee\\'s ex-girlfriend Kwon Mi-yeon filed a civil lawsuit alleging she was tricked into having a sexual relationship with the star based on the promise of marriage. She claimed Lee caused her mental anguish and physical damage along with claims that Lee is a chronic gambler and sued for 100 million won. Lee\\'s agency, BH Entertainment, countered that her claims were all false and that the lawsuit was retaliatory in nature due to the breakup. Lee countersued Kwon for defamation and extortion.[97][98]\\nShortly after the lawsuit was filed, TV show host Kang Byung-kyu appeared on the set of the TV drama Iris that Lee was working on at the time. He was accused of bringing in gangsters and causing a disturbance due to a conflict with a producer that he claimed spread rumors that Kang was behind the feud between Lee and Kwon. Due to this incident Kang was arrested on assault charges. Kang was also later indicted on charges of blackmail and defamation with prosecutors alleging that Kang and Kwon colluded to blackmail Lee for large sums of money in November 2009 before Kwon went on to file her civil lawsuit in December after Lee refused to pay.[99][100]\\nLee was cleared of the illegal gambling charges on March 19, 2010, with prosecutors citing no evidence.[101] Kwon\\'s claim for damages was eventually dropped in August 2010 due to her lack of participation in proceedings.[102] Kang was eventually sentenced to one year in prison and three years probation in 2013 on his fraud and assault charges.[103]\\nBlackmail scandal[edit]\\nOn August 28, 2014, Lee was blackmailed by singer Dahee from K-pop girl group GLAM[104] and model Lee Ji-yeon[105] for 5 billion won (about US$4,000,000) in exchange for not releasing, on the internet, a compromising video of him making sexual jokes while drinking with them on July 3.[106][107][108][109] Dahee and Lee Ji-yeon were arrested on September 1,[110] after Lee reported the crime to police when they handed him two suitcases to transport the money.[111] It was later revealed that the crime was fully intentional and pre-planned, as both Dahee and Lee Ji-yeon looked for plane tickets to escape to Europe[112] and purchased two suitcases to be used for transporting the money.[113] Moreover, the two women attempted to film an additional video of Lee hugging Lee Ji-yeon by secretly placing a smartphone in a kitchen sink, but they failed to do so.[114] However, Lee Ji-yeon claimed that the blackmailing was an impulsive act after Lee broke up with her,[115][116] for which Lee Byung-hun\\'s agency released an official statement stating that Lee had not once met her alone and that he mentioned to the two women that he wanted to stop meeting them when he sensed ulterior motives from them after talking about their financial difficulties,[113] demanding he buy them a house.[117] The final trial was held at the Seoul District Court on January 15, 2015,[118] where Dahee was sentenced to a year in jail and Lee Ji-yeon to a year and two months.[119][120] In February, following the sentencing, Lee requested a pardon for the women while the prosecution in charge felt that the sentence was too lenient.[121] In March, both women, who were in jail for six months, received a suspended sentence for two years following Lee\\'s pardon request.[122] The K-pop girl group GLAM was disbanded following the sentencing of Dahee.\\nFilmography[edit]\\nDiscography[edit]\\nAlbums[edit]\\n|Year||Album Name|\\n|1999||Lee Byung Hun - To Me|\\nSingles[edit]\\n|Year||Single Name|\\n|2008||\"Itsuka (Someday)\"|\\nSoundtrack[edit]\\n|Year||Track||Album|\\n|2010||\"Stay\"||Iris OST|\\n|\"Endless Road\"|\\nAwards and nominations[edit]\\nNotes[edit]\\nReferences[edit]\\n- ^ \"LEE Byung-hun\". m.koreanfilm.or.kr. Archived from the original on July 18, 2020. Retrieved July 16, 2020.\\n- ^ \"Lee Byung-hun chosen as \\'actor of 2012\\' in poll\". The Korea Times. Yonhap News Agency. December 27, 2012. Archived from the original on June 11, 2021. Retrieved June 13, 2021.\\n- ^ Lee, Do-yeon (December 13, 2018). \\'미스터 션샤인\\' 이병헌·김태리, 올해를 빛낸 탤런트 1·2위 [\\'Mr. Sunshine\\' Lee Byung-hun and Kim Tae-ri ranked first and second in the talent that shined this year]. Yonhap News Agency (in Korean). Archived from the original on June 10, 2021. Retrieved June 13, 2021.\\n- ^ \"Actor Lee Byung-hun, 3 other Koreans named new Academy members\". The Korea Times. June 30, 2016. Archived from the original on October 12, 2019. Retrieved July 6, 2016.\\n- ^ a b \"Lee Byung Hun - Man of the World\". Yesasia. Archived from the original on November 6, 2016. Retrieved September 12, 2016.\\n- ^ a b \"[10LINE] Lee Byung-hun\". 10Asia. Hancinema. February 15, 2010. Archived from the original on August 21, 2017. Retrieved August 21, 2017.\\n- ^ \"Joint Security Area\". Eastern Kicks. Archived from the original on July 11, 2017. Retrieved October 28, 2010.\\n- ^ \"Behind the charisma, Lee Byung-hun is drawn to subtlety\". The Korea Herald. February 22, 2017. Archived from the original on August 21, 2017. Retrieved August 21, 2017.\\n- ^ \"<연합인터뷰> SBS「올인」의 이병헌\". Yonhap News Agency. January 6, 2003. Archived from the original on December 24, 2018. Retrieved December 23, 2018.\\n- ^ \"First Bae Yong-joon, Now Lee Byung-hun\". The Chosun Ilbo. April 8, 2005. Archived from the original on August 23, 2017. Retrieved August 23, 2017.\\n- ^ \"\\'Hallyu\\' stars Lee and Choi greet Japanese fans\". The Korea Times. Hancinema. May 6, 2005. Archived from the original on August 23, 2017. Retrieved August 23, 2017.\\n- ^ \"A gangster movie with a touch of realism\". Korea JoogAng Daily. April 5, 2005. Archived from the original on August 7, 2020. Retrieved August 21, 2017.\\n- ^ \"Actor Lee Byung-hun: \\'Bittersweet Life\\' is best work of life\". Yonhap News Agency. October 7, 2016. Archived from the original on August 21, 2017. Retrieved August 21, 2017.\\n- ^ \"Festival de Cannes: A Bittersweet Life\". Cannes Film Festival. Archived from the original on October 11, 2012. Retrieved January 1, 2011.\\n- ^ \"Mike Edwards talks to Byung-hun Lee about THE GOOD, THE BAD, THE WEIRD and a little bit about G.I. JOE! | Obsessed with Film\". Archived from the original on May 25, 2009. Retrieved January 2, 2010.\\n- ^ \"Festival de Cannes: The Good, the Bad, and the Weird\". Cannes Film Festival. Archived from the original on October 4, 2013. Retrieved January 1, 2011.\\n- ^ \"Korean idol Lee Byung-hun makes waves overseas\". CNN. November 26, 2008. Archived from the original on July 11, 2017. Retrieved August 23, 2017.\\n- ^ \"Lee Byung-hun Returns With Film G.I. Joe\". The Korea Times. July 29, 2009. Archived from the original on August 21, 2017. Retrieved August 21, 2017.\\n- ^ \"Actor Lee Byung-hun Says Best Is Yet to Come\". The Chosun Ilbo. September 12, 2009. Archived from the original on August 21, 2017. Retrieved August 21, 2017.\\n- ^ \"Actor taking movie world by storm with \\'Rain\\'\". Korea JoongAng Daily. October 2, 2009. Archived from the original on August 21, 2017. Retrieved August 21, 2017.\\n- ^ \"Lee Byung-hun to star in \\'IRIS\\'\". Variety. April 17, 2008. Archived from the original on June 19, 2017. Retrieved December 16, 2017.\\n- ^ \"Lees High Salary\". The Korea Times. November 12, 2009. Archived from the original on November 30, 2021. Retrieved August 21, 2017.\\n- ^ \"Lee Byung-hun in Expensive Spy Drama Series IRIS\". Beyond Hollywood. Archived from the original on February 3, 2011.\\n- ^ \"New drama finds a gripping formula for success\". Korea JoongAng Daily. November 26, 2009. Archived from the original on August 21, 2017. Retrieved August 21, 2017.\\n- ^ \"2009 Drama Awards Wrap Up With No Surprises\". The Korea Times. January 3, 2010. Archived from the original on August 10, 2017. Retrieved August 21, 2017.\\n- ^ \"Ko Hyun-jung, \"Haeundae\" win grand prize at PaekSang Arts Awards\". 10Asia. March 29, 2010. Archived from the original on March 3, 2016.\\n{{cite web}}: CS1 maint: bot: original URL status unknown (link)\\n- ^ \"Lee Byung-hun says \"\\'I Saw the Devil\\' makes you think of what you get out of revenge\"\". 10Asia. Hancinema. August 19, 2010. Archived from the original on August 21, 2017. Retrieved August 21, 2017.\\n- ^ \"Lee Byung-hun Invited to Sundance Film Festival\". The Chosun Ilbo. January 24, 2011. Archived from the original on August 21, 2017. Retrieved August 21, 2017.\\n- ^ \"Hyun Bin, Lee Byung-hun win Paeksang awards\". The Korea Herald. May 29, 2011. Archived from the original on August 21, 2017. Retrieved August 21, 2017.\\n- ^ \"Lee shines in dual roles in \\'Masquerade\\'\". The Korea Times. October 11, 2012. Archived from the original on August 21, 2017. Retrieved August 21, 2017.\\n- ^ Lee, Rachel (October 21, 2012). \"\\'Masquerade,\\' 7th film to reach 10 million viewers\". The Korea Times. Archived from the original on October 26, 2012. Retrieved November 12, 2012.\\n- ^ \"\\'Gwanghae\\' sweeps Korean Oscars\". The Korea Times. October 31, 2012. Archived from the original on July 14, 2015.\\n- ^ \"Lee Byung-hun chosen as \\'actor of 2012\\' in poll\". The Korea Times. December 27, 2012. Archived from the original on August 21, 2017. Retrieved August 21, 2017.\\n- ^ \"Ahn Sung-ki, Lee Byung-hun to Leave Handprints in Hollywood\". The Chosun Ilbo. April 26, 2012. Archived from the original on August 21, 2017. Retrieved May 4, 2012.\\n- ^ Park Soo-mee (January 16, 2011). \"Lee Byung-hun to Reprise \\'G.I. Joe\\' Role\". The Hollywood Reporter. Archived from the original on January 20, 2011. Retrieved January 21, 2011.\\n- ^ \"Becoming \\'Storm Shadow\\' in Hollywood\". The Korea Herald. March 12, 2013. Archived from the original on August 21, 2017. Retrieved August 21, 2017.\\n- ^ Chitwood, Adam. \"Catherine Zeta-Jones and Byung-Hun Lee Join Bruce Willis and More in RED 2\". Collider. Archived from the original on March 10, 2014. Retrieved September 12, 2016.\\n- ^ \"Lee Byung-hun reps his role in Red 2\". Korea JoongAng Daily. July 17, 2012. Archived from the original on August 21, 2017. Retrieved August 21, 2017.\\n- ^ \"Sex-chat scandal actor returns\". The Korea Times. June 29, 2015. Archived from the original on August 21, 2017. Retrieved August 21, 2017.\\n- ^ \"\\'Memories of Sword\\' overshadows Lee\". The Korea Times. August 10, 2015. Archived from the original on August 21, 2017. Retrieved August 21, 2017.\\n- ^ \"\\'G.I. Joe,\\' \\'Mad Men\\' and \\'House of Cards\\' Actors Join \\'Terminator: Genesis\\' (Exclusive)\". The Hollywood Reporter. March 31, 2014. Archived from the original on April 3, 2014. Retrieved April 1, 2014.\\n- ^ \"Actor sheds light on scary \\'Terminator\\' character\". The Korea Times. June 26, 2015. Archived from the original on August 21, 2017. Retrieved August 21, 2017.\\n- ^ \"Lee Byung-hun contemplates betrayal, revenge\". Korea JoongAng Daily. November 24, 2005. Archived from the original on March 1, 2019. Retrieved August 21, 2017.\\n- ^ \"\\'Inside Men\\' sets sales record for over-19 movies\". Korea JoongAng Daily. November 24, 2015. Archived from the original on August 21, 2017. Retrieved August 21, 2017.\\n- ^ \"Woo Min-ho\\'s \\'Inside Men\\' is a Masterpiece, Lee Byung-hun Is Back On Form\". Asian Movie Pulse. September 4, 2016. Archived from the original on February 11, 2017. Retrieved February 10, 2017.\\n- ^ \"Actor Lee Byung-hun Takes on Corruption in \\'Inside Men\\'\". NBC News. Archived from the original on August 14, 2018. Retrieved October 7, 2019.\\n- ^ \"Lee Byung-hun gets U.S. role\". Korea JoongAng Daily. March 23, 2015. Archived from the original on August 21, 2017. Retrieved August 21, 2017.\\n- ^ \"\\'Misconduct\\' opening next month\". Korea JoongAng Daily. February 27, 2016. Archived from the original on August 22, 2017. Retrieved August 21, 2017.\\n- ^ \"Lee Byung-hun, Sumi Jo attend Academy Awards\". The Korea Herald. February 29, 2016. Archived from the original on June 18, 2016. Retrieved September 12, 2016.\\n- ^ \"Lee Byung-hun to present at Oscars\". The Korea Times. January 24, 2016. Archived from the original on February 27, 2016. Retrieved February 17, 2016.\\n- ^ \"Lee Byung-hun recalls filming alongside Chris Pratt, Ethan Hawke on \\'Magnificent Seven\\'\". The Korea Herald. September 12, 2016. Archived from the original on August 21, 2017. Retrieved August 21, 2017.\\n- ^ \"\\'Magnificent Seven\\' entertaining with actions\". The Korea Times. September 13, 2017. Archived from the original on August 21, 2017. Retrieved August 21, 2017.\\n- ^ \"Top actors to light up action film \"Master\"\". The Korea Times. December 17, 2015. Archived from the original on August 19, 2017. Retrieved August 21, 2017.\\n- ^ \"Actor Lee Byung-hun returns as two-faced villain\". Yonhap News Agency. December 13, 2016. Archived from the original on August 21, 2017. Retrieved August 21, 2017.\\n- ^ \"Lee Byung-hun, Gong Hyo-jin to star in thriller\". The Korea Times. March 17, 2016. Archived from the original on August 21, 2017. Retrieved August 21, 2017.\\n- ^ \"Actor Lee Byung-hun shows affection for his everyman character in \\'A Single Rider\\'\". Yonhap News Agency. January 16, 2017. Archived from the original on August 21, 2017. Retrieved August 21, 2017.\\n- ^ \"Lee Byung-hun signs contract with major Hollywood agency\". The Korea Herald. March 24, 2017. Archived from the original on August 21, 2017. Retrieved August 21, 2017.\\n- ^ \"Lee Byung-hun cast in \\'Radiance\\'\". Korea JoongAng Daily. May 31, 2017. Archived from the original on August 21, 2017. Retrieved August 21, 2017.\\n- ^ \"LEE Byung-hun, KIM Yun-seok and PARK Hae-il Tapped for NAMHANSANSEONG FORTRESS\". Korean Film Biz Zone. November 21, 2016. Archived from the original on April 7, 2022. Retrieved August 21, 2017.\\n- ^ \"Exclusive: Interview with Korean actor Lee Byung Hun on his role in The Fortress, whitewashing and how he navigates Hollywood\". Independent. October 23, 2017. Archived from the original on October 25, 2017. Retrieved October 26, 2017.\\n- ^ \"Lee Byung-hun to tackle boxer role\". The Korea Herald. December 14, 2016. Archived from the original on August 21, 2017. Retrieved August 21, 2017.\\n- ^ \"LEE Byung-hun and YOUN Yuh-jung Start Shooting New Drama\". Korean Film Biz Zone. June 21, 2017. Archived from the original on April 24, 2020. Retrieved August 21, 2017.\\n- ^ \"Lee Byung-hun stars in wartime romance\". The Korea Times. June 27, 2018. Archived from the original on June 28, 2018. Retrieved December 23, 2018.\\n- ^ \"\\'Mr. Sunshine\\' Lee Byung-hun wins top prize at APAN Star Awards\". The Korea Herald. October 14, 2018. Archived from the original on February 5, 2021. Retrieved December 23, 2018.\\n- ^ \"A-list actors team up for $17 million movie \\'Mount Paektu\\'\". The Korea Times. November 24, 2018. Archived from the original on October 29, 2018. Retrieved October 28, 2018.\\n- ^ \"LEE Byung-hun and HA Jung-woo Wrap MOUNT BAEKDU\". Korean Film Biz Zone. August 28, 2019. Archived from the original on May 23, 2020. Retrieved September 1, 2019.\\n- ^ \"LEE Byung-hun, LEE Sung-min and KWAK Do-won Enter 1970s Political Thriller\". Korean Film Biz Zone. November 7, 2018. Archived from the original on December 23, 2018. Retrieved December 23, 2018.\\n- ^ \"[INTERVIEW] Actor Lee Byung-hun proves brand power through new movies\". Aju Daily. January 29, 2020. Archived from the original on February 18, 2020. Retrieved February 18, 2020.\\n- ^ Cite error: The named reference\\nlineup:iwwas invoked but never defined (see the help page).\\n- ^ Choi Young-joo (July 4, 2022). \"사상 초유의 항공 재난 \\'비상선언\\' 8월 3일 개봉\" [Unprecedented Aviation Disaster \\'Declaration of Emergency\\' opens on August 3rd]. CBS No Cut News (in Korean). Naver. Retrieved July 4, 2022.\\n- ^ \"What is behind the Squid Game mask? It hits close to home\". September 20, 2021. Archived from the original on September 21, 2021. Retrieved September 21, 2021.\\n- ^ Kim Ji-hye (September 30, 2021). \"이병헌, 제15회 아시아영화엑설런스상 수상…한국 배우 최초\" [Lee Byung-hun wins the 15th Asian Film Excellence Award... First Korean actor]. SBS Entertainment News (in Korean). Naver. Archived from the original on September 30, 2021. Retrieved September 30, 2021.\\n- ^ \"\\'Our Blues,\\' set on Jeju, will have star-studded cast\". Korea JoongAng Daily. October 17, 2021. Archived from the original on June 10, 2022. Retrieved June 10, 2022 – via Naver.\\n- ^ Kim, Ji-won (April 16, 2021). \"이병헌, \\'영탁\\' 된다…\\'콘크리트 유토피아\\' 크랭크인\" [Lee Byung-hun becomes \\'Young-tak\\'... \\'Concrete Utopia\\' Crankin]. Hankyung (in Korean). Archived from the original on April 16, 2021. Retrieved April 16, 2021.\\n- ^ \"(News Focus) Dark and bright sides of \\'one-person management agency\\'\". Yonhap News Agency. January 18, 2013. Archived from the original on August 21, 2017. Retrieved August 21, 2017.\\n- ^ \"Trash: BH Shop - Sinsadong Garosu-gil Road Branch (신사동 가로수길-이병헌 스타샵) |\". Korea Tourism Organization. Archived from the original on July 22, 2011. Retrieved September 12, 2016.\\n- ^ Gantayat, Anoop (December 10, 2005). \"Capcom Unveils Lost Planet\". IGN. p. 1. Archived from the original on May 12, 2008. Retrieved May 9, 2009.\\n- ^ \"Lee Byung-hun to Promote California Tourism\". The Chosun Ilbo. September 16, 2010. Archived from the original on August 22, 2017. Retrieved August 21, 2017.\\n- ^ \"Ambassador Lee Byung-hun?\". Korea JoongAng Daily. April 29, 2013. Archived from the original on August 22, 2017. Retrieved August 21, 2017.\\n- ^ \"Actors to represent Korean film industry\". Korea JoongAng Daily. September 11, 2013. Archived from the original on August 21, 2017. Retrieved August 21, 2017.\\n- ^ Go Kyung-seok (March 16, 2011). \"이병헌도 기부대열 합류..적십자에 7억원 기부\" [Lee Byung-hun also joined the donation line... Donated 700 million won to the Red Cross]. Asian Economy (in Korean). Archived from the original on March 6, 2022. Retrieved March 6, 2022 – via Naver.\\n- ^ Nam Hye-yeon (November 3, 2011). \"이병헌, 환아를 위한 따뜻한 재능기부 나섰다\" [Lee Byung-hun, generous talent donation for sick children]. Sports Seoul (in Korean). Archived from the original on March 6, 2022. Retrieved March 6, 2022 – via Naver.\\n- ^ Ahn Yun-ji (April 7, 2019). \"이병헌♥이민정·아이유→싸이·윤두준, 강원도 산불 피해에 기부(종합)\" [Lee Byung-hun ♥ Lee Min-jung, IU → Psy, Yoon Doo-joon, donated to Gangwon-do forest fire damage (comprehensive)]. MBN (in Korean). Archived from the original on March 6, 2022. Retrieved March 6, 2022 – via Naver.\\n- ^ Shin Young-eun (February 25, 2020). \"유재석·이병헌·신민아→박서준·이영애·송가인, 코로나19 기부 행렬[종합]\" [Yoo Jae-seok, Lee Byung-hun, Shin Min-ah → Park Seo-joon, Lee Young-ae, Song Ga-in, Corona 19 donation procession [comprehensive]]. Maeil Economic Daily (in Korean). Archived from the original on March 6, 2022. Retrieved March 6, 2022 – via Naver.\\n- ^ Park Ji-hyun (October 15, 2020). \"소리로 소개하는 천연기념물 \\'동물\\' 점자감각책, 이병헌·한지민 목소리로 들어보세요\" [The Braille sensory book, ‘Animal’, a natural monument introduced by sound, listen to the voices of Lee Byung-hun and Han Ji-min]. Financial News (in Korean). Archived from the original on March 6, 2022. Retrieved March 6, 2022 – via Naver.\\n- ^ Jo Yeon-kyung (December 30, 2020). \"\"따뜻한 아빠 마음\" 이병헌, 저소득층 아동 돕기 \\'1억 기부\\'[공식]\" [\"A warm father\\'s heart\" Lee Byung-hun, \\'100 million donation\\' to help low-income children [Official]]. Daily Sports (in Korean). Archived from the original on March 6, 2022. Retrieved March 6, 2022 – via Naver.\\n- ^ Kim Ji-ho (July 12, 2021). \"\"소아청소년 환우를 위해\"…이병헌, 생일 맞이 1억원 기부\" [\"For pediatric patients\"... Lee Byung-hun, donated 100 million won for his birthday]. Dispatch (in Korean). Archived from the original on March 6, 2022. Retrieved March 6, 2022 – via Naver.\\n- ^ Kim Won-gyeom (March 6, 2022). \"이병헌, 산불 피해 이재민 위해 희망브리지에 성금 1억원 기탁[공식]\" [Lee Byung-hun, donated 100 million won to Hope Bridge for the victims of forest fire [Official]]. Spotify News (in Korean). Archived from the original on March 6, 2022. Retrieved March 6, 2022 – via Naver.\\n- ^ \"Getting to know Lee Byung Hun\". The Star. March 4, 2005. Archived from the original on September 29, 2019. Retrieved August 23, 2017.\\n- ^ \"Byung-Hun Lee Talks Storm Shadow and \"G.I. Joe: Rise of Cobra\". Comic Book Resources. Archived from the original on August 18, 2013. Retrieved May 13, 2012.\\n- ^ \"Q&A - G.I. Joe Star Byung-hun Lee Explains Storm Shadow\\'s Martial Arts Style\". ACMTV. Archived from the original on July 7, 2012. Retrieved May 13, 2012.\\n- ^ Song, Won-seop (June 15, 2004). \"[이병헌-송혜교 결별 선언] 왜 헤어졌나?\". Chosun Ilbo (in Korean). Archived from the original on October 20, 2021. Retrieved October 20, 2021.\\n- ^ \"Lee Byung-hun, Lee Min-jung wed\". Korea JoongAng Daily. August 12, 2013. Archived from the original on June 6, 2020. Retrieved August 21, 2017.\\n- ^ Cho Chung-un, Lee Woo-young (August 19, 2012). \"Top actors say they are dating\". The Korea Herald. Retrieved November 18, 2012.\\n- ^ Choi, He-suk. \"Lee Min-jung gives birth to son\". The Korea Herald. Archived from the original on August 6, 2020. Retrieved April 23, 2015.\\n- ^ \"Lee Byung-Hun reveals he faced financial difficulties after his father\\'s death\". Soompi. Archived from the original on May 24, 2022. Retrieved August 19, 2020.\\n- ^ 한국아이닷컴!. news.hankooki.com (in Korean). Archived from the original on July 14, 2012. Retrieved April 7, 2018.\\n- ^ \"이병헌 VS 권미연, 풀리지 않는 진실게임 \\'그 승자는?\\'\". bntnews.hankyung.com. Archived from the original on July 22, 2018. Retrieved April 7, 2018.\\n- ^ ‘논란의 중심’ 이병헌, 사생활과 작품 활동은 별개?. 아시아경제 (in Korean). July 21, 2010. Archived from the original on July 22, 2018. Retrieved April 7, 2018.\\n- ^ Moon, Dayoung (October 6, 2010). 이병헌과 전여친 관련, 강병규 공판 올해안에 안 끝난다 [Kang Byung-gyu\\'s trial over Lee Byung-hun and his ex-girlfriend won\\'t end within this year]. Newsen. Archived from the original on October 22, 2021. Retrieved January 30, 2022.\\n- ^ 이병헌 측 \"억울함 풀려 다행\"…상습도박 \\'무혐의\\' 처분 (in Korean). Retrieved April 7, 2018.\\n- ^ 이병헌, 전 여친 권모씨와 송사 8개월만에 결국 없던 일로 (in Korean). Retrieved April 7, 2018.\\n- ^ ‘이병헌 협박’ 강병규, 사기 혐의 징역 1년刑 (in Korean). Retrieved April 7, 2018.\\n- ^ Yoon, Sung-yeol (September 2, 2014). \\'영장 신청\\' 글램 다희 \"이병헌 협박혐의 인정..죄송\". Star News (in Korean). Archived from the original on July 22, 2018. Retrieved July 22, 2018.\\n- ^ 이병헌 협박, 글램 다희-모델 이지연에…특별법 적용시 \\'무기징역\\'. W Star News Entertainment (in Korean). Nate news. September 5, 2014. Archived from the original on September 29, 2019. Retrieved July 22, 2018.\\n- ^ 이병헌에 집 사달라 요구 이지연 다희, 협박 위해 포옹 연출도 기획 \\'경악\\'. MediaPen (in Korean). October 1, 2014. Archived from the original on July 22, 2018. Retrieved July 22, 2018.\\n- ^ Choi, Hwi-Seok (July 24, 2015). \"Actor Lee Byung-hun apologizes over blackmail scandal\". Korea Herald. Archived from the original on July 22, 2018. Retrieved July 22, 2018.\\n- ^ Hwang, Ji-young (September 1, 2014). 이병헌 측 \"협박女 1일 새벽 검거…추측 자제\" 공식입장 (전문). TV Report (in Korean). Archived from the original on July 22, 2018. Retrieved July 22, 2018.\\n- ^ \"Actor Lee Byung-hun apologizes over blackmail scandal\". Yonhap News Agency. July 24, 2015. Archived from the original on July 22, 2018. Retrieved July 22, 2018.\\n- ^ Kim, Yong-ho (September 2, 2014). \"[단독] 이병헌 협박한 여성, 걸그룹 글램 멤버 다희 확인\". Sports World i. Archived from the original on July 22, 2018. Retrieved July 22, 2018.\\n- ^ 이지연, 이병헌에 집 사달라 요구하며 \"얼마나 이미지 타격 있는지 아냐\". The Korean Economic Daily (in Korean). October 1, 2014. Archived from the original on July 22, 2018. Retrieved July 22, 2018.\\n- ^ Kwon, Hye-rim (September 4, 2014). 이병헌 측 \"악성 루머 2차 피해, 법적 대응할 것\"(전문). Joy News 24 (in Korean). Archived from the original on July 22, 2018. Retrieved July 22, 2018.\\n- ^ a b Jun, Hyung-hwa (September 11, 2014). 이병헌 \"결별? 중형 피하려 의도적 흠집내기\"(공식입장 전문. Star News (in Korean). Archived from the original on July 22, 2018. Retrieved July 22, 2018.\\n- ^ Lee, Yoo-jung (September 30, 2014). 배우 이병헌 \\'음담패설 동영상\\' 협박한 다희·이지연 구속기소. The Korea Daily (in Korean). Archived from the original on July 22, 2018. Retrieved July 22, 2018.\\n- ^ Ock, Hyun-ju (September 11, 2014). \"Lee Byung-hun blackmailer claims they dated\". Kpop Herald. Archived from the original on July 23, 2018. Retrieved July 23, 2018.\\n- ^ Jung, Yoon-chul (September 11, 2014). 이병헌 협박한 女모델측 변호인 \"결별 통보에 상처받아 우발범행\". News Donga (in Korean). Archived from the original on July 22, 2018. Retrieved July 22, 2018.\\n- ^ Chung, Joo-won (September 30, 2014). \"Women demanded house from Lee Byung-hun: prosecutors\". Kpop Herald. Archived from the original on July 23, 2018. Retrieved July 23, 2018.\\n- ^ Shin Na-ri (January 15, 2015). 이병헌 협박 혐의 이지연-다희 실형 선고…법원 \"연인 아니다\". The Dong-a Ilbo (in Korean). Archived from the original on January 15, 2015. Retrieved January 15, 2015.\\n- ^ \"Court sentence Lee Byung-hun blackmailers to jail\". Kpop Herald. January 15, 2015. Archived from the original on July 23, 2018. Retrieved July 23, 2018.\\n- ^ Kim, Yoon-ji (January 15, 2015). \\'이병헌 협박 혐의\\' 이지연·다희, 유죄 판결…결국 실형. Osen (in Korean). Archived from the original on July 22, 2018. Retrieved July 22, 2018.\\n- ^ \"Prosecution in charge of Lee Byung-hun files appellate brief\". Kpop Herald. February 25, 2015. Archived from the original on July 23, 2018. Retrieved July 23, 2018.\\n- ^ \"Lee Byung-hun\\'s blackmailers get suspended jail terms\". Kpop Herald. Archived from the original on July 12, 2018. Retrieved April 23, 2015.\\nExternal links[edit]\\n- Official website (in Korean)\\n- Lee Byung-hun at IMDb\\n- Lee Byung-hun at the Korean Movie Database\\n- Lee Byung-hun at HanCinema\\n- Best Actor Paeksang Arts Award (film) winners\\n- Best Actor Paeksang Arts Award (television) winners\\n- Best Actor Blue Dragon Film Awards winners\\n- Best Actor for Grand Bell Awards winners\\n- Best New Actor for Grand Bell Awards winners\\n- 1970 births\\n- Hanyang University alumni\\n- Living people\\n- Male actors from Seoul\\n- South Korean male film actors\\n- South Korean male television actors\\n- South Korean expatriates in the United States\\n- 21st-century South Korean male actors\\n- 20th-century South Korean male actors\\n- Best Actor Asian Film Award winners\\n- South Korean male taekwondo practitioners\\n- Asia Pacific Screen Award winners\\n- Grand Prize Paeksang Arts Award (Film) winners']"
      ]
     },
     "execution_count": 23,
     "metadata": {},
     "output_type": "execute_result"
    }
   ],
   "source": [
    "docs"
   ]
  },
  {
   "cell_type": "markdown",
   "id": "2521a015-9695-4d49-a912-f02413c372b9",
   "metadata": {},
   "source": [
    "# 2. Extract information\n",
    "\n",
    "- [Sagemaker Jumpstart](https://aws.amazon.com/blogs/machine-learning/llama-2-foundation-models-from-meta-are-now-available-in-amazon-sagemaker-jumpstart/) 를 이용하여 Llama2 배포\n",
    "- Llama2 를 이용하여 정보를 추출한다\n",
    "\n",
    "---\n",
    "\n",
    "## Sagemaker Endpoint 설정\n",
    "\n",
    "- Llama2 70B chat 모델을 us-east-1 리전에 배포했다고 가정한다."
   ]
  },
  {
   "cell_type": "code",
   "execution_count": 24,
   "id": "83408918-dcba-4580-91f9-d04ab46016b0",
   "metadata": {},
   "outputs": [],
   "source": [
    "profile_name = None\n",
    "region = 'us-east-1'"
   ]
  },
  {
   "cell_type": "code",
   "execution_count": 25,
   "id": "183e2f0f-32cc-43bf-8daa-b6c745fe37a9",
   "metadata": {},
   "outputs": [],
   "source": [
    "boto_session = boto3.Session(\n",
    "    profile_name=profile_name,\n",
    "    region_name=region,\n",
    ")\n",
    "smclient = boto3.client('sagemaker')\n",
    "smsession = Session(boto_session=boto_session, sagemaker_client=smclient)"
   ]
  },
  {
   "cell_type": "code",
   "execution_count": 26,
   "id": "d557253e-9843-48de-9639-5245bc468df6",
   "metadata": {},
   "outputs": [],
   "source": [
    "endpoint_name = 'jumpstart-dft-meta-textgeneration-llama-2-70b-f'"
   ]
  },
  {
   "cell_type": "code",
   "execution_count": 27,
   "id": "fb9b59a6-ff2e-4db3-8c44-70dd728e88be",
   "metadata": {},
   "outputs": [],
   "source": [
    "predictor = Predictor(\n",
    "    sagemaker_session=smsession,\n",
    "    serializer=JSONSerializer(content_type='application/json'),\n",
    "    deserializer = JSONDeserializer(accept='application/json'),\n",
    "    endpoint_name=endpoint_name,\n",
    ")"
   ]
  },
  {
   "cell_type": "markdown",
   "id": "b3f23916-06aa-4611-9182-198973fa4964",
   "metadata": {},
   "source": [
    "- 청크로 나누고 정보를 추출한다.\n",
    "- 프롬프트에서 JSON 형태로 결과를 출력하도록 유도한다.\n",
    "- 누락되면 안되는 정보를 누락하지 않도록, Chain of thought 방식으로 표현할 정보를 조정한다."
   ]
  },
  {
   "cell_type": "code",
   "execution_count": 31,
   "id": "3ad74533-a60c-4fb3-8082-35557a32a927",
   "metadata": {},
   "outputs": [],
   "source": [
    "system_prompt = \"\"\"\n",
    "Extract relevant information from the user text to build a topic model. \\\n",
    "The user text is enclosed in tripple backticks (```).\n",
    "Only output the JSON object, with nothing else. Make sure JSON output is enclosed a braces ({}).\n",
    "\n",
    "Follow these steps to extract information from the user text.\n",
    "\n",
    "Step 1: List informative keywords that helps to understand the text.\n",
    "\n",
    "Step 2: If the text contains informative name of entities, List them.\n",
    "\n",
    "Step 3: Provide summary of the text in about 50 words. \\\n",
    "The summary should containing as many keywords and entities in the previous step as possible. \\\n",
    "The information must not contain any code. Do not provide any sample code in the information.\n",
    "\n",
    "Provide response as a JSON object with the following schema:\n",
    "{\"keywords\": <step 1 reasoning>, \"entities\": <step 2 reasoning>, \"summary\": <step 3 reasoning>}\n",
    "\"\"\".strip()\n",
    "\n",
    "def _chunk_inputs(chunk):\n",
    "    return [[\n",
    "        {\"role\": \"system\", \"content\": system_prompt},\n",
    "        {\"role\": \"user\", \"content\": f'```{chunk}```'},\n",
    "    ]]\n",
    "\n",
    "def extract_info(chunk):\n",
    "    payload = {\n",
    "        \"inputs\": _chunk_inputs(chunk),\n",
    "        \"parameters\": {\n",
    "            \"max_new_tokens\": 2048,\n",
    "            \"top_p\": 0.9,\n",
    "            \"temperature\": 0.01,\n",
    "        }\n",
    "    }\n",
    "    response = predictor.predict(payload, custom_attributes='accept_eula=true')\n",
    "    resp_text = response[0]['generation']['content']\n",
    "    try:\n",
    "        return json.loads(resp_text)\n",
    "    except:\n",
    "        print(resp_text)\n",
    "        return None"
   ]
  },
  {
   "cell_type": "code",
   "execution_count": 32,
   "id": "5989997f-ff71-4ab2-bb8b-0940fbfc2a2d",
   "metadata": {},
   "outputs": [
    {
     "name": "stdout",
     "output_type": "stream",
     "text": [
      "start extracting info from doc_id: 0, length: 37411, num_tokens: 11492, chunk_size: 1436\n",
      "chunk-0(5734), chunk-1(5984), chunk-2(5447), chunk-3(4579), chunk-4(4741), chunk-5(3894), chunk-6(3493), chunk-7(3367), chunk-8(695), chunks: 9...\n",
      "CPU times: user 144 ms, sys: 19.2 ms, total: 163 ms\n",
      "Wall time: 2min 56s\n"
     ]
    }
   ],
   "source": [
    "%%time\n",
    "\n",
    "model_name = 'gpt-3.5-turbo'\n",
    "\n",
    "doc_infos = []\n",
    "for doc_id, doc in enumerate(docs):\n",
    "    # try to split into ~6 chunks\n",
    "    encoding = tiktoken.encoding_for_model(model_name)\n",
    "    num_tokens = len(encoding.encode(doc))\n",
    "    chunk_size = num_tokens//8 if num_tokens > 512 else num_tokens\n",
    "    print(f'start extracting info from doc_id: {doc_id}, length: {len(doc)}, num_tokens: {num_tokens}, chunk_size: {chunk_size}')\n",
    "    \n",
    "    splitter = TokenTextSplitter.from_tiktoken_encoder(\n",
    "        model_name=model_name,\n",
    "        chunk_size=chunk_size,\n",
    "        chunk_overlap=20,\n",
    "    )\n",
    "    each_info = []\n",
    "    for chunk_idx, chunk in enumerate(splitter.split_text(doc)):\n",
    "        print(f'chunk-{chunk_idx}({len(chunk)}), ', end='')\n",
    "        info = extract_info(chunk)\n",
    "        if info is None:\n",
    "            print(f'invalid output. ', end='')\n",
    "        else:\n",
    "            each_info.append(info)\n",
    "    print(f'chunks: {len(each_info)}...')\n",
    "    \n",
    "    doc_infos.append(each_info)"
   ]
  },
  {
   "cell_type": "code",
   "execution_count": 33,
   "id": "f864c0c8-1aeb-402a-83c7-9243cd30a4f1",
   "metadata": {},
   "outputs": [
    {
     "data": {
      "text/plain": [
       "{'keywords': ['Paeksang Arts Award',\n",
       "  'Best Actor',\n",
       "  'Blue Dragon Film Awards',\n",
       "  'Grand Bell Awards',\n",
       "  'Hanyang University',\n",
       "  'Living people',\n",
       "  'Male actors',\n",
       "  'Seoul',\n",
       "  'South Korean',\n",
       "  'film actors',\n",
       "  'television actors',\n",
       "  'expatriates',\n",
       "  'United States',\n",
       "  '21st-century',\n",
       "  '20th-century',\n",
       "  'Asian Film Award',\n",
       "  'taekwondo practitioners',\n",
       "  'Asia Pacific Screen Award',\n",
       "  'Grand Prize Paeksang Arts Award'],\n",
       " 'entities': ['HanCinema', 'South Korea'],\n",
       " 'summary': 'HanCinema is a South Korean actor who has won various awards for his performances in film and television, including Best Actor at the Paeksang Arts Awards, Blue Dragon Film Awards, and Grand Bell Awards. He has also won awards for his work in the 21st and 20th centuries and is known for his taekwondo skills.'}"
      ]
     },
     "execution_count": 33,
     "metadata": {},
     "output_type": "execute_result"
    }
   ],
   "source": [
    "doc_infos[0][-1]"
   ]
  },
  {
   "cell_type": "markdown",
   "id": "40a77ff5-e58f-4f8a-af0a-9bf6a82e3a63",
   "metadata": {},
   "source": [
    "# 3. Save to file\n",
    "\n",
    "- 각 청크단위의 정보를 하나로 합쳐셔 저장"
   ]
  },
  {
   "cell_type": "code",
   "execution_count": 34,
   "id": "6fa9d4bc-8d29-4723-a84f-3bb0789071c6",
   "metadata": {},
   "outputs": [],
   "source": [
    "now = datetime.now().strftime('%Y%m%dT%H%M')\n",
    "with open(f'./dataset-{now}.jsonl', 'w') as fp:\n",
    "    for idx, doc_info in enumerate(doc_infos):\n",
    "        keywords = []\n",
    "        entities = []\n",
    "        summary = []\n",
    "        for el in doc_info:\n",
    "            keywords.extend(el['keywords'])\n",
    "            entities.extend(el['entities'])\n",
    "            summary.append(el['summary'])\n",
    "        D = {\n",
    "            'keywords': list(set(keywords)),\n",
    "            'entities': list(set(entities)),\n",
    "            'summary': '\\n'.join(summary),\n",
    "            'url': urls[idx],\n",
    "        }\n",
    "        fp.write(f'{json.dumps(D)}\\n')"
   ]
  },
  {
   "cell_type": "code",
   "execution_count": null,
   "id": "dbffa6e2-a0a0-472b-ac09-af5ec4879e42",
   "metadata": {},
   "outputs": [],
   "source": []
  },
  {
   "cell_type": "code",
   "execution_count": null,
   "id": "cc7b1b6e-f320-4ad5-9bb8-4c50a130a880",
   "metadata": {},
   "outputs": [],
   "source": []
  }
 ],
 "metadata": {
  "kernelspec": {
   "display_name": "Python 3 (ipykernel)",
   "language": "python",
   "name": "python3"
  },
  "language_info": {
   "codemirror_mode": {
    "name": "ipython",
    "version": 3
   },
   "file_extension": ".py",
   "mimetype": "text/x-python",
   "name": "python",
   "nbconvert_exporter": "python",
   "pygments_lexer": "ipython3",
   "version": "3.11.4"
  }
 },
 "nbformat": 4,
 "nbformat_minor": 5
}
