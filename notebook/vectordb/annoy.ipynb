{
 "cells": [
  {
   "cell_type": "code",
   "execution_count": 44,
   "id": "821f7009-1811-446e-bad6-777abbd84f01",
   "metadata": {},
   "outputs": [
    {
     "name": "stdout",
     "output_type": "stream",
     "text": [
      "huggingface/tokenizers: The current process just got forked, after parallelism has already been used. Disabling parallelism to avoid deadlocks...\n",
      "To disable this warning, you can either:\n",
      "\t- Avoid using `tokenizers` before the fork if possible\n",
      "\t- Explicitly set the environment variable TOKENIZERS_PARALLELISM=(true | false)\n"
     ]
    }
   ],
   "source": [
    "!pip -q install -U annoy sentence-transformers"
   ]
  },
  {
   "cell_type": "code",
   "execution_count": 45,
   "id": "e1104cc6-3811-400d-806c-4fa1e0c8522e",
   "metadata": {},
   "outputs": [],
   "source": [
    "from annoy import AnnoyIndex\n",
    "from sentence_transformers import SentenceTransformer"
   ]
  },
  {
   "cell_type": "code",
   "execution_count": 68,
   "id": "413cd235-b514-42c5-b7fc-1e57879b6ded",
   "metadata": {},
   "outputs": [],
   "source": [
    "embedding_model = SentenceTransformer('all-MiniLM-L6-v2')"
   ]
  },
  {
   "cell_type": "code",
   "execution_count": 78,
   "id": "3fde7aa4-089c-4f16-8f5a-f56d52d568cb",
   "metadata": {},
   "outputs": [],
   "source": [
    "f = 384\n",
    "t = AnnoyIndex(f, 'angular')"
   ]
  },
  {
   "cell_type": "code",
   "execution_count": 79,
   "id": "526d3230-1ffb-4b7b-94f6-844aeab9f0a3",
   "metadata": {},
   "outputs": [],
   "source": [
    "docs = [\"This is the best document\", \"This is another document\", \"This is other document\"]"
   ]
  },
  {
   "cell_type": "code",
   "execution_count": 80,
   "id": "6855e846-b696-41fb-8426-0aa34da27b53",
   "metadata": {},
   "outputs": [],
   "source": [
    "embeddings = [\n",
    "    embedding_model.encode(doc)\n",
    "    for doc in docs\n",
    "]   "
   ]
  },
  {
   "cell_type": "code",
   "execution_count": 81,
   "id": "537d3779-137b-4799-96a2-97e89f4dae3c",
   "metadata": {},
   "outputs": [
    {
     "data": {
      "text/plain": [
       "(384,)"
      ]
     },
     "execution_count": 81,
     "metadata": {},
     "output_type": "execute_result"
    }
   ],
   "source": [
    "embeddings[0].shape"
   ]
  },
  {
   "cell_type": "code",
   "execution_count": 82,
   "id": "18789f9e-606c-46ef-a892-c73d47f2032b",
   "metadata": {},
   "outputs": [],
   "source": [
    "for i, v in enumerate(embeddings):\n",
    "    t.add_item(i, v)"
   ]
  },
  {
   "cell_type": "code",
   "execution_count": 83,
   "id": "3185ceb6-ba20-4d46-b6d3-bf29f1819746",
   "metadata": {},
   "outputs": [
    {
     "data": {
      "text/plain": [
       "True"
      ]
     },
     "execution_count": 83,
     "metadata": {},
     "output_type": "execute_result"
    }
   ],
   "source": [
    "t.build(16)\n",
    "t.save('test.ann')"
   ]
  },
  {
   "cell_type": "code",
   "execution_count": 84,
   "id": "a67dfe8e-29f2-4b76-8096-934c076bd1ab",
   "metadata": {},
   "outputs": [
    {
     "data": {
      "text/plain": [
       "True"
      ]
     },
     "execution_count": 84,
     "metadata": {},
     "output_type": "execute_result"
    }
   ],
   "source": [
    "u = AnnoyIndex(f, 'angular')\n",
    "u.load('test.ann')"
   ]
  },
  {
   "cell_type": "code",
   "execution_count": 86,
   "id": "46d6ad41-48e4-4307-a3e0-3c8436ea4806",
   "metadata": {},
   "outputs": [
    {
     "name": "stdout",
     "output_type": "stream",
     "text": [
      "([0, 1], [1.1478575468063354, 1.1581506729125977])\n"
     ]
    }
   ],
   "source": [
    "vec = embedding_model.encode('best another')\n",
    "print(u.get_nns_by_vector(vec, 2, include_distances=True))"
   ]
  },
  {
   "cell_type": "code",
   "execution_count": null,
   "id": "b27ffda5-c346-488c-b670-f38357eb780d",
   "metadata": {},
   "outputs": [],
   "source": []
  }
 ],
 "metadata": {
  "kernelspec": {
   "display_name": "Python 3 (ipykernel)",
   "language": "python",
   "name": "python3"
  },
  "language_info": {
   "codemirror_mode": {
    "name": "ipython",
    "version": 3
   },
   "file_extension": ".py",
   "mimetype": "text/x-python",
   "name": "python",
   "nbconvert_exporter": "python",
   "pygments_lexer": "ipython3",
   "version": "3.11.4"
  }
 },
 "nbformat": 4,
 "nbformat_minor": 5
}
