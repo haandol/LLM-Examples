{
 "cells": [
  {
   "cell_type": "code",
   "execution_count": 48,
   "id": "821f7009-1811-446e-bad6-777abbd84f01",
   "metadata": {},
   "outputs": [
    {
     "name": "stdout",
     "output_type": "stream",
     "text": [
      "huggingface/tokenizers: The current process just got forked, after parallelism has already been used. Disabling parallelism to avoid deadlocks...\n",
      "To disable this warning, you can either:\n",
      "\t- Avoid using `tokenizers` before the fork if possible\n",
      "\t- Explicitly set the environment variable TOKENIZERS_PARALLELISM=(true | false)\n"
     ]
    }
   ],
   "source": [
    "!pip -q install -U hnswlib sentence-transformers"
   ]
  },
  {
   "cell_type": "code",
   "execution_count": 49,
   "id": "e1104cc6-3811-400d-806c-4fa1e0c8522e",
   "metadata": {},
   "outputs": [],
   "source": [
    "import numpy as np\n",
    "import hnswlib\n",
    "from sentence_transformers import SentenceTransformer"
   ]
  },
  {
   "cell_type": "code",
   "execution_count": 50,
   "id": "413cd235-b514-42c5-b7fc-1e57879b6ded",
   "metadata": {},
   "outputs": [],
   "source": [
    "embedding_model = SentenceTransformer('all-MiniLM-L6-v2')"
   ]
  },
  {
   "cell_type": "code",
   "execution_count": 65,
   "id": "3fde7aa4-089c-4f16-8f5a-f56d52d568cb",
   "metadata": {},
   "outputs": [
    {
     "name": "stdout",
     "output_type": "stream",
     "text": [
      "<faiss.swigfaiss.HNSW; proxy of <Swig Object of type 'faiss::HNSW *' at 0x29b96b300> >\n"
     ]
    }
   ],
   "source": [
    "d = 384  # vector size\n",
    "M = 32\n",
    "ef_construction = 32  # number of entry points used on each layer\n",
    "ef_search = 32  # number of entry points (neighbors) we use on each layer\n",
    "index = faiss.IndexHNSWFlat(d, M)\n",
    "index.hnsw.efConstruction = ef_construction\n",
    "index.hnsw.efSearch = ef_search\n",
    "print(index.hnsw)"
   ]
  },
  {
   "cell_type": "code",
   "execution_count": 56,
   "id": "526d3230-1ffb-4b7b-94f6-844aeab9f0a3",
   "metadata": {},
   "outputs": [],
   "source": [
    "docs = [\"This is the best document\", \"This is another document\", \"This is other document\"]"
   ]
  },
  {
   "cell_type": "code",
   "execution_count": 57,
   "id": "6855e846-b696-41fb-8426-0aa34da27b53",
   "metadata": {},
   "outputs": [],
   "source": [
    "embeddings = [\n",
    "    embedding_model.encode(doc)\n",
    "    for doc in docs\n",
    "]   "
   ]
  },
  {
   "cell_type": "code",
   "execution_count": 58,
   "id": "537d3779-137b-4799-96a2-97e89f4dae3c",
   "metadata": {},
   "outputs": [
    {
     "data": {
      "text/plain": [
       "(384,)"
      ]
     },
     "execution_count": 58,
     "metadata": {},
     "output_type": "execute_result"
    }
   ],
   "source": [
    "embeddings[0].shape"
   ]
  },
  {
   "cell_type": "code",
   "execution_count": 59,
   "id": "18789f9e-606c-46ef-a892-c73d47f2032b",
   "metadata": {},
   "outputs": [],
   "source": [
    "index.add(np.array(embeddings))"
   ]
  },
  {
   "cell_type": "code",
   "execution_count": 64,
   "id": "b27ffda5-c346-488c-b670-f38357eb780d",
   "metadata": {},
   "outputs": [
    {
     "data": {
      "text/plain": [
       "(array([[0.32095528, 0.40956265]], dtype=float32), array([[2, 1]]))"
      ]
     },
     "execution_count": 64,
     "metadata": {},
     "output_type": "execute_result"
    }
   ],
   "source": [
    "q = embedding_model.encode('other document')\n",
    "index.search(np.array([q]), 2)"
   ]
  },
  {
   "cell_type": "code",
   "execution_count": 61,
   "id": "e1102caa-668d-4790-bd9e-238278eac7e0",
   "metadata": {},
   "outputs": [
    {
     "data": {
      "text/plain": [
       "(array([[0.32515976, 0.3900029 ]], dtype=float32), array([[1, 2]]))"
      ]
     },
     "execution_count": 61,
     "metadata": {},
     "output_type": "execute_result"
    }
   ],
   "source": [
    "q = embedding_model.encode('another document')\n",
    "index.search(np.array([q]), 2)"
   ]
  },
  {
   "cell_type": "code",
   "execution_count": null,
   "id": "b05f773a-2b74-4173-a792-8bbd94c63e8c",
   "metadata": {},
   "outputs": [],
   "source": []
  }
 ],
 "metadata": {
  "kernelspec": {
   "display_name": "Python 3 (ipykernel)",
   "language": "python",
   "name": "python3"
  },
  "language_info": {
   "codemirror_mode": {
    "name": "ipython",
    "version": 3
   },
   "file_extension": ".py",
   "mimetype": "text/x-python",
   "name": "python",
   "nbconvert_exporter": "python",
   "pygments_lexer": "ipython3",
   "version": "3.11.4"
  }
 },
 "nbformat": 4,
 "nbformat_minor": 5
}
